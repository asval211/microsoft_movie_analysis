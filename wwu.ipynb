{
 "cells": [
  {
   "cell_type": "markdown",
   "metadata": {},
   "source": [
    "![example](images/director_shot.jpeg)"
   ]
  },
  {
   "cell_type": "markdown",
   "metadata": {},
   "source": [
    "# Project Title\n",
    "\n",
    "**Authors:** Jordan, Alex, Warren\n",
    "***"
   ]
  },
  {
   "cell_type": "markdown",
   "metadata": {
    "heading_collapsed": true,
    "jp-MarkdownHeadingCollapsed": true,
    "tags": []
   },
   "source": [
    "## Overview\n",
    "\n",
    "A one-paragraph overview of the project, including the business problem, data, methods, results and recommendations."
   ]
  },
  {
   "cell_type": "markdown",
   "metadata": {
    "heading_collapsed": true,
    "jp-MarkdownHeadingCollapsed": true,
    "tags": []
   },
   "source": [
    "## Business Problem\n",
    "\n",
    "Summary of the business problem you are trying to solve, and the data questions that you plan to answer to solve them.\n",
    "\n",
    "***\n",
    "Questions to consider:\n",
    "* What are the business's pain points related to this project?\n",
    "* How did you pick the data analysis question(s) that you did?\n",
    "* Why are these questions important from a business perspective?\n",
    "***"
   ]
  },
  {
   "cell_type": "markdown",
   "metadata": {
    "heading_collapsed": true,
    "tags": []
   },
   "source": [
    "## Data Understanding\n",
    "\n",
    "Describe the data being used for this project.\n",
    "***\n",
    "Questions to consider:\n",
    "* Where did the data come from, and how do they relate to the data analysis questions?\n",
    "* What do the data represent? Who is in the sample and what variables are included?\n",
    "* What is the target variable?\n",
    "* What are the properties of the variables you intend to use?\n",
    "***\n",
    "\n",
    "### Look at available data\n",
    "\n",
    "First, I am looking at the information for each table. I am looking for the number of entries, column names, data types, and how many null values there are. I will not be using the bom.movie_gross data because I am not interested in the studio and the rest of the data is in tn.movies_budgets.\n",
    "\n",
    "The datasets that I am using are:\n",
    "    \n",
    "    - name.basics\n",
    "    - title.basics\n",
    "    - title.akas\n",
    "    - title.crew\n",
    "    - title.ratings\n",
    "    - title.principals\n",
    "\n",
    "What does each dataset contain?\n",
    "    \n",
    "    - name.basics\n",
    "        - nconst: a name id used for merging to other dataframes\n",
    "        - primary_name: The name associated with each primary profession\n",
    "        - birth_year: Birth year of primary_name\n",
    "        - death_year: Death year of primary_name\n",
    "        - primary_profession: comma separated professions related to the primary_name\n",
    "        - known_titles: id numbers that represent movies that the primary_name had a part in\n",
    "        \n",
    "    - title.basics\n",
    "        - tconst: a title id used for merging other dataframes\n",
    "        - primary_title: the movie name\n",
    "        - original_title: also the movie name\n",
    "        - start_year: year that the movie was released\n",
    "        - runtime_minutes: how long the movie is in minutes\n",
    "        - genres: all of the genres associated with the movie\n",
    "\n",
    "    These are merged into a dataframe called tcombo\n",
    "    \n",
    "    We will be using profit as a metric that we have defined to be $tcombo['worldwide_gross'] - tcombo['production_budget']$\n",
    "    \n",
    "    I will be looking at writers vs profit, region vs profit, and release month vs profit\n",
    "    "
   ]
  },
  {
   "cell_type": "code",
   "execution_count": 1,
   "metadata": {
    "hidden": true
   },
   "outputs": [],
   "source": [
    "# Import standard packages\n",
    "import pandas as pd\n",
    "import numpy as np\n",
    "import matplotlib.pyplot as plt\n",
    "import seaborn as sns\n",
    "sns.set()\n",
    "%matplotlib inline"
   ]
  },
  {
   "cell_type": "markdown",
   "metadata": {
    "hidden": true,
    "tags": []
   },
   "source": [
    "#### Looking at the tables"
   ]
  },
  {
   "cell_type": "code",
   "execution_count": 2,
   "metadata": {
    "hidden": true
   },
   "outputs": [],
   "source": [
    "nb = pd.read_csv('data/zippedData/imdb.name.basics.csv.gz')\n",
    "#nb.info()"
   ]
  },
  {
   "cell_type": "code",
   "execution_count": 3,
   "metadata": {
    "hidden": true
   },
   "outputs": [],
   "source": [
    "#nb.head(1)\n",
    "#actor names, years, profession, titles\n",
    "#seems less than ideal\n",
    "#might be able to join known_for_titles with tkas etc"
   ]
  },
  {
   "cell_type": "code",
   "execution_count": 4,
   "metadata": {
    "hidden": true
   },
   "outputs": [],
   "source": [
    "takas = pd.read_csv('data/zippedData/imdb.title.akas.csv.gz')\n",
    "#takas.info()"
   ]
  },
  {
   "cell_type": "code",
   "execution_count": 5,
   "metadata": {
    "hidden": true
   },
   "outputs": [],
   "source": [
    "#takas.head(1)"
   ]
  },
  {
   "cell_type": "code",
   "execution_count": 6,
   "metadata": {
    "hidden": true
   },
   "outputs": [],
   "source": [
    "tbase = pd.read_csv('data/zippedData/imdb.title.basics.csv.gz')\n",
    "#tbase.columns"
   ]
  },
  {
   "cell_type": "code",
   "execution_count": 7,
   "metadata": {
    "hidden": true
   },
   "outputs": [],
   "source": [
    "#tbase.head(1)\n",
    "#might try to combine with above on title_id and tconst?"
   ]
  },
  {
   "cell_type": "code",
   "execution_count": 8,
   "metadata": {
    "hidden": true
   },
   "outputs": [],
   "source": [
    "tcrew = pd.read_csv('data/zippedData/imdb.title.crew.csv.gz')\n",
    "#tcrew.info()"
   ]
  },
  {
   "cell_type": "code",
   "execution_count": 9,
   "metadata": {
    "hidden": true
   },
   "outputs": [],
   "source": [
    "#tcrew.head(1)"
   ]
  },
  {
   "cell_type": "code",
   "execution_count": 10,
   "metadata": {
    "hidden": true
   },
   "outputs": [],
   "source": [
    "tprinc = pd.read_csv('data/zippedData/imdb.title.principals.csv.gz')\n",
    "#tprinc.info()"
   ]
  },
  {
   "cell_type": "code",
   "execution_count": 11,
   "metadata": {
    "hidden": true
   },
   "outputs": [],
   "source": [
    "#tprinc.head(1)\n",
    "#unsure of what this data is, but looks like tconst can be used to combine"
   ]
  },
  {
   "cell_type": "code",
   "execution_count": 12,
   "metadata": {
    "hidden": true
   },
   "outputs": [],
   "source": [
    "trat = pd.read_csv('data/zippedData/imdb.title.ratings.csv.gz')\n",
    "#trat.info()"
   ]
  },
  {
   "cell_type": "code",
   "execution_count": 13,
   "metadata": {
    "hidden": true
   },
   "outputs": [],
   "source": [
    "#trat.head(1)\n",
    "#combine this rating with tcrew, tbase, takas on tconst column"
   ]
  },
  {
   "cell_type": "code",
   "execution_count": 14,
   "metadata": {
    "hidden": true
   },
   "outputs": [],
   "source": [
    "#tmdb = pd.read_csv('data/tmdb.movies.csv')\n",
    "#tmdb.info()\n",
    "\n",
    "#not using tmdb"
   ]
  },
  {
   "cell_type": "code",
   "execution_count": 15,
   "metadata": {
    "hidden": true
   },
   "outputs": [],
   "source": [
    "#tmdb.head(1)"
   ]
  },
  {
   "cell_type": "code",
   "execution_count": 16,
   "metadata": {
    "hidden": true
   },
   "outputs": [],
   "source": [
    "tn = pd.read_csv('data/zippedData/tn.movie_budgets.csv.gz')\n",
    "#tn.info()"
   ]
  },
  {
   "cell_type": "code",
   "execution_count": 17,
   "metadata": {
    "hidden": true
   },
   "outputs": [],
   "source": [
    "#tn.head(10)\n",
    "#looks similar to bmg, but has movie name"
   ]
  },
  {
   "cell_type": "code",
   "execution_count": 18,
   "metadata": {},
   "outputs": [],
   "source": [
    "#nb = pd.read_csv('data/name.basics.csv')\n",
    "#nb.head()"
   ]
  },
  {
   "cell_type": "markdown",
   "metadata": {
    "heading_collapsed": true,
    "tags": []
   },
   "source": [
    "## Data Preparation\n",
    "\n",
    "Describe and justify the process for preparing the data for analysis.\n",
    "\n",
    "***\n",
    "Questions to consider:\n",
    "* Were there variables you dropped or created?\n",
    "* How did you address missing values or outliers?\n",
    "* Why are these choices appropriate given the data and the business problem?\n",
    "***\n",
    "\n",
    "Now that I have looked at all of the information available, I am going to combine some of them into two dataframes.\n",
    "The first, will be a data frame that contains the title csv's. These will be outer joined on the tconst column so that I don't loose any data. The tconst column is an id for each movie.\n",
    "\n",
    "Next, I drop rows with null in all columns except the domestic and worldwide gross. It is fine if either domestic_gross or worldwide_gross is zero, but not both. I did not want to drop too much data so this is where I drew the line.\n",
    "\n",
    "Our target variable is the profit that each movie makes. I added a profit column that is the difference in the worldwide gross and the budget of the film.\n"
   ]
  },
  {
   "cell_type": "markdown",
   "metadata": {},
   "source": [
    "The first step is to load in all of the tables that I am using and them merge them together. I used the tconst column and nconst column to merge them. I used an outer merge for all of these so that I don't loose data in this step. Later, I will drop some rows with null values and drop some columns.\n",
    "\n",
    "I will drop thses columns:\n",
    "-    'language',\n",
    "-    'types',\n",
    "-    'attributes',\n",
    "-    'is_original_title',\n",
    "-    'ordering_x',\n",
    "-    'ordering_y',\n",
    "-    'original_title',\n",
    "-    'numvotes',\n",
    "-    'birth_year',\n",
    "-    'death_year'\n",
    "\n",
    "I am still left with a lot of null values so I will drop nulls from the following columns:\n",
    "-    'tconst',\n",
    "-    'averagerating',\n",
    "-    'directors',\n",
    "-    'writers',\n",
    "-    'movie',\n",
    "-    'start_year',\n",
    "-    'runtime_minutes',\n",
    "-    'genres',\n",
    "-    'title',\n",
    "-    'region',\n",
    "-    'id',\n",
    "-    'release_date',\n",
    "-    'production_budget'"
   ]
  },
  {
   "cell_type": "markdown",
   "metadata": {
    "hidden": true
   },
   "source": [
    "This is where I make sure that the tconst column name is consistient. I had to rename the column in title.akas before merging. I used an outer merge so that I can explicitly drop the data that I don't want."
   ]
  },
  {
   "cell_type": "code",
   "execution_count": 19,
   "metadata": {
    "hidden": true
   },
   "outputs": [],
   "source": [
    "#rename takas['title_id'] to takas['tconst'] to that we can use it to merge on\n",
    "takas.rename(columns={'title_id':'tconst'},inplace=True)"
   ]
  },
  {
   "cell_type": "code",
   "execution_count": 20,
   "metadata": {
    "hidden": true
   },
   "outputs": [
    {
     "data": {
      "text/html": [
       "<div>\n",
       "<style scoped>\n",
       "    .dataframe tbody tr th:only-of-type {\n",
       "        vertical-align: middle;\n",
       "    }\n",
       "\n",
       "    .dataframe tbody tr th {\n",
       "        vertical-align: top;\n",
       "    }\n",
       "\n",
       "    .dataframe thead th {\n",
       "        text-align: right;\n",
       "    }\n",
       "</style>\n",
       "<table border=\"1\" class=\"dataframe\">\n",
       "  <thead>\n",
       "    <tr style=\"text-align: right;\">\n",
       "      <th></th>\n",
       "      <th>tconst</th>\n",
       "      <th>averagerating</th>\n",
       "      <th>numvotes</th>\n",
       "      <th>directors</th>\n",
       "      <th>writers</th>\n",
       "      <th>primary_title</th>\n",
       "      <th>original_title</th>\n",
       "      <th>start_year</th>\n",
       "      <th>runtime_minutes</th>\n",
       "      <th>genres</th>\n",
       "      <th>...</th>\n",
       "      <th>ordering_y</th>\n",
       "      <th>nconst</th>\n",
       "      <th>category</th>\n",
       "      <th>job</th>\n",
       "      <th>characters</th>\n",
       "      <th>primary_name</th>\n",
       "      <th>birth_year</th>\n",
       "      <th>death_year</th>\n",
       "      <th>primary_profession</th>\n",
       "      <th>known_for_titles</th>\n",
       "    </tr>\n",
       "  </thead>\n",
       "  <tbody>\n",
       "    <tr>\n",
       "      <th>0</th>\n",
       "      <td>tt10356526</td>\n",
       "      <td>8.3</td>\n",
       "      <td>31.0</td>\n",
       "      <td>nm8353804</td>\n",
       "      <td>nm3057599,nm4179342</td>\n",
       "      <td>Laiye Je Yaarian</td>\n",
       "      <td>Laiye Je Yaarian</td>\n",
       "      <td>2019.0</td>\n",
       "      <td>117.0</td>\n",
       "      <td>Romance</td>\n",
       "      <td>...</td>\n",
       "      <td>10.0</td>\n",
       "      <td>nm8994524</td>\n",
       "      <td>production_designer</td>\n",
       "      <td>NaN</td>\n",
       "      <td>NaN</td>\n",
       "      <td>Kazi Rafik Ali</td>\n",
       "      <td>NaN</td>\n",
       "      <td>NaN</td>\n",
       "      <td>production_designer,art_department</td>\n",
       "      <td>tt9190740,tt2837596,tt4773212,tt8749962</td>\n",
       "    </tr>\n",
       "  </tbody>\n",
       "</table>\n",
       "<p>1 rows × 27 columns</p>\n",
       "</div>"
      ],
      "text/plain": [
       "       tconst  averagerating  numvotes  directors              writers  \\\n",
       "0  tt10356526            8.3      31.0  nm8353804  nm3057599,nm4179342   \n",
       "\n",
       "      primary_title    original_title  start_year  runtime_minutes   genres  \\\n",
       "0  Laiye Je Yaarian  Laiye Je Yaarian      2019.0            117.0  Romance   \n",
       "\n",
       "   ...  ordering_y     nconst             category  job characters  \\\n",
       "0  ...        10.0  nm8994524  production_designer  NaN        NaN   \n",
       "\n",
       "     primary_name  birth_year  death_year                  primary_profession  \\\n",
       "0  Kazi Rafik Ali         NaN         NaN  production_designer,art_department   \n",
       "\n",
       "                          known_for_titles  \n",
       "0  tt9190740,tt2837596,tt4773212,tt8749962  \n",
       "\n",
       "[1 rows x 27 columns]"
      ]
     },
     "execution_count": 20,
     "metadata": {},
     "output_type": "execute_result"
    }
   ],
   "source": [
    "#trat join with tcrew, tbase, takas on tconst column\n",
    "#used outer to keep all data so I can drop later\n",
    "tcombo = trat.merge(tcrew,how='outer',on='tconst')\n",
    "tcombo = tcombo.merge(tbase,how='outer',on='tconst')\n",
    "tcombo = tcombo.merge(takas,how='outer',on='tconst')\n",
    "tcombo = tcombo.merge(tprinc,how='outer',on='tconst')\n",
    "tcombo = tcombo.merge(nb,how='outer',on='nconst')\n",
    "tcombo.head(1)"
   ]
  },
  {
   "cell_type": "markdown",
   "metadata": {},
   "source": [
    "It looks like all the columns are here, but the primary_title column needs to be renamed so we can use it to merge with tn.movie_budgets."
   ]
  },
  {
   "cell_type": "code",
   "execution_count": 21,
   "metadata": {
    "hidden": true
   },
   "outputs": [],
   "source": [
    "#change tcombo['primary_title'] to movie\n",
    "tcombo.rename(columns={'primary_title':'movie'},inplace=True)"
   ]
  },
  {
   "cell_type": "code",
   "execution_count": 22,
   "metadata": {
    "hidden": true
   },
   "outputs": [],
   "source": [
    "tcombo = tcombo.merge(tn,how='outer',on='movie')\n",
    "#tcombo"
   ]
  },
  {
   "cell_type": "markdown",
   "metadata": {},
   "source": [
    "Look at the columns now. primary_title was changed to movie"
   ]
  },
  {
   "cell_type": "code",
   "execution_count": 23,
   "metadata": {
    "hidden": true
   },
   "outputs": [
    {
     "data": {
      "text/html": [
       "<div>\n",
       "<style scoped>\n",
       "    .dataframe tbody tr th:only-of-type {\n",
       "        vertical-align: middle;\n",
       "    }\n",
       "\n",
       "    .dataframe tbody tr th {\n",
       "        vertical-align: top;\n",
       "    }\n",
       "\n",
       "    .dataframe thead th {\n",
       "        text-align: right;\n",
       "    }\n",
       "</style>\n",
       "<table border=\"1\" class=\"dataframe\">\n",
       "  <thead>\n",
       "    <tr style=\"text-align: right;\">\n",
       "      <th></th>\n",
       "      <th>tconst</th>\n",
       "      <th>averagerating</th>\n",
       "      <th>numvotes</th>\n",
       "      <th>directors</th>\n",
       "      <th>writers</th>\n",
       "      <th>movie</th>\n",
       "      <th>original_title</th>\n",
       "      <th>start_year</th>\n",
       "      <th>runtime_minutes</th>\n",
       "      <th>genres</th>\n",
       "      <th>...</th>\n",
       "      <th>primary_name</th>\n",
       "      <th>birth_year</th>\n",
       "      <th>death_year</th>\n",
       "      <th>primary_profession</th>\n",
       "      <th>known_for_titles</th>\n",
       "      <th>id</th>\n",
       "      <th>release_date</th>\n",
       "      <th>production_budget</th>\n",
       "      <th>domestic_gross</th>\n",
       "      <th>worldwide_gross</th>\n",
       "    </tr>\n",
       "  </thead>\n",
       "  <tbody>\n",
       "    <tr>\n",
       "      <th>0</th>\n",
       "      <td>tt10356526</td>\n",
       "      <td>8.3</td>\n",
       "      <td>31.0</td>\n",
       "      <td>nm8353804</td>\n",
       "      <td>nm3057599,nm4179342</td>\n",
       "      <td>Laiye Je Yaarian</td>\n",
       "      <td>Laiye Je Yaarian</td>\n",
       "      <td>2019.0</td>\n",
       "      <td>117.0</td>\n",
       "      <td>Romance</td>\n",
       "      <td>...</td>\n",
       "      <td>Kazi Rafik Ali</td>\n",
       "      <td>NaN</td>\n",
       "      <td>NaN</td>\n",
       "      <td>production_designer,art_department</td>\n",
       "      <td>tt9190740,tt2837596,tt4773212,tt8749962</td>\n",
       "      <td>NaN</td>\n",
       "      <td>NaN</td>\n",
       "      <td>NaN</td>\n",
       "      <td>NaN</td>\n",
       "      <td>NaN</td>\n",
       "    </tr>\n",
       "  </tbody>\n",
       "</table>\n",
       "<p>1 rows × 32 columns</p>\n",
       "</div>"
      ],
      "text/plain": [
       "       tconst  averagerating  numvotes  directors              writers  \\\n",
       "0  tt10356526            8.3      31.0  nm8353804  nm3057599,nm4179342   \n",
       "\n",
       "              movie    original_title  start_year  runtime_minutes   genres  \\\n",
       "0  Laiye Je Yaarian  Laiye Je Yaarian      2019.0            117.0  Romance   \n",
       "\n",
       "   ...    primary_name birth_year death_year  \\\n",
       "0  ...  Kazi Rafik Ali        NaN        NaN   \n",
       "\n",
       "                   primary_profession  \\\n",
       "0  production_designer,art_department   \n",
       "\n",
       "                          known_for_titles  id  release_date  \\\n",
       "0  tt9190740,tt2837596,tt4773212,tt8749962 NaN           NaN   \n",
       "\n",
       "   production_budget domestic_gross worldwide_gross  \n",
       "0                NaN            NaN             NaN  \n",
       "\n",
       "[1 rows x 32 columns]"
      ]
     },
     "execution_count": 23,
     "metadata": {},
     "output_type": "execute_result"
    }
   ],
   "source": [
    "tcombo.head(1)"
   ]
  },
  {
   "cell_type": "markdown",
   "metadata": {},
   "source": [
    "Now its time to drop columns that aren't needed."
   ]
  },
  {
   "cell_type": "code",
   "execution_count": 24,
   "metadata": {
    "hidden": true
   },
   "outputs": [],
   "source": [
    "#next, look at which rows/columns need to be dropped bc nulls\n",
    "\n",
    "#drop columns:\n",
    "tcombo.drop(['language','types','attributes','is_original_title','ordering_x','ordering_y','original_title','numvotes','birth_year','death_year'],axis=1,inplace=True)\n",
    "#tcombo.info()"
   ]
  },
  {
   "cell_type": "markdown",
   "metadata": {
    "hidden": true
   },
   "source": [
    "I have consolidated the data into a dataframe called tcombo."
   ]
  },
  {
   "cell_type": "markdown",
   "metadata": {
    "hidden": true
   },
   "source": [
    "After looking at how many null values there are in some of the columns, I am going to see what happens if I get rid of all the rows with any null values from a subset of the columns."
   ]
  },
  {
   "cell_type": "code",
   "execution_count": 25,
   "metadata": {
    "hidden": true
   },
   "outputs": [
    {
     "data": {
      "text/html": [
       "<div>\n",
       "<style scoped>\n",
       "    .dataframe tbody tr th:only-of-type {\n",
       "        vertical-align: middle;\n",
       "    }\n",
       "\n",
       "    .dataframe tbody tr th {\n",
       "        vertical-align: top;\n",
       "    }\n",
       "\n",
       "    .dataframe thead th {\n",
       "        text-align: right;\n",
       "    }\n",
       "</style>\n",
       "<table border=\"1\" class=\"dataframe\">\n",
       "  <thead>\n",
       "    <tr style=\"text-align: right;\">\n",
       "      <th></th>\n",
       "      <th>tconst</th>\n",
       "      <th>averagerating</th>\n",
       "      <th>directors</th>\n",
       "      <th>writers</th>\n",
       "      <th>movie</th>\n",
       "      <th>start_year</th>\n",
       "      <th>runtime_minutes</th>\n",
       "      <th>genres</th>\n",
       "      <th>title</th>\n",
       "      <th>region</th>\n",
       "      <th>...</th>\n",
       "      <th>job</th>\n",
       "      <th>characters</th>\n",
       "      <th>primary_name</th>\n",
       "      <th>primary_profession</th>\n",
       "      <th>known_for_titles</th>\n",
       "      <th>id</th>\n",
       "      <th>release_date</th>\n",
       "      <th>production_budget</th>\n",
       "      <th>domestic_gross</th>\n",
       "      <th>worldwide_gross</th>\n",
       "    </tr>\n",
       "  </thead>\n",
       "  <tbody>\n",
       "    <tr>\n",
       "      <th>470</th>\n",
       "      <td>tt4080386</td>\n",
       "      <td>6.5</td>\n",
       "      <td>nm1819881</td>\n",
       "      <td>nm6369175,nm3057599</td>\n",
       "      <td>Sardaar Ji</td>\n",
       "      <td>2015.0</td>\n",
       "      <td>141.0</td>\n",
       "      <td>Comedy,Fantasy,Horror</td>\n",
       "      <td>Sardaar Ji</td>\n",
       "      <td>CA</td>\n",
       "      <td>...</td>\n",
       "      <td>NaN</td>\n",
       "      <td>NaN</td>\n",
       "      <td>Dheeraj Rattan</td>\n",
       "      <td>writer,director,assistant_director</td>\n",
       "      <td>tt3213204,tt2023645,tt2746136,tt1600439</td>\n",
       "      <td>95.0</td>\n",
       "      <td>Dec 31, 2015</td>\n",
       "      <td>$2,700,000</td>\n",
       "      <td>$0</td>\n",
       "      <td>$8,200,000</td>\n",
       "    </tr>\n",
       "    <tr>\n",
       "      <th>473</th>\n",
       "      <td>tt4080386</td>\n",
       "      <td>6.5</td>\n",
       "      <td>nm1819881</td>\n",
       "      <td>nm6369175,nm3057599</td>\n",
       "      <td>Sardaar Ji</td>\n",
       "      <td>2015.0</td>\n",
       "      <td>141.0</td>\n",
       "      <td>Comedy,Fantasy,Horror</td>\n",
       "      <td>Sardaar Ji</td>\n",
       "      <td>CA</td>\n",
       "      <td>...</td>\n",
       "      <td>NaN</td>\n",
       "      <td>NaN</td>\n",
       "      <td>Jaswinder Bhalla</td>\n",
       "      <td>actor,writer</td>\n",
       "      <td>tt2821880,tt2245544,tt3300880,tt3089920</td>\n",
       "      <td>95.0</td>\n",
       "      <td>Dec 31, 2015</td>\n",
       "      <td>$2,700,000</td>\n",
       "      <td>$0</td>\n",
       "      <td>$8,200,000</td>\n",
       "    </tr>\n",
       "    <tr>\n",
       "      <th>476</th>\n",
       "      <td>tt4080386</td>\n",
       "      <td>6.5</td>\n",
       "      <td>nm1819881</td>\n",
       "      <td>nm6369175,nm3057599</td>\n",
       "      <td>Sardaar Ji</td>\n",
       "      <td>2015.0</td>\n",
       "      <td>141.0</td>\n",
       "      <td>Comedy,Fantasy,Horror</td>\n",
       "      <td>Sardaar Ji</td>\n",
       "      <td>CA</td>\n",
       "      <td>...</td>\n",
       "      <td>producer</td>\n",
       "      <td>NaN</td>\n",
       "      <td>Gunbir Singh Sidhu</td>\n",
       "      <td>producer</td>\n",
       "      <td>tt3607226,tt2196254,tt2215348,tt6750888</td>\n",
       "      <td>95.0</td>\n",
       "      <td>Dec 31, 2015</td>\n",
       "      <td>$2,700,000</td>\n",
       "      <td>$0</td>\n",
       "      <td>$8,200,000</td>\n",
       "    </tr>\n",
       "    <tr>\n",
       "      <th>479</th>\n",
       "      <td>tt4080386</td>\n",
       "      <td>6.5</td>\n",
       "      <td>nm1819881</td>\n",
       "      <td>nm6369175,nm3057599</td>\n",
       "      <td>Sardaar Ji</td>\n",
       "      <td>2015.0</td>\n",
       "      <td>141.0</td>\n",
       "      <td>Comedy,Fantasy,Horror</td>\n",
       "      <td>Sardaar Ji</td>\n",
       "      <td>CA</td>\n",
       "      <td>...</td>\n",
       "      <td>NaN</td>\n",
       "      <td>[\"Jaggi\"]</td>\n",
       "      <td>Diljit Dosanjh</td>\n",
       "      <td>actor,music_department,soundtrack</td>\n",
       "      <td>tt4434004,tt5997666,tt7690638,tt7762982</td>\n",
       "      <td>95.0</td>\n",
       "      <td>Dec 31, 2015</td>\n",
       "      <td>$2,700,000</td>\n",
       "      <td>$0</td>\n",
       "      <td>$8,200,000</td>\n",
       "    </tr>\n",
       "    <tr>\n",
       "      <th>482</th>\n",
       "      <td>tt4080386</td>\n",
       "      <td>6.5</td>\n",
       "      <td>nm1819881</td>\n",
       "      <td>nm6369175,nm3057599</td>\n",
       "      <td>Sardaar Ji</td>\n",
       "      <td>2015.0</td>\n",
       "      <td>141.0</td>\n",
       "      <td>Comedy,Fantasy,Horror</td>\n",
       "      <td>Sardaar Ji</td>\n",
       "      <td>CA</td>\n",
       "      <td>...</td>\n",
       "      <td>NaN</td>\n",
       "      <td>[\"Pinky\"]</td>\n",
       "      <td>Neeru Bajwa</td>\n",
       "      <td>actress,producer,director</td>\n",
       "      <td>tt0400977,tt5313414,tt2196254,tt2673882</td>\n",
       "      <td>95.0</td>\n",
       "      <td>Dec 31, 2015</td>\n",
       "      <td>$2,700,000</td>\n",
       "      <td>$0</td>\n",
       "      <td>$8,200,000</td>\n",
       "    </tr>\n",
       "  </tbody>\n",
       "</table>\n",
       "<p>5 rows × 22 columns</p>\n",
       "</div>"
      ],
      "text/plain": [
       "        tconst  averagerating  directors              writers       movie  \\\n",
       "470  tt4080386            6.5  nm1819881  nm6369175,nm3057599  Sardaar Ji   \n",
       "473  tt4080386            6.5  nm1819881  nm6369175,nm3057599  Sardaar Ji   \n",
       "476  tt4080386            6.5  nm1819881  nm6369175,nm3057599  Sardaar Ji   \n",
       "479  tt4080386            6.5  nm1819881  nm6369175,nm3057599  Sardaar Ji   \n",
       "482  tt4080386            6.5  nm1819881  nm6369175,nm3057599  Sardaar Ji   \n",
       "\n",
       "     start_year  runtime_minutes                 genres       title region  \\\n",
       "470      2015.0            141.0  Comedy,Fantasy,Horror  Sardaar Ji     CA   \n",
       "473      2015.0            141.0  Comedy,Fantasy,Horror  Sardaar Ji     CA   \n",
       "476      2015.0            141.0  Comedy,Fantasy,Horror  Sardaar Ji     CA   \n",
       "479      2015.0            141.0  Comedy,Fantasy,Horror  Sardaar Ji     CA   \n",
       "482      2015.0            141.0  Comedy,Fantasy,Horror  Sardaar Ji     CA   \n",
       "\n",
       "     ...       job characters        primary_name  \\\n",
       "470  ...       NaN        NaN      Dheeraj Rattan   \n",
       "473  ...       NaN        NaN    Jaswinder Bhalla   \n",
       "476  ...  producer        NaN  Gunbir Singh Sidhu   \n",
       "479  ...       NaN  [\"Jaggi\"]      Diljit Dosanjh   \n",
       "482  ...       NaN  [\"Pinky\"]         Neeru Bajwa   \n",
       "\n",
       "                     primary_profession  \\\n",
       "470  writer,director,assistant_director   \n",
       "473                        actor,writer   \n",
       "476                            producer   \n",
       "479   actor,music_department,soundtrack   \n",
       "482           actress,producer,director   \n",
       "\n",
       "                            known_for_titles    id  release_date  \\\n",
       "470  tt3213204,tt2023645,tt2746136,tt1600439  95.0  Dec 31, 2015   \n",
       "473  tt2821880,tt2245544,tt3300880,tt3089920  95.0  Dec 31, 2015   \n",
       "476  tt3607226,tt2196254,tt2215348,tt6750888  95.0  Dec 31, 2015   \n",
       "479  tt4434004,tt5997666,tt7690638,tt7762982  95.0  Dec 31, 2015   \n",
       "482  tt0400977,tt5313414,tt2196254,tt2673882  95.0  Dec 31, 2015   \n",
       "\n",
       "     production_budget domestic_gross worldwide_gross  \n",
       "470         $2,700,000             $0      $8,200,000  \n",
       "473         $2,700,000             $0      $8,200,000  \n",
       "476         $2,700,000             $0      $8,200,000  \n",
       "479         $2,700,000             $0      $8,200,000  \n",
       "482         $2,700,000             $0      $8,200,000  \n",
       "\n",
       "[5 rows x 22 columns]"
      ]
     },
     "execution_count": 25,
     "metadata": {},
     "output_type": "execute_result"
    }
   ],
   "source": [
    "#I am going to not drop null gross rows\n",
    "\n",
    "tcombo.dropna(subset=['tconst','averagerating','directors','writers','movie','start_year','runtime_minutes','genres','title','region','id','release_date','production_budget'],inplace=True)\n",
    "tcombo.head(5)"
   ]
  },
  {
   "cell_type": "markdown",
   "metadata": {},
   "source": [
    "I noticed that there are some duplicates and I will get rid of them in the nect cell."
   ]
  },
  {
   "cell_type": "code",
   "execution_count": 26,
   "metadata": {
    "hidden": true
   },
   "outputs": [],
   "source": [
    "#I had lots of duplicates so I dropped the dupes in tconst and movie\n",
    "tcombo.drop_duplicates(subset=['tconst','movie'],inplace=True)\n",
    "#tcombo.head(5)"
   ]
  },
  {
   "cell_type": "markdown",
   "metadata": {},
   "source": [
    "Next, I change the data types of the budget and gross columns to be floats. I got rid of the dollar signs and commas and set them to type float."
   ]
  },
  {
   "cell_type": "code",
   "execution_count": 27,
   "metadata": {
    "hidden": true
   },
   "outputs": [],
   "source": [
    "#change budget and gross types so int\n",
    "tcombo['production_budget'] = tcombo['production_budget'].map(lambda x: x.replace('$',\"\"))\n",
    "tcombo['production_budget'] = tcombo['production_budget'].map(lambda x: x.replace(',',\"\"))\n",
    "tcombo['domestic_gross'] = tcombo['domestic_gross'].map(lambda x: x.replace('$',\"\"))\n",
    "tcombo['domestic_gross'] = tcombo['domestic_gross'].map(lambda x: x.replace(',',\"\"))\n",
    "tcombo['worldwide_gross'] = tcombo['worldwide_gross'].map(lambda x: x.replace('$',\"\"))\n",
    "tcombo['worldwide_gross'] = tcombo['worldwide_gross'].map(lambda x: x.replace(',',\"\"))\n",
    "\n"
   ]
  },
  {
   "cell_type": "markdown",
   "metadata": {},
   "source": [
    "I also made a column called release month that I got from the date column."
   ]
  },
  {
   "cell_type": "code",
   "execution_count": 28,
   "metadata": {
    "hidden": true
   },
   "outputs": [],
   "source": [
    "#making a new column called release month\n",
    "tcombo['release_month'] = tcombo['release_date'].map(lambda x: x[:3])\n",
    "#tcombo"
   ]
  },
  {
   "cell_type": "code",
   "execution_count": 29,
   "metadata": {
    "hidden": true
   },
   "outputs": [],
   "source": [
    "#change the types to float\n",
    "tcombo.production_budget = tcombo.production_budget.astype(float)\n",
    "tcombo.domestic_gross = tcombo.domestic_gross.astype(float)\n",
    "tcombo.worldwide_gross = tcombo.worldwide_gross.astype(float)\n"
   ]
  },
  {
   "cell_type": "markdown",
   "metadata": {},
   "source": [
    "Check my column types"
   ]
  },
  {
   "cell_type": "code",
   "execution_count": 30,
   "metadata": {
    "hidden": true
   },
   "outputs": [
    {
     "data": {
      "text/plain": [
       "tconst                 object\n",
       "averagerating         float64\n",
       "directors              object\n",
       "writers                object\n",
       "movie                  object\n",
       "start_year            float64\n",
       "runtime_minutes       float64\n",
       "genres                 object\n",
       "title                  object\n",
       "region                 object\n",
       "nconst                 object\n",
       "category               object\n",
       "job                    object\n",
       "characters             object\n",
       "primary_name           object\n",
       "primary_profession     object\n",
       "known_for_titles       object\n",
       "id                    float64\n",
       "release_date           object\n",
       "production_budget     float64\n",
       "domestic_gross        float64\n",
       "worldwide_gross       float64\n",
       "release_month          object\n",
       "dtype: object"
      ]
     },
     "execution_count": 30,
     "metadata": {},
     "output_type": "execute_result"
    }
   ],
   "source": [
    "tcombo.dtypes"
   ]
  },
  {
   "cell_type": "markdown",
   "metadata": {},
   "source": [
    "Now it's time to make a profit column"
   ]
  },
  {
   "cell_type": "code",
   "execution_count": 31,
   "metadata": {
    "hidden": true
   },
   "outputs": [],
   "source": [
    "#make profit column\n",
    "tcombo['profit'] = (tcombo['worldwide_gross'] - tcombo['production_budget'])\n",
    "#tcombo.head(1)"
   ]
  },
  {
   "cell_type": "markdown",
   "metadata": {},
   "source": [
    "This is where I pull out the rows where the production budget is not zero and either the domestic or worldwide gross are not zero. This is supposed to prevent too many profit rows from being negative. Otherwise, it looks like a lot of movies lose money."
   ]
  },
  {
   "cell_type": "code",
   "execution_count": 32,
   "metadata": {
    "hidden": true
   },
   "outputs": [],
   "source": [
    "#drop rows in gross and budget that are zero\n",
    "tcombo = tcombo.loc[((tcombo['domestic_gross'] != 0) | (tcombo['worldwide_gross'] != 0)) & (tcombo['production_budget'] != 0)]\n",
    "\n",
    "\n",
    "#what is total US region profit\n",
    "#protot_US = tcombo['profit'].loc[tcombo['region'] == 'US'].sum()\n",
    "#protot_US"
   ]
  },
  {
   "cell_type": "markdown",
   "metadata": {
    "tags": []
   },
   "source": [
    "## Data Modeling\n",
    "Describe and justify the process for analyzing or modeling the data.\n",
    "\n",
    "***\n",
    "Questions to consider:\n",
    "* How did you analyze or model the data?\n",
    "* How did you iterate on your initial approach to make it better?\n",
    "* Why are these choices appropriate given the data and the business problem?\n",
    "***\n",
    "\n",
    "\n",
    "I would like to visualize some of the data now with some histograms. The goal is to figure out the best way to spent money. So what gives the best results?\n",
    "\n",
    "- rating for each genre, director, region?\n",
    "- what is the connection between rating and profit?\n",
    "- look at total profit for each director, writers, genre, region, release month\n",
    "- profitable genres for each month"
   ]
  },
  {
   "cell_type": "markdown",
   "metadata": {
    "heading_collapsed": true,
    "jp-MarkdownHeadingCollapsed": true,
    "tags": []
   },
   "source": [
    "### genre vs rating - Jordan did this one"
   ]
  },
  {
   "cell_type": "code",
   "execution_count": 33,
   "metadata": {
    "hidden": true
   },
   "outputs": [],
   "source": [
    "#tcombo_genre_rating = tcombo[['averagerating','genres']]\n",
    "#tcombo_genre_rating\n",
    "#split on ','\n",
    "#tcombo_genre_rating[:]['genres'] = tcombo_genre_rating['genres'].str.split(',')\n",
    "#tcombo_genre_rating"
   ]
  },
  {
   "cell_type": "code",
   "execution_count": 34,
   "metadata": {
    "hidden": true
   },
   "outputs": [],
   "source": [
    "#tcombo_genre_profit = tcombo[['genres','profit']]\n",
    "#tcombo_genre_profit[:]['genres'] = tcombo_genre_profit['genres'].str.split(',')\n"
   ]
  },
  {
   "cell_type": "code",
   "execution_count": 35,
   "metadata": {
    "hidden": true
   },
   "outputs": [],
   "source": [
    "#np.unique(tcombo_genre_rating['genres'].sum())\n"
   ]
  },
  {
   "cell_type": "code",
   "execution_count": 36,
   "metadata": {
    "hidden": true
   },
   "outputs": [],
   "source": [
    "#tcombo_genre_rating.genres.value_counts()\n",
    "#column of lists so its not working\n",
    "#use .explode\n",
    "#tcombo_genre_profit = tcombo_genre_profit.explode('genres')\n",
    "#profit_group = tcombo_genre_profit.groupby(['genres']).sum().sort_values(by='profit',ascending=False)[:10]\n",
    "#profit_group"
   ]
  },
  {
   "cell_type": "code",
   "execution_count": 37,
   "metadata": {
    "hidden": true
   },
   "outputs": [],
   "source": [
    "#sns.set(rc={'figure.figsize':(15,8)})\n",
    "#sns.set_theme(context='notebook',style='darkgrid')\n",
    "\n",
    "#ax = sns.barplot(x=profit_group.index,y='profit',data=profit_group,color='cornflowerblue')\n",
    "\n",
    "#seems the right order of magnitude so thats a good sign"
   ]
  },
  {
   "cell_type": "code",
   "execution_count": 38,
   "metadata": {
    "hidden": true
   },
   "outputs": [],
   "source": [
    "\n",
    "# tcombo_genre_rating = tcombo_genre_rating.sort_values(by='averagerating',ascending=False)[:11]\n",
    "\n",
    "# sns.set(rc={'figure.figsize':(15,8)})   \n",
    "\n",
    "# sns.barplot('genres','averagerating',data=tcombo_genre_rating)"
   ]
  },
  {
   "cell_type": "markdown",
   "metadata": {
    "hidden": true
   },
   "source": [
    "Looks a little like a better rating gives higher profit"
   ]
  },
  {
   "cell_type": "code",
   "execution_count": 39,
   "metadata": {
    "hidden": true
   },
   "outputs": [],
   "source": [
    "#rating and profit\n",
    "#tcombo_rating_profit = tcombo[['averagerating','profit']]\n",
    "\n",
    "#fig, ax = plt.subplots(figsize=(15,8))\n",
    "\n",
    "#x = tcombo_rating_profit['averagerating']\n",
    "#y = tcombo_rating_profit['profit']\n",
    "\n",
    "#ax.scatter(x,y)"
   ]
  },
  {
   "cell_type": "markdown",
   "metadata": {
    "heading_collapsed": true,
    "tags": []
   },
   "source": [
    "### director vs profit - I think Jordan did this one too\n",
    "\n",
    "Here, I'm making a barplot to compare the most profitable directors.\n",
    "\n",
    "First, I make a new dataframe that contains the director id, profit, primary_name, and primary_profession. The director and primary_profession columns contain string objects with are multiple ids and professions separated by commas. I use .split to turn the data into a list of strings. Then, I call .explode on each list so that there is only one value per row. \n",
    "\n",
    "To plot just directors or just writers, I found the rows where the primary_profession was director or writer and made a new dataframe with those values and profit to make the graph with."
   ]
  },
  {
   "cell_type": "code",
   "execution_count": 40,
   "metadata": {
    "hidden": true
   },
   "outputs": [
    {
     "data": {
      "text/html": [
       "<div>\n",
       "<style scoped>\n",
       "    .dataframe tbody tr th:only-of-type {\n",
       "        vertical-align: middle;\n",
       "    }\n",
       "\n",
       "    .dataframe tbody tr th {\n",
       "        vertical-align: top;\n",
       "    }\n",
       "\n",
       "    .dataframe thead th {\n",
       "        text-align: right;\n",
       "    }\n",
       "</style>\n",
       "<table border=\"1\" class=\"dataframe\">\n",
       "  <thead>\n",
       "    <tr style=\"text-align: right;\">\n",
       "      <th></th>\n",
       "      <th>directors</th>\n",
       "      <th>profit</th>\n",
       "      <th>primary_name</th>\n",
       "      <th>primary_profession</th>\n",
       "    </tr>\n",
       "  </thead>\n",
       "  <tbody>\n",
       "    <tr>\n",
       "      <th>470</th>\n",
       "      <td>[nm1819881]</td>\n",
       "      <td>5500000.0</td>\n",
       "      <td>Dheeraj Rattan</td>\n",
       "      <td>[writer, director, assistant_director]</td>\n",
       "    </tr>\n",
       "    <tr>\n",
       "      <th>1782</th>\n",
       "      <td>[nm0004541]</td>\n",
       "      <td>-4755048.0</td>\n",
       "      <td>Richard Hart</td>\n",
       "      <td>[producer, editorial_department, miscellaneous]</td>\n",
       "    </tr>\n",
       "    <tr>\n",
       "      <th>1787</th>\n",
       "      <td>[nm0753393]</td>\n",
       "      <td>-4755048.0</td>\n",
       "      <td>Joanne Jackson</td>\n",
       "      <td>[producer]</td>\n",
       "    </tr>\n",
       "  </tbody>\n",
       "</table>\n",
       "</div>"
      ],
      "text/plain": [
       "        directors     profit    primary_name  \\\n",
       "470   [nm1819881]  5500000.0  Dheeraj Rattan   \n",
       "1782  [nm0004541] -4755048.0    Richard Hart   \n",
       "1787  [nm0753393] -4755048.0  Joanne Jackson   \n",
       "\n",
       "                                   primary_profession  \n",
       "470            [writer, director, assistant_director]  \n",
       "1782  [producer, editorial_department, miscellaneous]  \n",
       "1787                                       [producer]  "
      ]
     },
     "execution_count": 40,
     "metadata": {},
     "output_type": "execute_result"
    }
   ],
   "source": [
    "tcombo_profession_profit = tcombo[['directors','profit','primary_name','primary_profession']]\n",
    "tcombo_profession_profit[:]['directors'] = tcombo_profession_profit['directors'].str.split(',')\n",
    "tcombo_profession_profit[:]['primary_profession'] = tcombo_profession_profit['primary_profession'].str.split(',')\n",
    "tcombo_profession_profit.head(3)"
   ]
  },
  {
   "cell_type": "markdown",
   "metadata": {},
   "source": [
    "Next, turn the column of lists into multiple rows (one row for each entry in the list)\n",
    "\n",
    "I also replace the spaces in the primary name column with new lines so that the labels on the barplots look better."
   ]
  },
  {
   "cell_type": "code",
   "execution_count": 41,
   "metadata": {},
   "outputs": [
    {
     "data": {
      "text/html": [
       "<div>\n",
       "<style scoped>\n",
       "    .dataframe tbody tr th:only-of-type {\n",
       "        vertical-align: middle;\n",
       "    }\n",
       "\n",
       "    .dataframe tbody tr th {\n",
       "        vertical-align: top;\n",
       "    }\n",
       "\n",
       "    .dataframe thead th {\n",
       "        text-align: right;\n",
       "    }\n",
       "</style>\n",
       "<table border=\"1\" class=\"dataframe\">\n",
       "  <thead>\n",
       "    <tr style=\"text-align: right;\">\n",
       "      <th></th>\n",
       "      <th>directors</th>\n",
       "      <th>profit</th>\n",
       "      <th>primary_name</th>\n",
       "      <th>primary_profession</th>\n",
       "    </tr>\n",
       "  </thead>\n",
       "  <tbody>\n",
       "    <tr>\n",
       "      <th>470</th>\n",
       "      <td>nm1819881</td>\n",
       "      <td>5500000.0</td>\n",
       "      <td>Dheeraj\\nRattan</td>\n",
       "      <td>writer</td>\n",
       "    </tr>\n",
       "    <tr>\n",
       "      <th>470</th>\n",
       "      <td>nm1819881</td>\n",
       "      <td>5500000.0</td>\n",
       "      <td>Dheeraj\\nRattan</td>\n",
       "      <td>director</td>\n",
       "    </tr>\n",
       "    <tr>\n",
       "      <th>470</th>\n",
       "      <td>nm1819881</td>\n",
       "      <td>5500000.0</td>\n",
       "      <td>Dheeraj\\nRattan</td>\n",
       "      <td>assistant_director</td>\n",
       "    </tr>\n",
       "  </tbody>\n",
       "</table>\n",
       "</div>"
      ],
      "text/plain": [
       "     directors     profit     primary_name  primary_profession\n",
       "470  nm1819881  5500000.0  Dheeraj\\nRattan              writer\n",
       "470  nm1819881  5500000.0  Dheeraj\\nRattan            director\n",
       "470  nm1819881  5500000.0  Dheeraj\\nRattan  assistant_director"
      ]
     },
     "execution_count": 41,
     "metadata": {},
     "output_type": "execute_result"
    }
   ],
   "source": [
    "#use .explode\n",
    "\n",
    "tcombo_profession_profit = tcombo_profession_profit.explode('directors')\n",
    "\n",
    "#replace spaces with new line so that the names look better on the graphs\n",
    "tcombo_profession_profit.primary_name = tcombo_profession_profit.primary_name.map(lambda x: x.replace(' ','\\n'))\n",
    "\n",
    "\n",
    "tcombo_profession_profit = tcombo_profession_profit.explode('primary_profession')\n",
    "tcombo_profession_profit.head(3)"
   ]
  },
  {
   "cell_type": "markdown",
   "metadata": {},
   "source": [
    "Find all rows where the profession column is director"
   ]
  },
  {
   "cell_type": "code",
   "execution_count": 42,
   "metadata": {
    "hidden": true
   },
   "outputs": [
    {
     "data": {
      "text/html": [
       "<div>\n",
       "<style scoped>\n",
       "    .dataframe tbody tr th:only-of-type {\n",
       "        vertical-align: middle;\n",
       "    }\n",
       "\n",
       "    .dataframe tbody tr th {\n",
       "        vertical-align: top;\n",
       "    }\n",
       "\n",
       "    .dataframe thead th {\n",
       "        text-align: right;\n",
       "    }\n",
       "</style>\n",
       "<table border=\"1\" class=\"dataframe\">\n",
       "  <thead>\n",
       "    <tr style=\"text-align: right;\">\n",
       "      <th></th>\n",
       "      <th>profit</th>\n",
       "    </tr>\n",
       "    <tr>\n",
       "      <th>primary_name</th>\n",
       "      <th></th>\n",
       "    </tr>\n",
       "  </thead>\n",
       "  <tbody>\n",
       "    <tr>\n",
       "      <th>Jason\\nBateman</th>\n",
       "      <td>2.935425e+09</td>\n",
       "    </tr>\n",
       "    <tr>\n",
       "      <th>Bryce\\nDallas\\nHoward</th>\n",
       "      <td>2.853498e+09</td>\n",
       "    </tr>\n",
       "    <tr>\n",
       "      <th>Guillermo\\ndel\\nToro</th>\n",
       "      <td>2.590209e+09</td>\n",
       "    </tr>\n",
       "  </tbody>\n",
       "</table>\n",
       "</div>"
      ],
      "text/plain": [
       "                             profit\n",
       "primary_name                       \n",
       "Jason\\nBateman         2.935425e+09\n",
       "Bryce\\nDallas\\nHoward  2.853498e+09\n",
       "Guillermo\\ndel\\nToro   2.590209e+09"
      ]
     },
     "execution_count": 42,
     "metadata": {},
     "output_type": "execute_result"
    }
   ],
   "source": [
    "#find all rows where the primary profession is director\n",
    "director_group = tcombo_profession_profit.loc[tcombo_profession_profit['primary_profession'] == 'director']\n",
    "director_group = director_group.groupby(['primary_name']).sum().sort_values(by='profit',ascending=False)[:10]\n",
    "director_group.head(3)"
   ]
  },
  {
   "cell_type": "markdown",
   "metadata": {},
   "source": [
    "Plot top profitable directors"
   ]
  },
  {
   "cell_type": "code",
   "execution_count": 43,
   "metadata": {
    "hidden": true
   },
   "outputs": [
    {
     "data": {
      "image/png": "[encoded data removed]",
      "text/plain": [
       "<Figure size 1080x576 with 1 Axes>"
      ]
     },
     "metadata": {},
     "output_type": "display_data"
    }
   ],
   "source": [
    "#director and profit\n",
    "# director_profit\n",
    "\n",
    "\n",
    "sns.set(rc={'figure.figsize':(15,8)})   \n",
    "\n",
    "ax = sns.barplot(x=director_group.index,y='profit',data=director_group,color='cornflowerblue')\n",
    "#these are the directors who bring in the most money\n",
    "\n",
    "ax.set(xlabel='Director',ylabel='Profit - Billions of Dollars',title='Most Profitable Directors');"
   ]
  },
  {
   "cell_type": "markdown",
   "metadata": {
    "heading_collapsed": true,
    "jp-MarkdownHeadingCollapsed": true,
    "tags": []
   },
   "source": [
    "### profit vs writer\n",
    "The next plot was done that same way as above. I isolated the rows where the profession was 'writer' and plotted those in the most profitable movies."
   ]
  },
  {
   "cell_type": "code",
   "execution_count": 44,
   "metadata": {
    "hidden": true
   },
   "outputs": [
    {
     "data": {
      "text/html": [
       "<div>\n",
       "<style scoped>\n",
       "    .dataframe tbody tr th:only-of-type {\n",
       "        vertical-align: middle;\n",
       "    }\n",
       "\n",
       "    .dataframe tbody tr th {\n",
       "        vertical-align: top;\n",
       "    }\n",
       "\n",
       "    .dataframe thead th {\n",
       "        text-align: right;\n",
       "    }\n",
       "</style>\n",
       "<table border=\"1\" class=\"dataframe\">\n",
       "  <thead>\n",
       "    <tr style=\"text-align: right;\">\n",
       "      <th></th>\n",
       "      <th>profit</th>\n",
       "    </tr>\n",
       "    <tr>\n",
       "      <th>primary_name</th>\n",
       "      <th></th>\n",
       "    </tr>\n",
       "  </thead>\n",
       "  <tbody>\n",
       "    <tr>\n",
       "      <th>Jack\\nKirby</th>\n",
       "      <td>9.364316e+09</td>\n",
       "    </tr>\n",
       "    <tr>\n",
       "      <th>Steve\\nCarell</th>\n",
       "      <td>5.694658e+09</td>\n",
       "    </tr>\n",
       "    <tr>\n",
       "      <th>Bryce\\nDallas\\nHoward</th>\n",
       "      <td>2.853498e+09</td>\n",
       "    </tr>\n",
       "  </tbody>\n",
       "</table>\n",
       "</div>"
      ],
      "text/plain": [
       "                             profit\n",
       "primary_name                       \n",
       "Jack\\nKirby            9.364316e+09\n",
       "Steve\\nCarell          5.694658e+09\n",
       "Bryce\\nDallas\\nHoward  2.853498e+09"
      ]
     },
     "execution_count": 44,
     "metadata": {},
     "output_type": "execute_result"
    }
   ],
   "source": [
    "writer_group = tcombo_profession_profit.loc[tcombo_profession_profit['primary_profession'] == 'writer']\n",
    "\n",
    "writer_group = writer_group.groupby(['primary_name']).sum().sort_values(by='profit',ascending=False)[:10]\n",
    "writer_group.head(3)"
   ]
  },
  {
   "cell_type": "code",
   "execution_count": 45,
   "metadata": {},
   "outputs": [
    {
     "data": {
      "image/png": "[encoded data removed]",
      "text/plain": [
       "<Figure size 1080x576 with 1 Axes>"
      ]
     },
     "metadata": {},
     "output_type": "display_data"
    }
   ],
   "source": [
    "\n",
    "sns.set(rc={'figure.figsize':(15,8)})   \n",
    "\n",
    "ax = sns.barplot(x=writer_group.index,y='profit',data=writer_group,color='cornflowerblue')\n",
    "\n",
    "ax.set(xlabel='Writer',ylabel='Profit - Billions of Dollars',title='Most Profitable Writers');"
   ]
  },
  {
   "cell_type": "markdown",
   "metadata": {
    "heading_collapsed": true,
    "jp-MarkdownHeadingCollapsed": true,
    "tags": [],
    "toc-hr-collapsed": true
   },
   "source": [
    "### profit vs region\n",
    "\n",
    "This is a bar plot of the regions where movies made the most money. I found a dictionary of country codes and their country names. I used it to map the country names in place of the codes in the region column. This makes the plot labels more meaningful."
   ]
  },
  {
   "cell_type": "markdown",
   "metadata": {
    "tags": []
   },
   "source": [
    "#### Country Code Dictionary\n",
    "\n",
    "I found a dictionary of country codes so I can map them and use the actual country name on the graph."
   ]
  },
  {
   "cell_type": "code",
   "execution_count": 46,
   "metadata": {},
   "outputs": [],
   "source": [
    "CC = {\n",
    "    \"AF\": \"AFGHANISTAN\",\n",
    "    \"AX\": \"ÅLAND ISLANDS\",\n",
    "    \"AL\": \"ALBANIA\",\n",
    "    \"DZ\": \"ALGERIA\",\n",
    "    \"AS\": \"AMERICAN SAMOA\",\n",
    "    \"AD\": \"ANDORRA\",\n",
    "    \"AO\": \"ANGOLA\",\n",
    "    \"AI\": \"ANGUILLA\",\n",
    "    \"AQ\": \"ANTARCTICA\",\n",
    "    \"AG\": \"ANTIGUA AND BARBUDA\",\n",
    "    \"AR\": \"ARGENTINA\",\n",
    "    \"AM\": \"ARMENIA\",\n",
    "    \"AW\": \"ARUBA\",\n",
    "    \"AU\": \"AUSTRALIA\",\n",
    "    \"AT\": \"AUSTRIA\",\n",
    "    \"AZ\": \"AZERBAIJAN\",\n",
    "    \"BS\": \"BAHAMAS\",\n",
    "    \"BH\": \"BAHRAIN\",\n",
    "    \"BD\": \"BANGLADESH\",\n",
    "    \"BB\": \"BARBADOS\",\n",
    "    \"BY\": \"BELARUS\",\n",
    "    \"BE\": \"BELGIUM\",\n",
    "    \"BZ\": \"BELIZE\",\n",
    "    \"BJ\": \"BENIN\",\n",
    "    \"BM\": \"BERMUDA\",\n",
    "    \"BT\": \"BHUTAN\",\n",
    "    \"BO\": \"BOLIVIA, PLURINATIONAL STATE OF\",\n",
    "    \"BQ\": \"BONAIRE, SINT EUSTATIUS AND SABA\",\n",
    "    \"BA\": \"BOSNIA AND HERZEGOVINA\",\n",
    "    \"BW\": \"BOTSWANA\",\n",
    "    \"BV\": \"BOUVET ISLAND\",\n",
    "    \"BR\": \"BRAZIL\",\n",
    "    \"IO\": \"BRITISH INDIAN OCEAN TERRITORY\",\n",
    "    \"BN\": \"BRUNEI DARUSSALAM\",\n",
    "    \"BG\": \"BULGARIA\",\n",
    "    \"BF\": \"BURKINA FASO\",\n",
    "    \"BI\": \"BURUNDI\",\n",
    "    \"KH\": \"CAMBODIA\",\n",
    "    \"CM\": \"CAMEROON\",\n",
    "    \"CA\": \"CANADA\",\n",
    "    \"CV\": \"CAPE VERDE\",\n",
    "    \"KY\": \"CAYMAN ISLANDS\",\n",
    "    \"CF\": \"CENTRAL AFRICAN REPUBLIC\",\n",
    "    \"TD\": \"CHAD\",\n",
    "    \"CL\": \"CHILE\",\n",
    "    \"CN\": \"CHINA\",\n",
    "    \"CX\": \"CHRISTMAS ISLAND\",\n",
    "    \"CC\": \"COCOS (KEELING) ISLANDS\",\n",
    "    \"CO\": \"COLOMBIA\",\n",
    "    \"KM\": \"COMOROS\",\n",
    "    \"CG\": \"CONGO\",\n",
    "    \"CD\": \"CONGO, THE DEMOCRATIC REPUBLIC OF THE\",\n",
    "    \"CK\": \"COOK ISLANDS\",\n",
    "    \"CR\": \"COSTA RICA\",\n",
    "    \"CI\": \"CÔTE D'IVOIRE\",\n",
    "    \"HR\": \"CROATIA\",\n",
    "    \"CU\": \"CUBA\",\n",
    "    \"CW\": \"CURAÇAO\",\n",
    "    \"CY\": \"CYPRUS\",\n",
    "    \"CZ\": \"CZECH REPUBLIC\",\n",
    "    \"DK\": \"DENMARK\",\n",
    "    \"DJ\": \"DJIBOUTI\",\n",
    "    \"DM\": \"DOMINICA\",\n",
    "    \"DO\": \"DOMINICAN REPUBLIC\",\n",
    "    \"EC\": \"ECUADOR\",\n",
    "    \"EG\": \"EGYPT\",\n",
    "    \"SV\": \"EL SALVADOR\",\n",
    "    \"GQ\": \"EQUATORIAL GUINEA\",\n",
    "    \"ER\": \"ERITREA\",\n",
    "    \"EE\": \"ESTONIA\",\n",
    "    \"ET\": \"ETHIOPIA\",\n",
    "    \"FK\": \"FALKLAND ISLANDS (MALVINAS)\",\n",
    "    \"FO\": \"FAROE ISLANDS\",\n",
    "    \"FJ\": \"FIJI\",\n",
    "    \"FI\": \"FINLAND\",\n",
    "    \"FR\": \"FRANCE\",\n",
    "    \"GF\": \"FRENCH GUIANA\",\n",
    "    \"PF\": \"FRENCH POLYNESIA\",\n",
    "    \"TF\": \"FRENCH SOUTHERN TERRITORIES\",\n",
    "    \"GA\": \"GABON\",\n",
    "    \"GM\": \"GAMBIA\",\n",
    "    \"GE\": \"GEORGIA\",\n",
    "    \"DE\": \"GERMANY\",\n",
    "    \"GH\": \"GHANA\",\n",
    "    \"GI\": \"GIBRALTAR\",\n",
    "    \"GR\": \"GREECE\",\n",
    "    \"GL\": \"GREENLAND\",\n",
    "    \"GD\": \"GRENADA\",\n",
    "    \"GP\": \"GUADELOUPE\",\n",
    "    \"GU\": \"GUAM\",\n",
    "    \"GT\": \"GUATEMALA\",\n",
    "    \"GG\": \"GUERNSEY\",\n",
    "    \"GN\": \"GUINEA\",\n",
    "    \"GW\": \"GUINEA-BISSAU\",\n",
    "    \"GY\": \"GUYANA\",\n",
    "    \"HT\": \"HAITI\",\n",
    "    \"HM\": \"HEARD ISLAND AND MCDONALD ISLANDS\",\n",
    "    \"VA\": \"HOLY SEE (VATICAN CITY STATE)\",\n",
    "    \"HN\": \"HONDURAS\",\n",
    "    \"HK\": \"HONG KONG\",\n",
    "    \"HU\": \"HUNGARY\",\n",
    "    \"IS\": \"ICELAND\",\n",
    "    \"IN\": \"INDIA\",\n",
    "    \"ID\": \"INDONESIA\",\n",
    "    \"IR\": \"IRAN, ISLAMIC REPUBLIC OF\",\n",
    "    \"IQ\": \"IRAQ\",\n",
    "    \"IE\": \"IRELAND\",\n",
    "    \"IM\": \"ISLE OF MAN\",\n",
    "    \"IL\": \"ISRAEL\",\n",
    "    \"IT\": \"ITALY\",\n",
    "    \"JM\": \"JAMAICA\",\n",
    "    \"JP\": \"JAPAN\",\n",
    "    \"JE\": \"JERSEY\",\n",
    "    \"JO\": \"JORDAN\",\n",
    "    \"KZ\": \"KAZAKHSTAN\",\n",
    "    \"KE\": \"KENYA\",\n",
    "    \"KI\": \"KIRIBATI\",\n",
    "    \"KP\": \"KOREA, DEMOCRATIC PEOPLE'S REPUBLIC OF\",\n",
    "    \"KR\": \"KOREA, REPUBLIC OF\",\n",
    "    \"KW\": \"KUWAIT\",\n",
    "    \"KG\": \"KYRGYZSTAN\",\n",
    "    \"LA\": \"LAO PEOPLE'S DEMOCRATIC REPUBLIC\",\n",
    "    \"LV\": \"LATVIA\",\n",
    "    \"LB\": \"LEBANON\",\n",
    "    \"LS\": \"LESOTHO\",\n",
    "    \"LR\": \"LIBERIA\",\n",
    "    \"LY\": \"LIBYA\",\n",
    "    \"LI\": \"LIECHTENSTEIN\",\n",
    "    \"LT\": \"LITHUANIA\",\n",
    "    \"LU\": \"LUXEMBOURG\",\n",
    "    \"MO\": \"MACAO\",\n",
    "    \"MK\": \"MACEDONIA, THE FORMER YUGOSLAV REPUBLIC OF\",\n",
    "    \"MG\": \"MADAGASCAR\",\n",
    "    \"MW\": \"MALAWI\",\n",
    "    \"MY\": \"MALAYSIA\",\n",
    "    \"MV\": \"MALDIVES\",\n",
    "    \"ML\": \"MALI\",\n",
    "    \"MT\": \"MALTA\",\n",
    "    \"MH\": \"MARSHALL ISLANDS\",\n",
    "    \"MQ\": \"MARTINIQUE\",\n",
    "    \"MR\": \"MAURITANIA\",\n",
    "    \"MU\": \"MAURITIUS\",\n",
    "    \"YT\": \"MAYOTTE\",\n",
    "    \"MX\": \"MEXICO\",\n",
    "    \"FM\": \"MICRONESIA, FEDERATED STATES OF\",\n",
    "    \"MD\": \"MOLDOVA, REPUBLIC OF\",\n",
    "    \"MC\": \"MONACO\",\n",
    "    \"MN\": \"MONGOLIA\",\n",
    "    \"ME\": \"MONTENEGRO\",\n",
    "    \"MS\": \"MONTSERRAT\",\n",
    "    \"MA\": \"MOROCCO\",\n",
    "    \"MZ\": \"MOZAMBIQUE\",\n",
    "    \"MM\": \"MYANMAR\",\n",
    "    \"NA\": \"NAMIBIA\",\n",
    "    \"NR\": \"NAURU\",\n",
    "    \"NP\": \"NEPAL\",\n",
    "    \"NL\": \"NETHERLANDS\",\n",
    "    \"NC\": \"NEW CALEDONIA\",\n",
    "    \"NZ\": \"NEW ZEALAND\",\n",
    "    \"NI\": \"NICARAGUA\",\n",
    "    \"NE\": \"NIGER\",\n",
    "    \"NG\": \"NIGERIA\",\n",
    "    \"NU\": \"NIUE\",\n",
    "    \"NF\": \"NORFOLK ISLAND\",\n",
    "    \"MP\": \"NORTHERN MARIANA ISLANDS\",\n",
    "    \"NO\": \"NORWAY\",\n",
    "    \"OM\": \"OMAN\",\n",
    "    \"PK\": \"PAKISTAN\",\n",
    "    \"PW\": \"PALAU\",\n",
    "    \"PS\": \"PALESTINE, STATE OF\",\n",
    "    \"PA\": \"PANAMA\",\n",
    "    \"PG\": \"PAPUA NEW GUINEA\",\n",
    "    \"PY\": \"PARAGUAY\",\n",
    "    \"PE\": \"PERU\",\n",
    "    \"PH\": \"PHILIPPINES\",\n",
    "    \"PN\": \"PITCAIRN\",\n",
    "    \"PL\": \"POLAND\",\n",
    "    \"PT\": \"PORTUGAL\",\n",
    "    \"PR\": \"PUERTO RICO\",\n",
    "    \"QA\": \"QATAR\",\n",
    "    \"RE\": \"RÉUNION\",\n",
    "    \"RO\": \"ROMANIA\",\n",
    "    \"RU\": \"RUSSIAN FEDERATION\",\n",
    "    \"RW\": \"RWANDA\",\n",
    "    \"BL\": \"SAINT BARTHÉLEMY\",\n",
    "    \"SH\": \"SAINT HELENA, ASCENSION AND TRISTAN DA CUNHA\",\n",
    "    \"KN\": \"SAINT KITTS AND NEVIS\",\n",
    "    \"LC\": \"SAINT LUCIA\",\n",
    "    \"MF\": \"SAINT MARTIN (FRENCH PART)\",\n",
    "    \"PM\": \"SAINT PIERRE AND MIQUELON\",\n",
    "    \"VC\": \"SAINT VINCENT AND THE GRENADINES\",\n",
    "    \"WS\": \"SAMOA\",\n",
    "    \"SM\": \"SAN MARINO\",\n",
    "    \"ST\": \"SAO TOME AND PRINCIPE\",\n",
    "    \"SA\": \"SAUDI ARABIA\",\n",
    "    \"SN\": \"SENEGAL\",\n",
    "    \"RS\": \"SERBIA\",\n",
    "    \"SC\": \"SEYCHELLES\",\n",
    "    \"SL\": \"SIERRA LEONE\",\n",
    "    \"SG\": \"SINGAPORE\",\n",
    "    \"SX\": \"SINT MAARTEN (DUTCH PART)\",\n",
    "    \"SK\": \"SLOVAKIA\",\n",
    "    \"SI\": \"SLOVENIA\",\n",
    "    \"SB\": \"SOLOMON ISLANDS\",\n",
    "    \"SO\": \"SOMALIA\",\n",
    "    \"ZA\": \"SOUTH AFRICA\",\n",
    "    \"GS\": \"SOUTH GEORGIA AND THE SOUTH SANDWICH ISLANDS\",\n",
    "    \"SS\": \"SOUTH SUDAN\",\n",
    "    \"ES\": \"SPAIN\",\n",
    "    \"LK\": \"SRI LANKA\",\n",
    "    \"SD\": \"SUDAN\",\n",
    "    \"SR\": \"SURINAME\",\n",
    "    \"SJ\": \"SVALBARD AND JAN MAYEN\",\n",
    "    \"SZ\": \"SWAZILAND\",\n",
    "    \"SE\": \"SWEDEN\",\n",
    "    \"CH\": \"SWITZERLAND\",\n",
    "    \"SY\": \"SYRIAN ARAB REPUBLIC\",\n",
    "    \"TW\": \"TAIWAN, PROVINCE OF CHINA\",\n",
    "    \"TJ\": \"TAJIKISTAN\",\n",
    "    \"TZ\": \"TANZANIA, UNITED REPUBLIC OF\",\n",
    "    \"TH\": \"THAILAND\",\n",
    "    \"TL\": \"TIMOR-LESTE\",\n",
    "    \"TG\": \"TOGO\",\n",
    "    \"TK\": \"TOKELAU\",\n",
    "    \"TO\": \"TONGA\",\n",
    "    \"TT\": \"TRINIDAD AND TOBAGO\",\n",
    "    \"TN\": \"TUNISIA\",\n",
    "    \"TR\": \"TURKEY\",\n",
    "    \"TM\": \"TURKMENISTAN\",\n",
    "    \"TC\": \"TURKS AND CAICOS ISLANDS\",\n",
    "    \"TV\": \"TUVALU\",\n",
    "    \"UG\": \"UGANDA\",\n",
    "    \"UA\": \"UKRAINE\",\n",
    "    \"AE\": \"UNITED ARAB EMIRATES\",\n",
    "    \"GB\": \"UNITED KINGDOM\",\n",
    "    \"US\": \"UNITED STATES\",\n",
    "    \"UM\": \"UNITED STATES MINOR OUTLYING ISLANDS\",\n",
    "    \"UY\": \"URUGUAY\",\n",
    "    \"UZ\": \"UZBEKISTAN\",\n",
    "    \"VU\": \"VANUATU\",\n",
    "    \"VE\": \"VENEZUELA, BOLIVARIAN REPUBLIC OF\",\n",
    "    \"VN\": \"VIET NAM\",\n",
    "    \"VG\": \"VIRGIN ISLANDS, BRITISH\",\n",
    "    \"VI\": \"VIRGIN ISLANDS, U.S.\",\n",
    "    \"WF\": \"WALLIS AND FUTUNA\",\n",
    "    \"EH\": \"WESTERN SAHARA\",\n",
    "    \"YE\": \"YEMEN\",\n",
    "    \"ZM\": \"ZAMBIA\",\n",
    "    \"ZW\": \"ZIMBABWE\",\n",
    "}"
   ]
  },
  {
   "cell_type": "markdown",
   "metadata": {
    "tags": []
   },
   "source": [
    "### Region Plot\n",
    "\n",
    "A barplot of the profitable regions (countries)\n",
    "\n",
    "Below is where I do the actual mapping with a lambda function."
   ]
  },
  {
   "cell_type": "code",
   "execution_count": 47,
   "metadata": {},
   "outputs": [
    {
     "data": {
      "text/html": [
       "<div>\n",
       "<style scoped>\n",
       "    .dataframe tbody tr th:only-of-type {\n",
       "        vertical-align: middle;\n",
       "    }\n",
       "\n",
       "    .dataframe tbody tr th {\n",
       "        vertical-align: top;\n",
       "    }\n",
       "\n",
       "    .dataframe thead th {\n",
       "        text-align: right;\n",
       "    }\n",
       "</style>\n",
       "<table border=\"1\" class=\"dataframe\">\n",
       "  <thead>\n",
       "    <tr style=\"text-align: right;\">\n",
       "      <th></th>\n",
       "      <th>profit</th>\n",
       "      <th>region</th>\n",
       "    </tr>\n",
       "  </thead>\n",
       "  <tbody>\n",
       "    <tr>\n",
       "      <th>1627549</th>\n",
       "      <td>2.351345e+09</td>\n",
       "      <td>Japan</td>\n",
       "    </tr>\n",
       "    <tr>\n",
       "      <th>994040</th>\n",
       "      <td>1.748134e+09</td>\n",
       "      <td>Argentina</td>\n",
       "    </tr>\n",
       "    <tr>\n",
       "      <th>58632</th>\n",
       "      <td>1.433855e+09</td>\n",
       "      <td>Bulgaria</td>\n",
       "    </tr>\n",
       "  </tbody>\n",
       "</table>\n",
       "</div>"
      ],
      "text/plain": [
       "               profit     region\n",
       "1627549  2.351345e+09      Japan\n",
       "994040   1.748134e+09  Argentina\n",
       "58632    1.433855e+09   Bulgaria"
      ]
     },
     "execution_count": 47,
     "metadata": {},
     "output_type": "execute_result"
    }
   ],
   "source": [
    "tcombo_profit_region = tcombo[['profit','region']].sort_values(by='profit',ascending=False)[:12]\n",
    "\n",
    "#map cCodes to tcombo_profit_region\n",
    "tcombo_profit_region['region'] = tcombo_profit_region['region'].map(lambda x: CC[x].title())\n",
    "tcombo_profit_region.head(3)"
   ]
  },
  {
   "cell_type": "code",
   "execution_count": 48,
   "metadata": {
    "hidden": true
   },
   "outputs": [
    {
     "data": {
      "image/png": "[encoded data removed]",
      "text/plain": [
       "<Figure size 1080x576 with 1 Axes>"
      ]
     },
     "metadata": {},
     "output_type": "display_data"
    }
   ],
   "source": [
    "sns.set_theme(context='notebook',style=\"darkgrid\")\n",
    "\n",
    "sns.set(rc={'figure.figsize':(15,8)})   \n",
    "\n",
    "ax = sns.barplot(x='region',y='profit',data=tcombo_profit_region,color='cornflowerblue')\n",
    "\n",
    "ax.set(xlabel='Region',ylabel='Profit - Billions of Dollars',title='Most Profitable Regions');"
   ]
  },
  {
   "cell_type": "markdown",
   "metadata": {
    "tags": []
   },
   "source": [
    "### Actors and actresses in the most profitable movies\n",
    "\n",
    "This is a subplot with two plots. The first shows actors and the second shows actresses. I first got just the rows where the profession was either actor or actress and made them their own dataframes. Then, I grouped them by the name of the person and summed the profits of all the movies they were in. Next, I sorted the people by the profit and selected the top 10. After that, I just plotted the top actors and actresses in the most profitable movies."
   ]
  },
  {
   "cell_type": "code",
   "execution_count": 49,
   "metadata": {},
   "outputs": [],
   "source": [
    "actor_group = tcombo_profession_profit.loc[tcombo_profession_profit['primary_profession'] == 'actor']\n",
    "actor_group = actor_group.groupby(['primary_name']).sum().sort_values(by='profit',ascending=False)[:5]\n",
    "\n",
    "actress_group = tcombo_profession_profit.loc[tcombo_profession_profit['primary_profession'] == 'actress']\n",
    "actress_group = actress_group.groupby(['primary_name']).sum().sort_values(by='profit',ascending=False)[:5]\n"
   ]
  },
  {
   "cell_type": "code",
   "execution_count": 50,
   "metadata": {},
   "outputs": [
    {
     "data": {
      "image/png": "[encoded data removed]",
      "text/plain": [
       "<Figure size 1440x720 with 2 Axes>"
      ]
     },
     "metadata": {},
     "output_type": "display_data"
    }
   ],
   "source": [
    "fig, axes = plt.subplots(nrows=1,ncols=2,figsize=(20,10))\n",
    "fig.suptitle('Top Actors and Actresses in the Most Profitable Movies')\n",
    "\n",
    "sns.barplot(ax=axes[0],x=actor_group.index,y='profit',data=actor_group,color='cornflowerblue')\n",
    "axes[0].set(xlabel='Actor',ylabel='Profit - Billions of Dollars',title='Actors')\n",
    "\n",
    "sns.barplot(ax=axes[1],x=actress_group.index,y='profit',data=actress_group,color='cornflowerblue')\n",
    "axes[1].set(xlabel='Actress',ylabel='Profit - Billions of Dollars',title='Actresses');\n"
   ]
  },
  {
   "cell_type": "markdown",
   "metadata": {
    "heading_collapsed": true,
    "tags": [],
    "toc-hr-collapsed": true
   },
   "source": [
    "### Release month vs profit\n",
    "\n",
    "The first plot shows the total profit made per release month. The second shows the total number of movies released per month. I suspected that the beginning of the summer would be where the most money was made and when most movies were released. It looks like June movies made the most money, December has the higher number of movies released.\n",
    "\n",
    "I should look into the best genres the release per month."
   ]
  },
  {
   "cell_type": "markdown",
   "metadata": {
    "tags": []
   },
   "source": [
    "#### "
   ]
  },
  {
   "cell_type": "code",
   "execution_count": 51,
   "metadata": {
    "hidden": true
   },
   "outputs": [
    {
     "data": {
      "text/plain": [
       "[Text(0.5, 0, 'Month of Release'),\n",
       " Text(0, 0.5, 'Profit - Billions of Dollars'),\n",
       " Text(0.5, 1.0, 'Most Profitable Release Month')]"
      ]
     },
     "execution_count": 51,
     "metadata": {},
     "output_type": "execute_result"
    },
    {
     "data": {
      "image/png": "[encoded data removed]",
      "text/plain": [
       "<Figure size 1080x576 with 1 Axes>"
      ]
     },
     "metadata": {},
     "output_type": "display_data"
    }
   ],
   "source": [
    "month_order = ['Jan','Feb','Mar','Apr','May','Jun','Jul','Aug','Sep','Oct','Nov','Dec']\n",
    "#sort months so they are in order\n",
    "tcombo[:]['release_month'] = pd.Categorical(tcombo['release_month'], month_order)\n",
    "\n",
    "tcombo = tcombo.sort_values(by='release_month',ascending=False)\n",
    "\n",
    "sns.set(rc={'figure.figsize':(15,8)})   \n",
    "\n",
    "ax = sns.barplot(x='release_month',y='profit',data=tcombo,color='cornflowerblue')\n",
    "#I think this plot gives the average profits per month\n",
    "\n",
    "ax.set(xlabel='Month of Release',ylabel='Profit - Billions of Dollars',title='Most Profitable Release Month')"
   ]
  },
  {
   "cell_type": "code",
   "execution_count": 52,
   "metadata": {
    "hidden": true
   },
   "outputs": [
    {
     "data": {
      "text/plain": [
       "[Text(0.5, 0, 'Release Month'),\n",
       " Text(0, 0.5, 'Number of Movies Released'),\n",
       " Text(0.5, 1.0, 'Movies Released per Month')]"
      ]
     },
     "execution_count": 52,
     "metadata": {},
     "output_type": "execute_result"
    },
    {
     "data": {
      "image/png": "[encoded data removed]",
      "text/plain": [
       "<Figure size 1080x576 with 1 Axes>"
      ]
     },
     "metadata": {},
     "output_type": "display_data"
    }
   ],
   "source": [
    "#months = ['Jan','Feb','Mar','Apr','May','Jun','Jul','Aug','Sep','Oct','Nov','Dec']\n",
    "#sort months so they are in order\n",
    "tcombo['release_month'] = pd.Categorical(tcombo['release_month'], ['Jan','Feb','Mar','Apr','May','Jun','Jul','Aug','Sep','Oct','Nov','Dec'])\n",
    "\n",
    "tcombo = tcombo.sort_values(by='release_month',ascending=False)\n",
    "\n",
    "sns.set(rc={'figure.figsize':(15,8)})   \n",
    "\n",
    "ax = sns.countplot(x='release_month',data=tcombo,color='cornflowerblue')\n",
    "#how many movies are released each month\n",
    "\n",
    "ax.set(xlabel='Release Month',ylabel='Number of Movies Released',title='Movies Released per Month')"
   ]
  },
  {
   "cell_type": "markdown",
   "metadata": {
    "tags": []
   },
   "source": [
    "#### Best Movie Genres to Release per Month\n",
    "\n",
    "First, I make a new dataframe with the genres, release months, and profits. The genres are in a comma separated string so I split them on the comma and then use .explode on the lists so that each genre is in its own column."
   ]
  },
  {
   "cell_type": "code",
   "execution_count": 53,
   "metadata": {},
   "outputs": [
    {
     "data": {
      "text/html": [
       "<div>\n",
       "<style scoped>\n",
       "    .dataframe tbody tr th:only-of-type {\n",
       "        vertical-align: middle;\n",
       "    }\n",
       "\n",
       "    .dataframe tbody tr th {\n",
       "        vertical-align: top;\n",
       "    }\n",
       "\n",
       "    .dataframe thead th {\n",
       "        text-align: right;\n",
       "    }\n",
       "</style>\n",
       "<table border=\"1\" class=\"dataframe\">\n",
       "  <thead>\n",
       "    <tr style=\"text-align: right;\">\n",
       "      <th></th>\n",
       "      <th>genres</th>\n",
       "      <th>release_month</th>\n",
       "      <th>profit</th>\n",
       "    </tr>\n",
       "  </thead>\n",
       "  <tbody>\n",
       "    <tr>\n",
       "      <th>544510</th>\n",
       "      <td>Biography</td>\n",
       "      <td>Dec</td>\n",
       "      <td>18717667.0</td>\n",
       "    </tr>\n",
       "    <tr>\n",
       "      <th>544510</th>\n",
       "      <td>Comedy</td>\n",
       "      <td>Dec</td>\n",
       "      <td>18717667.0</td>\n",
       "    </tr>\n",
       "    <tr>\n",
       "      <th>544510</th>\n",
       "      <td>Drama</td>\n",
       "      <td>Dec</td>\n",
       "      <td>18717667.0</td>\n",
       "    </tr>\n",
       "  </tbody>\n",
       "</table>\n",
       "</div>"
      ],
      "text/plain": [
       "           genres release_month      profit\n",
       "544510  Biography           Dec  18717667.0\n",
       "544510     Comedy           Dec  18717667.0\n",
       "544510      Drama           Dec  18717667.0"
      ]
     },
     "execution_count": 53,
     "metadata": {},
     "output_type": "execute_result"
    }
   ],
   "source": [
    "release_genre = tcombo[['genres','release_month','profit']]\n",
    "release_genre[:]['genres'] = release_genre['genres'].str.split(',')\n",
    "release_genre = release_genre.explode('genres')\n",
    "\n",
    "release_genre.dropna(axis=0,how='any',subset=['profit'],inplace=True)\n",
    "release_genre.head(3)"
   ]
  },
  {
   "cell_type": "markdown",
   "metadata": {},
   "source": [
    "I wrote a function to give a dataframe of profits by genre for any month passed to the function. I layed out my logic below."
   ]
  },
  {
   "cell_type": "code",
   "execution_count": 54,
   "metadata": {},
   "outputs": [],
   "source": [
    "#laying out logic for function below\n",
    "\n",
    "# jan_profit = release_genre.loc[release_genre['release_month'] == 'Jan']\n",
    "\n",
    "# jan_profit = jan_profit.groupby(['release_month','genres']).sum()\n",
    "# jan_profit.dropna(axis=0,how='any',subset=['profit'],inplace=True)\n",
    "\n",
    "# jan_profit.sort_values(by='profit',ascending=False)"
   ]
  },
  {
   "cell_type": "code",
   "execution_count": 55,
   "metadata": {},
   "outputs": [],
   "source": [
    "#returns the profit of each genre sorted descending for the given month\n",
    "def month_profit(month,release_genre):\n",
    "    month_profit = release_genre.loc[release_genre['release_month'] == month]\n",
    "    \n",
    "    #removed this line so that it is not grouped by release month anymore\n",
    "    #    month_profit = month_profit.groupby(['release_month','genres']).sum()\n",
    "    \n",
    "    month_profit = month_profit.groupby(['genres']).sum()\n",
    "    month_profit.dropna(axis=0,how='any',subset=['profit'],inplace=True)\n",
    "    \n",
    "    month_profit = month_profit.sort_values(by='profit',ascending=False)\n",
    "    \n",
    "    return month_profit"
   ]
  },
  {
   "cell_type": "markdown",
   "metadata": {},
   "source": [
    "I was testing the output of the function so that I could use it in a for loop."
   ]
  },
  {
   "cell_type": "code",
   "execution_count": 56,
   "metadata": {},
   "outputs": [],
   "source": [
    "df=month_profit('Jan',release_genre)\n",
    "\n",
    "# fig, axes = plt.subplots(nrows=1,ncols=2,figsize=(20,10))\n",
    "# fig.suptitle('Top Actors and Actresses in the Most Profitable Movies')\n",
    "\n",
    "# sns.barplot(ax=axes[0],x=actor_group.index,y='profit',data=actor_group,color='cornflowerblue')\n",
    "# axes[0].set(xlabel='Actor',ylabel='Profit - Billions of Dollars',title='Actors')\n",
    "\n",
    "# sns.barplot(ax=axes[1],x=actress_group.index,y='profit',data=actress_group,color='cornflowerblue')\n",
    "# axes[1].set(xlabel='Actress',ylabel='Profit - Billions of Dollars',title='Actresses')\n",
    "# mi = pd.MultiIndex.from_frame(df)\n",
    "# mi.to_frame(index=True)\n",
    "\n",
    "#df\n"
   ]
  },
  {
   "cell_type": "markdown",
   "metadata": {},
   "source": [
    "This loop makes a separate plot of genre profits for each month. I iterated through a list that I had already made called month_order. I was using it before to define the order of months in a barplot."
   ]
  },
  {
   "cell_type": "code",
   "execution_count": 57,
   "metadata": {},
   "outputs": [
    {
     "data": {
      "image/png": "[encoded data removed]",
      "text/plain": [
       "<Figure size 864x432 with 1 Axes>"
      ]
     },
     "metadata": {},
     "output_type": "display_data"
    },
    {
     "data": {
      "image/png": "[encoded data removed]",
      "text/plain": [
       "<Figure size 864x432 with 1 Axes>"
      ]
     },
     "metadata": {},
     "output_type": "display_data"
    },
    {
     "data": {
      "image/png": "[encoded data removed]",
      "text/plain": [
       "<Figure size 864x432 with 1 Axes>"
      ]
     },
     "metadata": {},
     "output_type": "display_data"
    },
    {
     "data": {
      "image/png": "[encoded data removed]",
      "text/plain": [
       "<Figure size 864x432 with 1 Axes>"
      ]
     },
     "metadata": {},
     "output_type": "display_data"
    },
    {
     "data": {
      "image/png": "[encoded data removed]",
      "text/plain": [
       "<Figure size 864x432 with 1 Axes>"
      ]
     },
     "metadata": {},
     "output_type": "display_data"
    },
    {
     "data": {
      "image/png": "[encoded data removed]",
      "text/plain": [
       "<Figure size 864x432 with 1 Axes>"
      ]
     },
     "metadata": {},
     "output_type": "display_data"
    },
    {
     "data": {
      "image/png": "[encoded data removed]",
      "text/plain": [
       "<Figure size 864x432 with 1 Axes>"
      ]
     },
     "metadata": {},
     "output_type": "display_data"
    },
    {
     "data": {
      "image/png": "[encoded data removed]",
      "text/plain": [
       "<Figure size 864x432 with 1 Axes>"
      ]
     },
     "metadata": {},
     "output_type": "display_data"
    },
    {
     "data": {
      "image/png": "[encoded data removed]",
      "text/plain": [
       "<Figure size 864x432 with 1 Axes>"
      ]
     },
     "metadata": {},
     "output_type": "display_data"
    },
    {
     "data": {
      "image/png": "[encoded data removed]",
      "text/plain": [
       "<Figure size 864x432 with 1 Axes>"
      ]
     },
     "metadata": {},
     "output_type": "display_data"
    },
    {
     "data": {
      "image/png": "[encoded data removed]",
      "text/plain": [
       "<Figure size 864x432 with 1 Axes>"
      ]
     },
     "metadata": {},
     "output_type": "display_data"
    },
    {
     "data": {
      "image/png": "[encoded data removed]",
      "text/plain": [
       "<Figure size 864x432 with 1 Axes>"
      ]
     },
     "metadata": {},
     "output_type": "display_data"
    }
   ],
   "source": [
    "#trying to multi index to get 'genres' from df in the loop.\n",
    "\n",
    "\n",
    "\n",
    "for month in month_order:\n",
    "    \n",
    "    fig, ax = plt.subplots(nrows=1,ncols=1,figsize=(12,6))\n",
    "\n",
    "    \n",
    "    df=month_profit(month,release_genre)\n",
    "    df = df[:6]\n",
    "    #print(df)\n",
    "    #print(df.index)\n",
    "    \n",
    "    ax = sns.barplot(x=df.index,y='profit',data=df,color='cornflowerblue')\n",
    "    ax.set(xlabel='Genre',ylabel='Profit - Billions of Dollars',title=f'Most Profitable Genres for {month.title()}')\n",
    "    \n"
   ]
  },
  {
   "cell_type": "markdown",
   "metadata": {},
   "source": [
    "It is interesting to see which genres are most profitable per month. For example: October-Thriller ; February-Romance is 5th\n",
    "\n",
    "Maybe October is spooky month, February is romance month, and everything else is action/adventure."
   ]
  },
  {
   "cell_type": "markdown",
   "metadata": {
    "tags": []
   },
   "source": [
    "## Evaluation\n",
    "Evaluate how well your work solves the stated business problem.\n",
    "\n",
    "***\n",
    "Questions to consider:\n",
    "* How do you interpret the results?\n",
    "* How well does your model fit your data? How much better is this than your baseline model?\n",
    "* How confident are you that your results would generalize beyond the data you have?\n",
    "* How confident are you that this model would benefit the business if put into use?\n",
    "***"
   ]
  },
  {
   "cell_type": "markdown",
   "metadata": {},
   "source": [
    "## Conclusions\n",
    "Provide your conclusions about the work you've done, including any limitations or next steps.\n",
    "\n",
    "***\n",
    "Questions to consider:\n",
    "* What would you recommend the business do as a result of this work?\n",
    "* What are some reasons why your analysis might not fully solve the business problem?\n",
    "* What else could you do in the future to improve this project?\n",
    "***"
   ]
  },
  {
   "cell_type": "code",
   "execution_count": null,
   "metadata": {},
   "outputs": [],
   "source": []
  }
 ],
 "metadata": {
  "kernelspec": {
   "display_name": "learn-env",
   "language": "python",
   "name": "learn-env"
  },
  "language_info": {
   "codemirror_mode": {
    "name": "ipython",
    "version": 3
   },
   "file_extension": ".py",
   "mimetype": "text/x-python",
   "name": "python",
   "nbconvert_exporter": "python",
   "pygments_lexer": "ipython3",
   "version": "3.8.5"
  },
  "toc": {
   "base_numbering": 1,
   "nav_menu": {},
   "number_sections": true,
   "sideBar": true,
   "skip_h1_title": false,
   "title_cell": "Table of Contents",
   "title_sidebar": "Contents",
   "toc_cell": false,
   "toc_position": {},
   "toc_section_display": true,
   "toc_window_display": false
  }
 },
 "nbformat": 4,
 "nbformat_minor": 4
}
