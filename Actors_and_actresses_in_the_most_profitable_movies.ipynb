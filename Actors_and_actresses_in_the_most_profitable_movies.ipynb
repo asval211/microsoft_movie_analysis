{
 "cells": [
  {
   "cell_type": "markdown",
   "metadata": {
    "tags": []
   },
   "source": [
    "### Actors and actresses in the most profitable movies\n",
    "\n",
    "This is a subplot with two plots. The first shows actors and the second shows actresses. \n",
    "\n",
    "\n",
    "I looked at each table to make note of all available columns. I noticed the tconst and nconst columns that I counld use to merge all of the data together into one dataframe. After merging, I dropped many columns that I did not need. These included columns that I though contained duplicate information or information that would not be useful. Next, I dropped rows with null values in a subset of all columns. I used outer merges so there where lots of rows with missing data. I wanted to be sure of the data that I had before getting rid of any. I also did not want to drop rows that were only missing data in either domestic or worldwide gross because I only needed one.\n",
    "\n",
    "I then got just the rows where the profession was either actor or actress and made them their own dataframes. Then, I grouped them by the name of the person and summed the profits of all the movies they were in. Next, I sorted the people by the profit and selected the top 10. After that, I just plotted the top actors and actresses in the most profitable movies.\n",
    "\n"
   ]
  },
  {
   "cell_type": "code",
   "execution_count": 2,
   "metadata": {},
   "outputs": [],
   "source": [
    "# Import standard packages\n",
    "import pandas as pd\n",
    "import numpy as np\n",
    "import matplotlib.pyplot as plt\n",
    "import seaborn as sns\n",
    "sns.set()\n",
    "%matplotlib inline"
   ]
  },
  {
   "cell_type": "code",
   "execution_count": 3,
   "metadata": {},
   "outputs": [],
   "source": [
    "#load data\n",
    "nb = pd.read_csv('data/zippedData/imdb.name.basics.csv.gz')\n",
    "takas = pd.read_csv('data/zippedData/imdb.title.akas.csv.gz')\n",
    "tbase = pd.read_csv('data/zippedData/imdb.title.basics.csv.gz')\n",
    "tbase = pd.read_csv('data/zippedData/imdb.title.basics.csv.gz')\n",
    "tcrew = pd.read_csv('data/zippedData/imdb.title.crew.csv.gz')\n",
    "tprinc = pd.read_csv('data/zippedData/imdb.title.principals.csv.gz')\n",
    "trat = pd.read_csv('data/zippedData/imdb.title.ratings.csv.gz')\n",
    "tn = pd.read_csv('data/zippedData/tn.movie_budgets.csv.gz')"
   ]
  },
  {
   "cell_type": "code",
   "execution_count": 4,
   "metadata": {},
   "outputs": [
    {
     "data": {
      "text/html": [
       "<div>\n",
       "<style scoped>\n",
       "    .dataframe tbody tr th:only-of-type {\n",
       "        vertical-align: middle;\n",
       "    }\n",
       "\n",
       "    .dataframe tbody tr th {\n",
       "        vertical-align: top;\n",
       "    }\n",
       "\n",
       "    .dataframe thead th {\n",
       "        text-align: right;\n",
       "    }\n",
       "</style>\n",
       "<table border=\"1\" class=\"dataframe\">\n",
       "  <thead>\n",
       "    <tr style=\"text-align: right;\">\n",
       "      <th></th>\n",
       "      <th>tconst</th>\n",
       "      <th>averagerating</th>\n",
       "      <th>directors</th>\n",
       "      <th>writers</th>\n",
       "      <th>movie</th>\n",
       "      <th>start_year</th>\n",
       "      <th>runtime_minutes</th>\n",
       "      <th>genres</th>\n",
       "      <th>title</th>\n",
       "      <th>region</th>\n",
       "      <th>...</th>\n",
       "      <th>primary_name</th>\n",
       "      <th>primary_profession</th>\n",
       "      <th>known_for_titles</th>\n",
       "      <th>id</th>\n",
       "      <th>release_date</th>\n",
       "      <th>production_budget</th>\n",
       "      <th>domestic_gross</th>\n",
       "      <th>worldwide_gross</th>\n",
       "      <th>release_month</th>\n",
       "      <th>profit</th>\n",
       "    </tr>\n",
       "  </thead>\n",
       "  <tbody>\n",
       "    <tr>\n",
       "      <th>470</th>\n",
       "      <td>tt4080386</td>\n",
       "      <td>6.5</td>\n",
       "      <td>nm1819881</td>\n",
       "      <td>nm6369175,nm3057599</td>\n",
       "      <td>Sardaar Ji</td>\n",
       "      <td>2015.0</td>\n",
       "      <td>141.0</td>\n",
       "      <td>Comedy,Fantasy,Horror</td>\n",
       "      <td>Sardaar Ji</td>\n",
       "      <td>CA</td>\n",
       "      <td>...</td>\n",
       "      <td>Dheeraj Rattan</td>\n",
       "      <td>writer,director,assistant_director</td>\n",
       "      <td>tt3213204,tt2023645,tt2746136,tt1600439</td>\n",
       "      <td>95.0</td>\n",
       "      <td>Dec 31, 2015</td>\n",
       "      <td>2700000.0</td>\n",
       "      <td>0.0</td>\n",
       "      <td>8200000.0</td>\n",
       "      <td>Dec</td>\n",
       "      <td>5500000.0</td>\n",
       "    </tr>\n",
       "    <tr>\n",
       "      <th>1782</th>\n",
       "      <td>tt3431016</td>\n",
       "      <td>5.1</td>\n",
       "      <td>nm0004541</td>\n",
       "      <td>nm1183861</td>\n",
       "      <td>The Messenger</td>\n",
       "      <td>2015.0</td>\n",
       "      <td>101.0</td>\n",
       "      <td>Drama,Mystery,Thriller</td>\n",
       "      <td>Посланник</td>\n",
       "      <td>RU</td>\n",
       "      <td>...</td>\n",
       "      <td>Richard Hart</td>\n",
       "      <td>producer,editorial_department,miscellaneous</td>\n",
       "      <td>tt4519662,tt2123265,tt3431016,tt2186886</td>\n",
       "      <td>1.0</td>\n",
       "      <td>Nov 13, 2009</td>\n",
       "      <td>6500000.0</td>\n",
       "      <td>1109660.0</td>\n",
       "      <td>1744952.0</td>\n",
       "      <td>Nov</td>\n",
       "      <td>-4755048.0</td>\n",
       "    </tr>\n",
       "    <tr>\n",
       "      <th>1787</th>\n",
       "      <td>tt4984930</td>\n",
       "      <td>7.7</td>\n",
       "      <td>nm0753393</td>\n",
       "      <td>nm7556970,nm0753393</td>\n",
       "      <td>The Messenger</td>\n",
       "      <td>2015.0</td>\n",
       "      <td>89.0</td>\n",
       "      <td>Documentary,Family</td>\n",
       "      <td>The Messenger</td>\n",
       "      <td>CA</td>\n",
       "      <td>...</td>\n",
       "      <td>Joanne Jackson</td>\n",
       "      <td>producer</td>\n",
       "      <td>tt1501404,tt8901942,tt4984930</td>\n",
       "      <td>1.0</td>\n",
       "      <td>Nov 13, 2009</td>\n",
       "      <td>6500000.0</td>\n",
       "      <td>1109660.0</td>\n",
       "      <td>1744952.0</td>\n",
       "      <td>Nov</td>\n",
       "      <td>-4755048.0</td>\n",
       "    </tr>\n",
       "    <tr>\n",
       "      <th>1788</th>\n",
       "      <td>tt8706988</td>\n",
       "      <td>5.8</td>\n",
       "      <td>nm0664582</td>\n",
       "      <td>nm0664582,nm2561798</td>\n",
       "      <td>The Messenger</td>\n",
       "      <td>2019.0</td>\n",
       "      <td>100.0</td>\n",
       "      <td>Drama,Thriller,War</td>\n",
       "      <td>The Messenger</td>\n",
       "      <td>XWW</td>\n",
       "      <td>...</td>\n",
       "      <td>Julie Engelbrecht</td>\n",
       "      <td>actress</td>\n",
       "      <td>tt1618442,tt0365675,tt0384369,tt2654620</td>\n",
       "      <td>1.0</td>\n",
       "      <td>Nov 13, 2009</td>\n",
       "      <td>6500000.0</td>\n",
       "      <td>1109660.0</td>\n",
       "      <td>1744952.0</td>\n",
       "      <td>Nov</td>\n",
       "      <td>-4755048.0</td>\n",
       "    </tr>\n",
       "    <tr>\n",
       "      <th>1843</th>\n",
       "      <td>tt2176244</td>\n",
       "      <td>8.0</td>\n",
       "      <td>nm2613589</td>\n",
       "      <td>nm2613589</td>\n",
       "      <td>The Messenger</td>\n",
       "      <td>2012.0</td>\n",
       "      <td>74.0</td>\n",
       "      <td>Drama</td>\n",
       "      <td>The Messenger</td>\n",
       "      <td>US</td>\n",
       "      <td>...</td>\n",
       "      <td>Wesley Roberts Dalton</td>\n",
       "      <td>actor</td>\n",
       "      <td>tt2176244</td>\n",
       "      <td>1.0</td>\n",
       "      <td>Nov 13, 2009</td>\n",
       "      <td>6500000.0</td>\n",
       "      <td>1109660.0</td>\n",
       "      <td>1744952.0</td>\n",
       "      <td>Nov</td>\n",
       "      <td>-4755048.0</td>\n",
       "    </tr>\n",
       "  </tbody>\n",
       "</table>\n",
       "<p>5 rows × 24 columns</p>\n",
       "</div>"
      ],
      "text/plain": [
       "         tconst  averagerating  directors              writers          movie  \\\n",
       "470   tt4080386            6.5  nm1819881  nm6369175,nm3057599     Sardaar Ji   \n",
       "1782  tt3431016            5.1  nm0004541            nm1183861  The Messenger   \n",
       "1787  tt4984930            7.7  nm0753393  nm7556970,nm0753393  The Messenger   \n",
       "1788  tt8706988            5.8  nm0664582  nm0664582,nm2561798  The Messenger   \n",
       "1843  tt2176244            8.0  nm2613589            nm2613589  The Messenger   \n",
       "\n",
       "      start_year  runtime_minutes                  genres          title  \\\n",
       "470       2015.0            141.0   Comedy,Fantasy,Horror     Sardaar Ji   \n",
       "1782      2015.0            101.0  Drama,Mystery,Thriller      Посланник   \n",
       "1787      2015.0             89.0      Documentary,Family  The Messenger   \n",
       "1788      2019.0            100.0      Drama,Thriller,War  The Messenger   \n",
       "1843      2012.0             74.0                   Drama  The Messenger   \n",
       "\n",
       "     region  ...           primary_name  \\\n",
       "470      CA  ...         Dheeraj Rattan   \n",
       "1782     RU  ...           Richard Hart   \n",
       "1787     CA  ...         Joanne Jackson   \n",
       "1788    XWW  ...      Julie Engelbrecht   \n",
       "1843     US  ...  Wesley Roberts Dalton   \n",
       "\n",
       "                               primary_profession  \\\n",
       "470            writer,director,assistant_director   \n",
       "1782  producer,editorial_department,miscellaneous   \n",
       "1787                                     producer   \n",
       "1788                                      actress   \n",
       "1843                                        actor   \n",
       "\n",
       "                             known_for_titles    id  release_date  \\\n",
       "470   tt3213204,tt2023645,tt2746136,tt1600439  95.0  Dec 31, 2015   \n",
       "1782  tt4519662,tt2123265,tt3431016,tt2186886   1.0  Nov 13, 2009   \n",
       "1787            tt1501404,tt8901942,tt4984930   1.0  Nov 13, 2009   \n",
       "1788  tt1618442,tt0365675,tt0384369,tt2654620   1.0  Nov 13, 2009   \n",
       "1843                                tt2176244   1.0  Nov 13, 2009   \n",
       "\n",
       "     production_budget domestic_gross  worldwide_gross release_month  \\\n",
       "470          2700000.0            0.0        8200000.0           Dec   \n",
       "1782         6500000.0      1109660.0        1744952.0           Nov   \n",
       "1787         6500000.0      1109660.0        1744952.0           Nov   \n",
       "1788         6500000.0      1109660.0        1744952.0           Nov   \n",
       "1843         6500000.0      1109660.0        1744952.0           Nov   \n",
       "\n",
       "         profit  \n",
       "470   5500000.0  \n",
       "1782 -4755048.0  \n",
       "1787 -4755048.0  \n",
       "1788 -4755048.0  \n",
       "1843 -4755048.0  \n",
       "\n",
       "[5 rows x 24 columns]"
      ]
     },
     "execution_count": 4,
     "metadata": {},
     "output_type": "execute_result"
    }
   ],
   "source": [
    "#rename takas['title_id'] to takas['tconst'] to that we can use it to merge on\n",
    "takas.rename(columns={'title_id':'tconst'},inplace=True)\n",
    "#merge data\n",
    "tcombo = trat.merge(tcrew,how='outer',on='tconst')\n",
    "tcombo = tcombo.merge(tbase,how='outer',on='tconst')\n",
    "tcombo = tcombo.merge(takas,how='outer',on='tconst')\n",
    "tcombo = tcombo.merge(tprinc,how='outer',on='tconst')\n",
    "tcombo = tcombo.merge(nb,how='outer',on='nconst')\n",
    "\n",
    "#change tcombo['primary_title'] to movie\n",
    "tcombo.rename(columns={'primary_title':'movie'},inplace=True)\n",
    "#finish merging\n",
    "tcombo = tcombo.merge(tn,how='outer',on='movie')\n",
    "#drop some columns\n",
    "tcombo.drop(['language','types','attributes','is_original_title','ordering_x','ordering_y','original_title','numvotes','birth_year','death_year'],axis=1,inplace=True)\n",
    "#drop null values from this subset of columns\n",
    "tcombo.dropna(subset=['tconst','averagerating','directors','writers','movie','start_year','runtime_minutes','genres','title','region','id','release_date','production_budget'],inplace=True)\n",
    "\n",
    "#I had lots of duplicates so I dropped the dupes in tconst and movie columns\n",
    "tcombo.drop_duplicates(subset=['tconst','movie'],inplace=True)\n",
    "\n",
    "#change budget and gross types to int\n",
    "tcombo['production_budget'] = tcombo['production_budget'].map(lambda x: x.replace('$',\"\"))\n",
    "tcombo['production_budget'] = tcombo['production_budget'].map(lambda x: x.replace(',',\"\"))\n",
    "tcombo['domestic_gross'] = tcombo['domestic_gross'].map(lambda x: x.replace('$',\"\"))\n",
    "tcombo['domestic_gross'] = tcombo['domestic_gross'].map(lambda x: x.replace(',',\"\"))\n",
    "tcombo['worldwide_gross'] = tcombo['worldwide_gross'].map(lambda x: x.replace('$',\"\"))\n",
    "tcombo['worldwide_gross'] = tcombo['worldwide_gross'].map(lambda x: x.replace(',',\"\"))\n",
    "tcombo.production_budget = tcombo.production_budget.astype(float)\n",
    "tcombo.domestic_gross = tcombo.domestic_gross.astype(float)\n",
    "tcombo.worldwide_gross = tcombo.worldwide_gross.astype(float)\n",
    "\n",
    "#making a new column called release month\n",
    "tcombo['release_month'] = tcombo['release_date'].map(lambda x: x[:3])\n",
    "\n",
    "#make profit column\n",
    "tcombo['profit'] = (tcombo['worldwide_gross'] - tcombo['production_budget'])\n",
    "\n",
    "#drop rows in gross and budget that are zero\n",
    "tcombo = tcombo.loc[((tcombo['domestic_gross'] != 0) | (tcombo['worldwide_gross'] != 0)) & (tcombo['production_budget'] != 0)]\n",
    "tcombo.head()"
   ]
  },
  {
   "cell_type": "markdown",
   "metadata": {},
   "source": [
    "Above is a peak at the data I am using. Below I am getting only the data I need for professions, names, and profit."
   ]
  },
  {
   "cell_type": "code",
   "execution_count": 4,
   "metadata": {},
   "outputs": [],
   "source": [
    "#get a subset of the data\n",
    "tcombo_profession_profit = tcombo[['directors','profit','primary_name','primary_profession']]\n",
    "#split directors on the comma\n",
    "tcombo_profession_profit[:]['directors'] = tcombo_profession_profit['directors'].str.split(',')\n",
    "#split the professions on the comma\n",
    "tcombo_profession_profit[:]['primary_profession'] = tcombo_profession_profit['primary_profession'].str.split(',')"
   ]
  },
  {
   "cell_type": "code",
   "execution_count": 5,
   "metadata": {},
   "outputs": [],
   "source": [
    "#use .explode\n",
    "tcombo_profession_profit = tcombo_profession_profit.explode('directors')\n",
    "\n",
    "#replace spaces with new line so that the names look better on the graphs\n",
    "tcombo_profession_profit.primary_name = tcombo_profession_profit.primary_name.map(lambda x: x.replace(' ','\\n'))\n",
    "\n",
    "tcombo_profession_profit = tcombo_profession_profit.explode('primary_profession')"
   ]
  },
  {
   "cell_type": "markdown",
   "metadata": {},
   "source": [
    "This is where I get all of the actors and actresses."
   ]
  },
  {
   "cell_type": "code",
   "execution_count": 6,
   "metadata": {},
   "outputs": [],
   "source": [
    "#find all the rows where the profession is actor\n",
    "actor_group_sum = tcombo_profession_profit.loc[tcombo_profession_profit['primary_profession'] == 'actor']\n",
    "actor_group_sum = actor_group_sum.groupby(['primary_name']).sum().sort_values(by='profit',ascending=False)[:5]\n",
    "#find all the rows where the proffession is actress\n",
    "actress_group_sum = tcombo_profession_profit.loc[tcombo_profession_profit['primary_profession'] == 'actress']\n",
    "actress_group_sum = actress_group_sum.groupby(['primary_name']).sum().sort_values(by='profit',ascending=False)[:5]"
   ]
  },
  {
   "cell_type": "markdown",
   "metadata": {},
   "source": [
    "Making the figure"
   ]
  },
  {
   "cell_type": "code",
   "execution_count": 13,
   "metadata": {},
   "outputs": [
    {
     "data": {
      "image/png": "[encoded data removed]",
      "text/plain": [
       "<Figure size 1440x360 with 2 Axes>"
      ]
     },
     "metadata": {
      "needs_background": "light"
     },
     "output_type": "display_data"
    }
   ],
   "source": [
    "fig, axes = plt.subplots(nrows=1,ncols=2,figsize=(20,5))\n",
    "fig.suptitle('Top Actors and Actresses by Average Movie Profit')\n",
    "\n",
    "sns.barplot(ax=axes[0],x=actor_group_sum.index,y='profit',data=actor_group_sum,color='cornflowerblue')\n",
    "axes[0].set(xlabel='Actor',ylabel='Profit - Billions of Dollars',title='Actors')\n",
    "\n",
    "sns.barplot(ax=axes[1],x=actress_group_sum.index,y='profit',data=actress_group_sum,color='cornflowerblue')\n",
    "axes[1].set(xlabel='Actress',ylabel='Profit - Billions of Dollars',title='Actresses');"
   ]
  },
  {
   "cell_type": "code",
   "execution_count": 8,
   "metadata": {},
   "outputs": [],
   "source": [
    "#find all the rows where the profession is actor\n",
    "actor_group_median = tcombo_profession_profit.loc[tcombo_profession_profit['primary_profession'] == 'actor']\n",
    "actor_group_median = actor_group_median.groupby(['primary_name']).median().sort_values(by='profit',ascending=False)[:5]\n",
    "#find all the rows where the proffession is actress\n",
    "actress_group_median = tcombo_profession_profit.loc[tcombo_profession_profit['primary_profession'] == 'actress']\n",
    "actress_group_median = actress_group_median.groupby(['primary_name']).median().sort_values(by='profit',ascending=False)[:5]"
   ]
  },
  {
   "cell_type": "code",
   "execution_count": 10,
   "metadata": {},
   "outputs": [
    {
     "data": {
      "image/png": "[encoded data removed]",
      "text/plain": [
       "<Figure size 1440x360 with 2 Axes>"
      ]
     },
     "metadata": {
      "needs_background": "light"
     },
     "output_type": "display_data"
    }
   ],
   "source": [
    "fig, axes = plt.subplots(nrows=1,ncols=2,figsize=(20,5))\n",
    "fig.suptitle('Median Profit a Movie Made with Top Actors and Actresses')\n",
    "\n",
    "sns.barplot(ax=axes[0],x=actor_group_median.index,y='profit',data=actor_group_median,color='cornflowerblue')\n",
    "axes[0].set(xlabel='Actor',ylabel='Profit - Billions of Dollars',title='Actors')\n",
    "\n",
    "sns.barplot(ax=axes[1],x=actress_group_median.index,y='profit',data=actress_group_median,color='cornflowerblue')\n",
    "axes[1].set(xlabel='Actress',ylabel='Profit - Billions of Dollars',title='Actresses');"
   ]
  },
  {
   "cell_type": "code",
   "execution_count": null,
   "metadata": {},
   "outputs": [],
   "source": []
  }
 ],
 "metadata": {
  "kernelspec": {
   "display_name": "learn-env",
   "language": "python",
   "name": "learn-env"
  },
  "language_info": {
   "codemirror_mode": {
    "name": "ipython",
    "version": 3
   },
   "file_extension": ".py",
   "mimetype": "text/x-python",
   "name": "python",
   "nbconvert_exporter": "python",
   "pygments_lexer": "ipython3",
   "version": "3.8.5"
  }
 },
 "nbformat": 4,
 "nbformat_minor": 4
}
