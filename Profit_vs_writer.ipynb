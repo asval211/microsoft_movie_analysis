{
 "cells": [
  {
   "cell_type": "markdown",
   "metadata": {
    "tags": []
   },
   "source": [
    "# Profit vs Writer\n",
    "\n",
    "This code makes a barplot of the top writers for the most profitable movies. The first three cells will be the same for each plot because I used the same data for all of them."
   ]
  },
  {
   "cell_type": "code",
   "execution_count": 1,
   "metadata": {},
   "outputs": [],
   "source": [
    "# Import standard packages\n",
    "import pandas as pd\n",
    "import numpy as np\n",
    "import matplotlib.pyplot as plt\n",
    "import seaborn as sns\n",
    "sns.set()\n",
    "%matplotlib inline"
   ]
  },
  {
   "cell_type": "code",
   "execution_count": 2,
   "metadata": {},
   "outputs": [],
   "source": [
    "#load data\n",
    "nb = pd.read_csv('data/zippedData/imdb.name.basics.csv.gz')\n",
    "takas = pd.read_csv('data/zippedData/imdb.title.akas.csv.gz')\n",
    "tbase = pd.read_csv('data/zippedData/imdb.title.basics.csv.gz')\n",
    "tbase = pd.read_csv('data/zippedData/imdb.title.basics.csv.gz')\n",
    "tcrew = pd.read_csv('data/zippedData/imdb.title.crew.csv.gz')\n",
    "tprinc = pd.read_csv('data/zippedData/imdb.title.principals.csv.gz')\n",
    "trat = pd.read_csv('data/zippedData/imdb.title.ratings.csv.gz')\n",
    "tn = pd.read_csv('data/zippedData/tn.movie_budgets.csv.gz')"
   ]
  },
  {
   "cell_type": "code",
   "execution_count": 3,
   "metadata": {},
   "outputs": [],
   "source": [
    "#rename takas['title_id'] to takas['tconst'] to that we can use it to merge on\n",
    "takas.rename(columns={'title_id':'tconst'},inplace=True)\n",
    "#merge data\n",
    "tcombo = trat.merge(tcrew,how='outer',on='tconst')\n",
    "tcombo = tcombo.merge(tbase,how='outer',on='tconst')\n",
    "tcombo = tcombo.merge(takas,how='outer',on='tconst')\n",
    "tcombo = tcombo.merge(tprinc,how='outer',on='tconst')\n",
    "tcombo = tcombo.merge(nb,how='outer',on='nconst')\n",
    "\n",
    "#change tcombo['primary_title'] to movie\n",
    "tcombo.rename(columns={'primary_title':'movie'},inplace=True)\n",
    "#finish merging\n",
    "tcombo = tcombo.merge(tn,how='outer',on='movie')\n",
    "#drop some columns\n",
    "tcombo.drop(['language','types','attributes','is_original_title','ordering_x','ordering_y','original_title','numvotes','birth_year','death_year'],axis=1,inplace=True)\n",
    "#drop null values from this subset of columns\n",
    "tcombo.dropna(subset=['tconst','averagerating','directors','writers','movie','start_year','runtime_minutes','genres','title','region','id','release_date','production_budget'],inplace=True)\n",
    "\n",
    "#I had lots of duplicates so I dropped the dupes in tconst and movie columns\n",
    "tcombo.drop_duplicates(subset=['tconst','movie'],inplace=True)\n",
    "\n",
    "#change budget and gross types to int\n",
    "tcombo['production_budget'] = tcombo['production_budget'].map(lambda x: x.replace('$',\"\"))\n",
    "tcombo['production_budget'] = tcombo['production_budget'].map(lambda x: x.replace(',',\"\"))\n",
    "tcombo['domestic_gross'] = tcombo['domestic_gross'].map(lambda x: x.replace('$',\"\"))\n",
    "tcombo['domestic_gross'] = tcombo['domestic_gross'].map(lambda x: x.replace(',',\"\"))\n",
    "tcombo['worldwide_gross'] = tcombo['worldwide_gross'].map(lambda x: x.replace('$',\"\"))\n",
    "tcombo['worldwide_gross'] = tcombo['worldwide_gross'].map(lambda x: x.replace(',',\"\"))\n",
    "tcombo.production_budget = tcombo.production_budget.astype(float)\n",
    "tcombo.domestic_gross = tcombo.domestic_gross.astype(float)\n",
    "tcombo.worldwide_gross = tcombo.worldwide_gross.astype(float)\n",
    "\n",
    "#making a new column called release month\n",
    "tcombo['release_month'] = tcombo['release_date'].map(lambda x: x[:3])\n",
    "\n",
    "#make profit column\n",
    "tcombo['profit'] = (tcombo['worldwide_gross'] - tcombo['production_budget'])\n",
    "\n",
    "#drop rows in gross and budget that are zero\n",
    "tcombo = tcombo.loc[((tcombo['domestic_gross'] != 0) | (tcombo['worldwide_gross'] != 0)) & (tcombo['production_budget'] != 0)]"
   ]
  },
  {
   "cell_type": "code",
   "execution_count": 4,
   "metadata": {},
   "outputs": [],
   "source": [
    "#get a subset of the data\n",
    "tcombo_profession_profit = tcombo[['directors','profit','primary_name','primary_profession']]\n",
    "#split directors on the comma\n",
    "tcombo_profession_profit[:]['directors'] = tcombo_profession_profit['directors'].str.split(',')\n",
    "#split the professions on the comma\n",
    "tcombo_profession_profit[:]['primary_profession'] = tcombo_profession_profit['primary_profession'].str.split(',')"
   ]
  },
  {
   "cell_type": "code",
   "execution_count": 5,
   "metadata": {},
   "outputs": [],
   "source": [
    "#use .explode to put one director per row\n",
    "tcombo_profession_profit = tcombo_profession_profit.explode('directors')\n",
    "\n",
    "#replace spaces with new line so that the names look better on the graphs\n",
    "tcombo_profession_profit.primary_name = tcombo_profession_profit.primary_name.map(lambda x: x.replace(' ','\\n'))\n",
    "\n",
    "#use .explode again to put each profession on one row\n",
    "tcombo_profession_profit = tcombo_profession_profit.explode('primary_profession')"
   ]
  },
  {
   "cell_type": "code",
   "execution_count": 6,
   "metadata": {},
   "outputs": [],
   "source": [
    "#find all rows where the profession is writer\n",
    "#add atleast number of movies\n",
    "writer_group_median = tcombo_profession_profit.loc[tcombo_profession_profit['primary_profession'] == 'writer']\n",
    "#groupby name and average of profits for all movies that the writer had a part in\n",
    "writer_group_median = writer_group_median.groupby(['primary_name']).median().sort_values(by='profit',ascending=False)[:10]"
   ]
  },
  {
   "cell_type": "code",
   "execution_count": 8,
   "metadata": {},
   "outputs": [
    {
     "data": {
      "image/png": "[encoded data removed]",
      "text/plain": [
       "<Figure size 1080x576 with 1 Axes>"
      ]
     },
     "metadata": {},
     "output_type": "display_data"
    }
   ],
   "source": [
    "\n",
    "sns.set(rc={'figure.figsize':(15,8)})   \n",
    "\n",
    "ax = sns.barplot(x=writer_group_median.index,y='profit',data=writer_group_median,color='cornflowerblue')\n",
    "\n",
    "ax.set(xlabel='Writer',ylabel='Profit - Billions of Dollars',title='Most Profitable Writers by Average Movie Profit');"
   ]
  },
  {
   "cell_type": "code",
   "execution_count": null,
   "metadata": {},
   "outputs": [],
   "source": []
  }
 ],
 "metadata": {
  "kernelspec": {
   "display_name": "learn-env",
   "language": "python",
   "name": "learn-env"
  },
  "language_info": {
   "codemirror_mode": {
    "name": "ipython",
    "version": 3
   },
   "file_extension": ".py",
   "mimetype": "text/x-python",
   "name": "python",
   "nbconvert_exporter": "python",
   "pygments_lexer": "ipython3",
   "version": "3.8.5"
  }
 },
 "nbformat": 4,
 "nbformat_minor": 4
}
