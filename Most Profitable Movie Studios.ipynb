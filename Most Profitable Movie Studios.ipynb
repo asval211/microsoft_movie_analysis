{
 "cells": [
  {
   "cell_type": "code",
   "execution_count": 59,
   "metadata": {},
   "outputs": [],
   "source": [
    "import sqlite3\n",
    "import numpy as np\n",
    "import pandas as pd\n",
    "import matplotlib.pyplot as plt\n",
    "%matplotlib inline"
   ]
  },
  {
   "cell_type": "code",
   "execution_count": 60,
   "metadata": {},
   "outputs": [],
   "source": [
    "conn = sqlite3.connect('data\\movies.db')"
   ]
  },
  {
   "cell_type": "code",
   "execution_count": 61,
   "metadata": {},
   "outputs": [
    {
     "data": {
      "text/html": [
       "<div>\n",
       "<style scoped>\n",
       "    .dataframe tbody tr th:only-of-type {\n",
       "        vertical-align: middle;\n",
       "    }\n",
       "\n",
       "    .dataframe tbody tr th {\n",
       "        vertical-align: top;\n",
       "    }\n",
       "\n",
       "    .dataframe thead th {\n",
       "        text-align: right;\n",
       "    }\n",
       "</style>\n",
       "<table border=\"1\" class=\"dataframe\">\n",
       "  <thead>\n",
       "    <tr style=\"text-align: right;\">\n",
       "      <th></th>\n",
       "      <th>tconst</th>\n",
       "      <th>title</th>\n",
       "      <th>genres</th>\n",
       "      <th>studio</th>\n",
       "      <th>year</th>\n",
       "      <th>production_budget</th>\n",
       "      <th>worldwide_gross</th>\n",
       "    </tr>\n",
       "  </thead>\n",
       "  <tbody>\n",
       "    <tr>\n",
       "      <th>0</th>\n",
       "      <td>tt0435761</td>\n",
       "      <td>Toy Story 3</td>\n",
       "      <td>Adventure,Animation,Comedy</td>\n",
       "      <td>BV</td>\n",
       "      <td>2010</td>\n",
       "      <td>$200,000,000</td>\n",
       "      <td>$1,068,879,522</td>\n",
       "    </tr>\n",
       "    <tr>\n",
       "      <th>1</th>\n",
       "      <td>tt1375666</td>\n",
       "      <td>Inception</td>\n",
       "      <td>Action,Adventure,Sci-Fi</td>\n",
       "      <td>WB</td>\n",
       "      <td>2010</td>\n",
       "      <td>$160,000,000</td>\n",
       "      <td>$835,524,642</td>\n",
       "    </tr>\n",
       "    <tr>\n",
       "      <th>2</th>\n",
       "      <td>tt0892791</td>\n",
       "      <td>Shrek Forever After</td>\n",
       "      <td>Adventure,Animation,Comedy</td>\n",
       "      <td>P/DW</td>\n",
       "      <td>2010</td>\n",
       "      <td>$165,000,000</td>\n",
       "      <td>$756,244,673</td>\n",
       "    </tr>\n",
       "    <tr>\n",
       "      <th>3</th>\n",
       "      <td>tt1325004</td>\n",
       "      <td>The Twilight Saga: Eclipse</td>\n",
       "      <td>Adventure,Drama,Fantasy</td>\n",
       "      <td>Sum.</td>\n",
       "      <td>2010</td>\n",
       "      <td>$68,000,000</td>\n",
       "      <td>$706,102,828</td>\n",
       "    </tr>\n",
       "    <tr>\n",
       "      <th>4</th>\n",
       "      <td>tt1228705</td>\n",
       "      <td>Iron Man 2</td>\n",
       "      <td>Action,Adventure,Sci-Fi</td>\n",
       "      <td>Par.</td>\n",
       "      <td>2010</td>\n",
       "      <td>$170,000,000</td>\n",
       "      <td>$621,156,389</td>\n",
       "    </tr>\n",
       "  </tbody>\n",
       "</table>\n",
       "</div>"
      ],
      "text/plain": [
       "      tconst                       title                      genres studio  \\\n",
       "0  tt0435761                 Toy Story 3  Adventure,Animation,Comedy     BV   \n",
       "1  tt1375666                   Inception     Action,Adventure,Sci-Fi     WB   \n",
       "2  tt0892791         Shrek Forever After  Adventure,Animation,Comedy   P/DW   \n",
       "3  tt1325004  The Twilight Saga: Eclipse     Adventure,Drama,Fantasy   Sum.   \n",
       "4  tt1228705                  Iron Man 2     Action,Adventure,Sci-Fi   Par.   \n",
       "\n",
       "   year production_budget worldwide_gross  \n",
       "0  2010      $200,000,000  $1,068,879,522  \n",
       "1  2010      $160,000,000    $835,524,642  \n",
       "2  2010      $165,000,000    $756,244,673  \n",
       "3  2010       $68,000,000    $706,102,828  \n",
       "4  2010      $170,000,000    $621,156,389  "
      ]
     },
     "execution_count": 61,
     "metadata": {},
     "output_type": "execute_result"
    }
   ],
   "source": [
    "#Print the query dataframe and filter the rows needed\n",
    "query = pd.read_sql('''SELECT DISTINCT tconst, g.title, i.genres, g.studio,  g.year,\n",
    "                       t.production_budget, t.worldwide_gross\n",
    "                       FROM bom_movie_gross as g\n",
    "                       JOIN imdb_title_basics as i\n",
    "                       ON g.title = i.primary_title\n",
    "                       AND g.year = i.start_year\n",
    "                       JOIN tn_movie_budgets as t\n",
    "                       ON t.movie = i.primary_title''', conn)\n",
    "query.head()"
   ]
  },
  {
   "cell_type": "code",
   "execution_count": 62,
   "metadata": {},
   "outputs": [],
   "source": [
    "#Eliminate all $ and commas from the columns\n",
    "query['production_budget'] = query['production_budget'].map(lambda x: x.replace(',', ''))\n",
    "query['production_budget'] = query['production_budget'].map(lambda x: x.replace('$', ''))\n",
    "query['worldwide_gross'] = query['worldwide_gross'].map(lambda x: x.replace(',', ''))\n",
    "query['worldwide_gross'] = query['worldwide_gross'].map(lambda x: x.replace('$', ''))"
   ]
  },
  {
   "cell_type": "code",
   "execution_count": 63,
   "metadata": {},
   "outputs": [],
   "source": [
    "#Convert columns from strings to floats\n",
    "query.production_budget = query.production_budget.astype(float)\n",
    "query.worldwide_gross = query.worldwide_gross.astype(float)"
   ]
  },
  {
   "cell_type": "code",
   "execution_count": 64,
   "metadata": {},
   "outputs": [],
   "source": [
    "#Add 'profit' column to the dataframe\n",
    "query['profit'] = query['worldwide_gross'] - query['production_budget']"
   ]
  },
  {
   "cell_type": "code",
   "execution_count": 65,
   "metadata": {},
   "outputs": [
    {
     "data": {
      "text/html": [
       "<div>\n",
       "<style scoped>\n",
       "    .dataframe tbody tr th:only-of-type {\n",
       "        vertical-align: middle;\n",
       "    }\n",
       "\n",
       "    .dataframe tbody tr th {\n",
       "        vertical-align: top;\n",
       "    }\n",
       "\n",
       "    .dataframe thead th {\n",
       "        text-align: right;\n",
       "    }\n",
       "</style>\n",
       "<table border=\"1\" class=\"dataframe\">\n",
       "  <thead>\n",
       "    <tr style=\"text-align: right;\">\n",
       "      <th></th>\n",
       "      <th>tconst</th>\n",
       "      <th>title</th>\n",
       "      <th>genres</th>\n",
       "      <th>studio</th>\n",
       "      <th>year</th>\n",
       "      <th>production_budget</th>\n",
       "      <th>worldwide_gross</th>\n",
       "      <th>profit</th>\n",
       "    </tr>\n",
       "  </thead>\n",
       "  <tbody>\n",
       "    <tr>\n",
       "      <th>987</th>\n",
       "      <td>tt4154756</td>\n",
       "      <td>Avengers: Infinity War</td>\n",
       "      <td>Action,Adventure,Sci-Fi</td>\n",
       "      <td>BV</td>\n",
       "      <td>2018</td>\n",
       "      <td>300000000.0</td>\n",
       "      <td>2.048134e+09</td>\n",
       "      <td>1.748134e+09</td>\n",
       "    </tr>\n",
       "    <tr>\n",
       "      <th>643</th>\n",
       "      <td>tt0369610</td>\n",
       "      <td>Jurassic World</td>\n",
       "      <td>Action,Adventure,Sci-Fi</td>\n",
       "      <td>Uni.</td>\n",
       "      <td>2015</td>\n",
       "      <td>215000000.0</td>\n",
       "      <td>1.648855e+09</td>\n",
       "      <td>1.433855e+09</td>\n",
       "    </tr>\n",
       "    <tr>\n",
       "      <th>644</th>\n",
       "      <td>tt2820852</td>\n",
       "      <td>Furious 7</td>\n",
       "      <td>Action,Crime,Thriller</td>\n",
       "      <td>Uni.</td>\n",
       "      <td>2015</td>\n",
       "      <td>190000000.0</td>\n",
       "      <td>1.518723e+09</td>\n",
       "      <td>1.328723e+09</td>\n",
       "    </tr>\n",
       "    <tr>\n",
       "      <th>988</th>\n",
       "      <td>tt1825683</td>\n",
       "      <td>Black Panther</td>\n",
       "      <td>Action,Adventure,Sci-Fi</td>\n",
       "      <td>BV</td>\n",
       "      <td>2018</td>\n",
       "      <td>200000000.0</td>\n",
       "      <td>1.348258e+09</td>\n",
       "      <td>1.148258e+09</td>\n",
       "    </tr>\n",
       "    <tr>\n",
       "      <th>989</th>\n",
       "      <td>tt4881806</td>\n",
       "      <td>Jurassic World: Fallen Kingdom</td>\n",
       "      <td>Action,Adventure,Sci-Fi</td>\n",
       "      <td>Uni.</td>\n",
       "      <td>2018</td>\n",
       "      <td>170000000.0</td>\n",
       "      <td>1.305773e+09</td>\n",
       "      <td>1.135773e+09</td>\n",
       "    </tr>\n",
       "    <tr>\n",
       "      <th>407</th>\n",
       "      <td>tt2294629</td>\n",
       "      <td>Frozen</td>\n",
       "      <td>Adventure,Animation,Comedy</td>\n",
       "      <td>BV</td>\n",
       "      <td>2013</td>\n",
       "      <td>150000000.0</td>\n",
       "      <td>1.272470e+09</td>\n",
       "      <td>1.122470e+09</td>\n",
       "    </tr>\n",
       "    <tr>\n",
       "      <th>646</th>\n",
       "      <td>tt2293640</td>\n",
       "      <td>Minions</td>\n",
       "      <td>Adventure,Animation,Comedy</td>\n",
       "      <td>Uni.</td>\n",
       "      <td>2015</td>\n",
       "      <td>74000000.0</td>\n",
       "      <td>1.160336e+09</td>\n",
       "      <td>1.086336e+09</td>\n",
       "    </tr>\n",
       "    <tr>\n",
       "      <th>645</th>\n",
       "      <td>tt2395427</td>\n",
       "      <td>Avengers: Age of Ultron</td>\n",
       "      <td>Action,Adventure,Sci-Fi</td>\n",
       "      <td>BV</td>\n",
       "      <td>2015</td>\n",
       "      <td>330600000.0</td>\n",
       "      <td>1.403014e+09</td>\n",
       "      <td>1.072414e+09</td>\n",
       "    </tr>\n",
       "    <tr>\n",
       "      <th>990</th>\n",
       "      <td>tt3606756</td>\n",
       "      <td>Incredibles 2</td>\n",
       "      <td>Action,Adventure,Animation</td>\n",
       "      <td>BV</td>\n",
       "      <td>2018</td>\n",
       "      <td>200000000.0</td>\n",
       "      <td>1.242521e+09</td>\n",
       "      <td>1.042521e+09</td>\n",
       "    </tr>\n",
       "    <tr>\n",
       "      <th>408</th>\n",
       "      <td>tt1300854</td>\n",
       "      <td>Iron Man 3</td>\n",
       "      <td>Action,Adventure,Sci-Fi</td>\n",
       "      <td>BV</td>\n",
       "      <td>2013</td>\n",
       "      <td>200000000.0</td>\n",
       "      <td>1.215392e+09</td>\n",
       "      <td>1.015392e+09</td>\n",
       "    </tr>\n",
       "  </tbody>\n",
       "</table>\n",
       "</div>"
      ],
      "text/plain": [
       "        tconst                           title                      genres  \\\n",
       "987  tt4154756          Avengers: Infinity War     Action,Adventure,Sci-Fi   \n",
       "643  tt0369610                  Jurassic World     Action,Adventure,Sci-Fi   \n",
       "644  tt2820852                       Furious 7       Action,Crime,Thriller   \n",
       "988  tt1825683                   Black Panther     Action,Adventure,Sci-Fi   \n",
       "989  tt4881806  Jurassic World: Fallen Kingdom     Action,Adventure,Sci-Fi   \n",
       "407  tt2294629                          Frozen  Adventure,Animation,Comedy   \n",
       "646  tt2293640                         Minions  Adventure,Animation,Comedy   \n",
       "645  tt2395427         Avengers: Age of Ultron     Action,Adventure,Sci-Fi   \n",
       "990  tt3606756                   Incredibles 2  Action,Adventure,Animation   \n",
       "408  tt1300854                      Iron Man 3     Action,Adventure,Sci-Fi   \n",
       "\n",
       "    studio  year  production_budget  worldwide_gross        profit  \n",
       "987     BV  2018        300000000.0     2.048134e+09  1.748134e+09  \n",
       "643   Uni.  2015        215000000.0     1.648855e+09  1.433855e+09  \n",
       "644   Uni.  2015        190000000.0     1.518723e+09  1.328723e+09  \n",
       "988     BV  2018        200000000.0     1.348258e+09  1.148258e+09  \n",
       "989   Uni.  2018        170000000.0     1.305773e+09  1.135773e+09  \n",
       "407     BV  2013        150000000.0     1.272470e+09  1.122470e+09  \n",
       "646   Uni.  2015         74000000.0     1.160336e+09  1.086336e+09  \n",
       "645     BV  2015        330600000.0     1.403014e+09  1.072414e+09  \n",
       "990     BV  2018        200000000.0     1.242521e+09  1.042521e+09  \n",
       "408     BV  2013        200000000.0     1.215392e+09  1.015392e+09  "
      ]
     },
     "execution_count": 65,
     "metadata": {},
     "output_type": "execute_result"
    }
   ],
   "source": [
    "#Top 10 Profitable Films\n",
    "query = query.sort_values('profit', ascending=False).iloc[:10]\n",
    "query"
   ]
  },
  {
   "cell_type": "code",
   "execution_count": 66,
   "metadata": {},
   "outputs": [
    {
     "data": {
      "text/plain": [
       "studio\n",
       "BV      6\n",
       "Uni.    4\n",
       "Name: profit, dtype: int64"
      ]
     },
     "execution_count": 66,
     "metadata": {},
     "output_type": "execute_result"
    }
   ],
   "source": [
    "studio_count = query.groupby('studio')['profit'].count()\n",
    "studio_count"
   ]
  },
  {
   "cell_type": "code",
   "execution_count": 69,
   "metadata": {},
   "outputs": [
    {
     "data": {
      "text/plain": [
       "studio\n",
       "BV      7.149189e+09\n",
       "Uni.    4.984687e+09\n",
       "Name: profit, dtype: float64"
      ]
     },
     "execution_count": 69,
     "metadata": {},
     "output_type": "execute_result"
    }
   ],
   "source": [
    "studio_profits = query.groupby('studio')['profit'].sum()\n",
    "studio_profits"
   ]
  },
  {
   "cell_type": "code",
   "execution_count": 70,
   "metadata": {},
   "outputs": [
    {
     "data": {
      "text/plain": [
       "Index(['BV', 'Uni.'], dtype='object', name='studio')"
      ]
     },
     "execution_count": 70,
     "metadata": {},
     "output_type": "execute_result"
    }
   ],
   "source": [
    "studio_count.index"
   ]
  },
  {
   "cell_type": "code",
   "execution_count": 71,
   "metadata": {},
   "outputs": [
    {
     "data": {
      "text/plain": [
       "array([6, 4], dtype=int64)"
      ]
     },
     "execution_count": 71,
     "metadata": {},
     "output_type": "execute_result"
    }
   ],
   "source": [
    "studio_count.values"
   ]
  },
  {
   "cell_type": "code",
   "execution_count": 72,
   "metadata": {},
   "outputs": [
    {
     "name": "stderr",
     "output_type": "stream",
     "text": [
      "<ipython-input-72-14a1c7063ddd>:13: UserWarning: FixedFormatter should only be used together with FixedLocator\n",
      "  ax.set_xticklabels(x.str.replace(' ', '\\n'))\n"
     ]
    },
    {
     "data": {
      "image/png": "[encoded data removed]",
      "text/plain": [
       "<Figure size 1080x576 with 1 Axes>"
      ]
     },
     "metadata": {
      "needs_background": "light"
     },
     "output_type": "display_data"
    }
   ],
   "source": [
    "#Create bar chart showing Top 10 Worldwide Profitable Movies\n",
    "x = studio_count.index\n",
    "y = studio_count.values\n",
    "\n",
    "fig, ax = plt.subplots(figsize=(15,8))\n",
    "\n",
    "ax.bar(x,y)\n",
    "\n",
    "ax.set_title('Movie Studios with the Most Profitable Movies', fontsize=30)\n",
    "ax.set_xlabel('Studios', fontsize=15)\n",
    "ax.set_ylabel('Total Studio Count', fontsize=15)\n",
    "\n",
    "ax.set_xticklabels(x.str.replace(' ', '\\n'))\n",
    "ax.tick_params(axis='x', labelsize=13)"
   ]
  },
  {
   "cell_type": "code",
   "execution_count": 73,
   "metadata": {},
   "outputs": [
    {
     "data": {
      "text/plain": [
       "Index(['BV', 'Uni.'], dtype='object', name='studio')"
      ]
     },
     "execution_count": 73,
     "metadata": {},
     "output_type": "execute_result"
    }
   ],
   "source": [
    "studio_profits.index"
   ]
  },
  {
   "cell_type": "code",
   "execution_count": 74,
   "metadata": {},
   "outputs": [
    {
     "data": {
      "text/plain": [
       "array([7.14918928e+09, 4.98468663e+09])"
      ]
     },
     "execution_count": 74,
     "metadata": {},
     "output_type": "execute_result"
    }
   ],
   "source": [
    "studio_profits.values"
   ]
  },
  {
   "cell_type": "code",
   "execution_count": 77,
   "metadata": {},
   "outputs": [
    {
     "name": "stderr",
     "output_type": "stream",
     "text": [
      "<ipython-input-77-997f8e3529d5>:13: UserWarning: FixedFormatter should only be used together with FixedLocator\n",
      "  ax.set_xticklabels(x.str.replace(' ', '\\n'))\n"
     ]
    },
    {
     "data": {
      "image/png": "[encoded data removed]",
      "text/plain": [
       "<Figure size 1080x576 with 1 Axes>"
      ]
     },
     "metadata": {
      "needs_background": "light"
     },
     "output_type": "display_data"
    }
   ],
   "source": [
    "#Create bar chart showing Top 10 Worldwide Profitable Movies\n",
    "x = studio_profits.index\n",
    "y = studio_profits.values\n",
    "\n",
    "fig, ax = plt.subplots(figsize=(15,8))\n",
    "\n",
    "ax.bar(x,y)\n",
    "\n",
    "ax.set_title('Movie Studio Profits in Top 10 Most Profitable Movies', fontsize=30)\n",
    "ax.set_xlabel('Studios', fontsize=15)\n",
    "ax.set_ylabel('Total Studio Profit (in billions $)', fontsize=15)\n",
    "\n",
    "ax.set_xticklabels(x.str.replace(' ', '\\n'))\n",
    "ax.tick_params(axis='x', labelsize=13)"
   ]
  },
  {
   "cell_type": "code",
   "execution_count": null,
   "metadata": {},
   "outputs": [],
   "source": []
  },
  {
   "cell_type": "code",
   "execution_count": null,
   "metadata": {},
   "outputs": [],
   "source": []
  }
 ],
 "metadata": {
  "kernelspec": {
   "display_name": "learn-env",
   "language": "python",
   "name": "learn-env"
  },
  "language_info": {
   "codemirror_mode": {
    "name": "ipython",
    "version": 3
   },
   "file_extension": ".py",
   "mimetype": "text/x-python",
   "name": "python",
   "nbconvert_exporter": "python",
   "pygments_lexer": "ipython3",
   "version": "3.8.5"
  }
 },
 "nbformat": 4,
 "nbformat_minor": 4
}
