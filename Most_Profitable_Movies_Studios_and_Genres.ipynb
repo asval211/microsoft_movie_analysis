{
 "cells": [
  {
   "cell_type": "markdown",
   "metadata": {},
   "source": [
    "# 1. Import SQL, NumPy, pandas, Matplotlib for Python"
   ]
  },
  {
   "cell_type": "code",
   "execution_count": 1,
   "metadata": {},
   "outputs": [],
   "source": [
    "import sqlite3\n",
    "import numpy as np\n",
    "import pandas as pd\n",
    "import matplotlib.pyplot as plt\n",
    "%matplotlib inline"
   ]
  },
  {
   "cell_type": "markdown",
   "metadata": {},
   "source": [
    "* Connect to the database file `movies.db` and use the file path `data/`."
   ]
  },
  {
   "cell_type": "code",
   "execution_count": 2,
   "metadata": {},
   "outputs": [],
   "source": [
    "conn = sqlite3.connect('data\\movies.db')"
   ]
  },
  {
   "cell_type": "markdown",
   "metadata": {},
   "source": [
    "# 2. Open the database file as a dataframe called `query`."
   ]
  },
  {
   "cell_type": "markdown",
   "metadata": {},
   "source": [
    "In addition, you will `JOIN` tables and `SELECT` all the rows below to get the information you need.\n",
    "\n",
    "Since this is a `db` file, you will need to use `pd.read_sql` and input the SQL code to get the output below."
   ]
  },
  {
   "cell_type": "code",
   "execution_count": 3,
   "metadata": {},
   "outputs": [
    {
     "data": {
      "text/html": [
       "<div>\n",
       "<style scoped>\n",
       "    .dataframe tbody tr th:only-of-type {\n",
       "        vertical-align: middle;\n",
       "    }\n",
       "\n",
       "    .dataframe tbody tr th {\n",
       "        vertical-align: top;\n",
       "    }\n",
       "\n",
       "    .dataframe thead th {\n",
       "        text-align: right;\n",
       "    }\n",
       "</style>\n",
       "<table border=\"1\" class=\"dataframe\">\n",
       "  <thead>\n",
       "    <tr style=\"text-align: right;\">\n",
       "      <th></th>\n",
       "      <th>tconst</th>\n",
       "      <th>title</th>\n",
       "      <th>genres</th>\n",
       "      <th>studio</th>\n",
       "      <th>year</th>\n",
       "      <th>production_budget</th>\n",
       "      <th>worldwide_gross</th>\n",
       "    </tr>\n",
       "  </thead>\n",
       "  <tbody>\n",
       "    <tr>\n",
       "      <th>0</th>\n",
       "      <td>tt0435761</td>\n",
       "      <td>Toy Story 3</td>\n",
       "      <td>Adventure,Animation,Comedy</td>\n",
       "      <td>BV</td>\n",
       "      <td>2010</td>\n",
       "      <td>$200,000,000</td>\n",
       "      <td>$1,068,879,522</td>\n",
       "    </tr>\n",
       "    <tr>\n",
       "      <th>1</th>\n",
       "      <td>tt1375666</td>\n",
       "      <td>Inception</td>\n",
       "      <td>Action,Adventure,Sci-Fi</td>\n",
       "      <td>WB</td>\n",
       "      <td>2010</td>\n",
       "      <td>$160,000,000</td>\n",
       "      <td>$835,524,642</td>\n",
       "    </tr>\n",
       "    <tr>\n",
       "      <th>2</th>\n",
       "      <td>tt0892791</td>\n",
       "      <td>Shrek Forever After</td>\n",
       "      <td>Adventure,Animation,Comedy</td>\n",
       "      <td>P/DW</td>\n",
       "      <td>2010</td>\n",
       "      <td>$165,000,000</td>\n",
       "      <td>$756,244,673</td>\n",
       "    </tr>\n",
       "    <tr>\n",
       "      <th>3</th>\n",
       "      <td>tt1325004</td>\n",
       "      <td>The Twilight Saga: Eclipse</td>\n",
       "      <td>Adventure,Drama,Fantasy</td>\n",
       "      <td>Sum.</td>\n",
       "      <td>2010</td>\n",
       "      <td>$68,000,000</td>\n",
       "      <td>$706,102,828</td>\n",
       "    </tr>\n",
       "    <tr>\n",
       "      <th>4</th>\n",
       "      <td>tt1228705</td>\n",
       "      <td>Iron Man 2</td>\n",
       "      <td>Action,Adventure,Sci-Fi</td>\n",
       "      <td>Par.</td>\n",
       "      <td>2010</td>\n",
       "      <td>$170,000,000</td>\n",
       "      <td>$621,156,389</td>\n",
       "    </tr>\n",
       "  </tbody>\n",
       "</table>\n",
       "</div>"
      ],
      "text/plain": [
       "      tconst                       title                      genres studio  \\\n",
       "0  tt0435761                 Toy Story 3  Adventure,Animation,Comedy     BV   \n",
       "1  tt1375666                   Inception     Action,Adventure,Sci-Fi     WB   \n",
       "2  tt0892791         Shrek Forever After  Adventure,Animation,Comedy   P/DW   \n",
       "3  tt1325004  The Twilight Saga: Eclipse     Adventure,Drama,Fantasy   Sum.   \n",
       "4  tt1228705                  Iron Man 2     Action,Adventure,Sci-Fi   Par.   \n",
       "\n",
       "   year production_budget worldwide_gross  \n",
       "0  2010      $200,000,000  $1,068,879,522  \n",
       "1  2010      $160,000,000    $835,524,642  \n",
       "2  2010      $165,000,000    $756,244,673  \n",
       "3  2010       $68,000,000    $706,102,828  \n",
       "4  2010      $170,000,000    $621,156,389  "
      ]
     },
     "execution_count": 3,
     "metadata": {},
     "output_type": "execute_result"
    }
   ],
   "source": [
    "#Print the query dataframe and filter the rows needed\n",
    "query = pd.read_sql('''SELECT DISTINCT tconst, g.title, i.genres, g.studio,  g.year,\n",
    "                       t.production_budget, t.worldwide_gross\n",
    "                       FROM bom_movie_gross as g\n",
    "                       JOIN imdb_title_basics as i\n",
    "                       ON g.title = i.primary_title\n",
    "                       AND g.year = i.start_year\n",
    "                       JOIN tn_movie_budgets as t\n",
    "                       ON t.movie = i.primary_title''', conn)\n",
    "query.head()"
   ]
  },
  {
   "cell_type": "markdown",
   "metadata": {},
   "source": [
    "I've joined the `bom_movie_gross` table and the `imdb_title_basics` table to get the data I need for Microsoft. All columns selected are `DISTINCT` so we receive different values for each movie. In addition, we used the `ON` clause to `JOIN` multiple columns. First, we connected the tables based on movie title - `g.title = i.primary_title`. Then we connected the tables based on year - `g.year = i.start_year` - because we only need movies under the `title` column listed once. Otherwise, we would have \"Frozen\" listed three times."
   ]
  },
  {
   "cell_type": "markdown",
   "metadata": {},
   "source": [
    "I've also joined the `tn_movie_budgets` table with the `imdb_basiccs_title` table based on movie title - `t.movie = i.primary_title`. This will allow us to add `production_budget` and `worldwide_gross` columns in the next steps."
   ]
  },
  {
   "cell_type": "markdown",
   "metadata": {},
   "source": [
    "# 3. Convert `production_budget` and `worldwide_gross` columns to floats in the dataframe."
   ]
  },
  {
   "cell_type": "markdown",
   "metadata": {},
   "source": [
    "First, we need to remove the commas ( , ) and the $ from the dataframe."
   ]
  },
  {
   "cell_type": "code",
   "execution_count": 4,
   "metadata": {},
   "outputs": [],
   "source": [
    "#Eliminate all $ and commas from the columns\n",
    "query['production_budget'] = query['production_budget'].map(lambda x: x.replace(',', ''))\n",
    "query['production_budget'] = query['production_budget'].map(lambda x: x.replace('$', ''))\n",
    "query['worldwide_gross'] = query['worldwide_gross'].map(lambda x: x.replace(',', ''))\n",
    "query['worldwide_gross'] = query['worldwide_gross'].map(lambda x: x.replace('$', ''))"
   ]
  },
  {
   "cell_type": "code",
   "execution_count": 5,
   "metadata": {
    "scrolled": false
   },
   "outputs": [
    {
     "data": {
      "text/html": [
       "<div>\n",
       "<style scoped>\n",
       "    .dataframe tbody tr th:only-of-type {\n",
       "        vertical-align: middle;\n",
       "    }\n",
       "\n",
       "    .dataframe tbody tr th {\n",
       "        vertical-align: top;\n",
       "    }\n",
       "\n",
       "    .dataframe thead th {\n",
       "        text-align: right;\n",
       "    }\n",
       "</style>\n",
       "<table border=\"1\" class=\"dataframe\">\n",
       "  <thead>\n",
       "    <tr style=\"text-align: right;\">\n",
       "      <th></th>\n",
       "      <th>tconst</th>\n",
       "      <th>title</th>\n",
       "      <th>genres</th>\n",
       "      <th>studio</th>\n",
       "      <th>year</th>\n",
       "      <th>production_budget</th>\n",
       "      <th>worldwide_gross</th>\n",
       "    </tr>\n",
       "  </thead>\n",
       "  <tbody>\n",
       "    <tr>\n",
       "      <th>0</th>\n",
       "      <td>tt0435761</td>\n",
       "      <td>Toy Story 3</td>\n",
       "      <td>Adventure,Animation,Comedy</td>\n",
       "      <td>BV</td>\n",
       "      <td>2010</td>\n",
       "      <td>200000000</td>\n",
       "      <td>1068879522</td>\n",
       "    </tr>\n",
       "    <tr>\n",
       "      <th>1</th>\n",
       "      <td>tt1375666</td>\n",
       "      <td>Inception</td>\n",
       "      <td>Action,Adventure,Sci-Fi</td>\n",
       "      <td>WB</td>\n",
       "      <td>2010</td>\n",
       "      <td>160000000</td>\n",
       "      <td>835524642</td>\n",
       "    </tr>\n",
       "    <tr>\n",
       "      <th>2</th>\n",
       "      <td>tt0892791</td>\n",
       "      <td>Shrek Forever After</td>\n",
       "      <td>Adventure,Animation,Comedy</td>\n",
       "      <td>P/DW</td>\n",
       "      <td>2010</td>\n",
       "      <td>165000000</td>\n",
       "      <td>756244673</td>\n",
       "    </tr>\n",
       "    <tr>\n",
       "      <th>3</th>\n",
       "      <td>tt1325004</td>\n",
       "      <td>The Twilight Saga: Eclipse</td>\n",
       "      <td>Adventure,Drama,Fantasy</td>\n",
       "      <td>Sum.</td>\n",
       "      <td>2010</td>\n",
       "      <td>68000000</td>\n",
       "      <td>706102828</td>\n",
       "    </tr>\n",
       "    <tr>\n",
       "      <th>4</th>\n",
       "      <td>tt1228705</td>\n",
       "      <td>Iron Man 2</td>\n",
       "      <td>Action,Adventure,Sci-Fi</td>\n",
       "      <td>Par.</td>\n",
       "      <td>2010</td>\n",
       "      <td>170000000</td>\n",
       "      <td>621156389</td>\n",
       "    </tr>\n",
       "    <tr>\n",
       "      <th>...</th>\n",
       "      <td>...</td>\n",
       "      <td>...</td>\n",
       "      <td>...</td>\n",
       "      <td>...</td>\n",
       "      <td>...</td>\n",
       "      <td>...</td>\n",
       "      <td>...</td>\n",
       "    </tr>\n",
       "    <tr>\n",
       "      <th>1070</th>\n",
       "      <td>tt1034415</td>\n",
       "      <td>Suspiria</td>\n",
       "      <td>Fantasy,Horror,Mystery</td>\n",
       "      <td>Amazon</td>\n",
       "      <td>2018</td>\n",
       "      <td>20000000</td>\n",
       "      <td>7034615</td>\n",
       "    </tr>\n",
       "    <tr>\n",
       "      <th>1071</th>\n",
       "      <td>tt5360952</td>\n",
       "      <td>The Hurricane Heist</td>\n",
       "      <td>Action,Adventure,Crime</td>\n",
       "      <td>ENTMP</td>\n",
       "      <td>2018</td>\n",
       "      <td>40000000</td>\n",
       "      <td>30963684</td>\n",
       "    </tr>\n",
       "    <tr>\n",
       "      <th>1072</th>\n",
       "      <td>tt7137380</td>\n",
       "      <td>Destroyer</td>\n",
       "      <td>Action,Crime,Drama</td>\n",
       "      <td>Annapurna</td>\n",
       "      <td>2018</td>\n",
       "      <td>9000000</td>\n",
       "      <td>3681096</td>\n",
       "    </tr>\n",
       "    <tr>\n",
       "      <th>1073</th>\n",
       "      <td>tt1801552</td>\n",
       "      <td>Gotti</td>\n",
       "      <td>Biography,Crime,Drama</td>\n",
       "      <td>VE</td>\n",
       "      <td>2018</td>\n",
       "      <td>10000000</td>\n",
       "      <td>6089100</td>\n",
       "    </tr>\n",
       "    <tr>\n",
       "      <th>1074</th>\n",
       "      <td>tt6998518</td>\n",
       "      <td>Mandy</td>\n",
       "      <td>Action,Fantasy,Horror</td>\n",
       "      <td>RLJ</td>\n",
       "      <td>2018</td>\n",
       "      <td>6000000</td>\n",
       "      <td>1427656</td>\n",
       "    </tr>\n",
       "  </tbody>\n",
       "</table>\n",
       "<p>1075 rows × 7 columns</p>\n",
       "</div>"
      ],
      "text/plain": [
       "         tconst                       title                      genres  \\\n",
       "0     tt0435761                 Toy Story 3  Adventure,Animation,Comedy   \n",
       "1     tt1375666                   Inception     Action,Adventure,Sci-Fi   \n",
       "2     tt0892791         Shrek Forever After  Adventure,Animation,Comedy   \n",
       "3     tt1325004  The Twilight Saga: Eclipse     Adventure,Drama,Fantasy   \n",
       "4     tt1228705                  Iron Man 2     Action,Adventure,Sci-Fi   \n",
       "...         ...                         ...                         ...   \n",
       "1070  tt1034415                    Suspiria      Fantasy,Horror,Mystery   \n",
       "1071  tt5360952         The Hurricane Heist      Action,Adventure,Crime   \n",
       "1072  tt7137380                   Destroyer          Action,Crime,Drama   \n",
       "1073  tt1801552                       Gotti       Biography,Crime,Drama   \n",
       "1074  tt6998518                       Mandy       Action,Fantasy,Horror   \n",
       "\n",
       "         studio  year production_budget worldwide_gross  \n",
       "0            BV  2010         200000000      1068879522  \n",
       "1            WB  2010         160000000       835524642  \n",
       "2          P/DW  2010         165000000       756244673  \n",
       "3          Sum.  2010          68000000       706102828  \n",
       "4          Par.  2010         170000000       621156389  \n",
       "...         ...   ...               ...             ...  \n",
       "1070     Amazon  2018          20000000         7034615  \n",
       "1071      ENTMP  2018          40000000        30963684  \n",
       "1072  Annapurna  2018           9000000         3681096  \n",
       "1073         VE  2018          10000000         6089100  \n",
       "1074        RLJ  2018           6000000         1427656  \n",
       "\n",
       "[1075 rows x 7 columns]"
      ]
     },
     "execution_count": 5,
     "metadata": {},
     "output_type": "execute_result"
    }
   ],
   "source": [
    "query"
   ]
  },
  {
   "cell_type": "markdown",
   "metadata": {},
   "source": [
    "Next, the `production_budget` column and the `worldwide_gross` column will have to be converted from a string to a float. Check the dtypes for all columns and you'll see both columns are currently strings - `object`."
   ]
  },
  {
   "cell_type": "code",
   "execution_count": 6,
   "metadata": {
    "scrolled": true
   },
   "outputs": [
    {
     "data": {
      "text/plain": [
       "tconst               object\n",
       "title                object\n",
       "genres               object\n",
       "studio               object\n",
       "year                  int64\n",
       "production_budget    object\n",
       "worldwide_gross      object\n",
       "dtype: object"
      ]
     },
     "execution_count": 6,
     "metadata": {},
     "output_type": "execute_result"
    }
   ],
   "source": [
    "query.dtypes"
   ]
  },
  {
   "cell_type": "code",
   "execution_count": 7,
   "metadata": {},
   "outputs": [
    {
     "data": {
      "text/html": [
       "<div>\n",
       "<style scoped>\n",
       "    .dataframe tbody tr th:only-of-type {\n",
       "        vertical-align: middle;\n",
       "    }\n",
       "\n",
       "    .dataframe tbody tr th {\n",
       "        vertical-align: top;\n",
       "    }\n",
       "\n",
       "    .dataframe thead th {\n",
       "        text-align: right;\n",
       "    }\n",
       "</style>\n",
       "<table border=\"1\" class=\"dataframe\">\n",
       "  <thead>\n",
       "    <tr style=\"text-align: right;\">\n",
       "      <th></th>\n",
       "      <th>tconst</th>\n",
       "      <th>title</th>\n",
       "      <th>genres</th>\n",
       "      <th>studio</th>\n",
       "      <th>year</th>\n",
       "      <th>production_budget</th>\n",
       "      <th>worldwide_gross</th>\n",
       "    </tr>\n",
       "  </thead>\n",
       "  <tbody>\n",
       "    <tr>\n",
       "      <th>0</th>\n",
       "      <td>tt0435761</td>\n",
       "      <td>Toy Story 3</td>\n",
       "      <td>Adventure,Animation,Comedy</td>\n",
       "      <td>BV</td>\n",
       "      <td>2010</td>\n",
       "      <td>200000000.0</td>\n",
       "      <td>1.068880e+09</td>\n",
       "    </tr>\n",
       "    <tr>\n",
       "      <th>1</th>\n",
       "      <td>tt1375666</td>\n",
       "      <td>Inception</td>\n",
       "      <td>Action,Adventure,Sci-Fi</td>\n",
       "      <td>WB</td>\n",
       "      <td>2010</td>\n",
       "      <td>160000000.0</td>\n",
       "      <td>8.355246e+08</td>\n",
       "    </tr>\n",
       "    <tr>\n",
       "      <th>2</th>\n",
       "      <td>tt0892791</td>\n",
       "      <td>Shrek Forever After</td>\n",
       "      <td>Adventure,Animation,Comedy</td>\n",
       "      <td>P/DW</td>\n",
       "      <td>2010</td>\n",
       "      <td>165000000.0</td>\n",
       "      <td>7.562447e+08</td>\n",
       "    </tr>\n",
       "    <tr>\n",
       "      <th>3</th>\n",
       "      <td>tt1325004</td>\n",
       "      <td>The Twilight Saga: Eclipse</td>\n",
       "      <td>Adventure,Drama,Fantasy</td>\n",
       "      <td>Sum.</td>\n",
       "      <td>2010</td>\n",
       "      <td>68000000.0</td>\n",
       "      <td>7.061028e+08</td>\n",
       "    </tr>\n",
       "    <tr>\n",
       "      <th>4</th>\n",
       "      <td>tt1228705</td>\n",
       "      <td>Iron Man 2</td>\n",
       "      <td>Action,Adventure,Sci-Fi</td>\n",
       "      <td>Par.</td>\n",
       "      <td>2010</td>\n",
       "      <td>170000000.0</td>\n",
       "      <td>6.211564e+08</td>\n",
       "    </tr>\n",
       "    <tr>\n",
       "      <th>...</th>\n",
       "      <td>...</td>\n",
       "      <td>...</td>\n",
       "      <td>...</td>\n",
       "      <td>...</td>\n",
       "      <td>...</td>\n",
       "      <td>...</td>\n",
       "      <td>...</td>\n",
       "    </tr>\n",
       "    <tr>\n",
       "      <th>1070</th>\n",
       "      <td>tt1034415</td>\n",
       "      <td>Suspiria</td>\n",
       "      <td>Fantasy,Horror,Mystery</td>\n",
       "      <td>Amazon</td>\n",
       "      <td>2018</td>\n",
       "      <td>20000000.0</td>\n",
       "      <td>7.034615e+06</td>\n",
       "    </tr>\n",
       "    <tr>\n",
       "      <th>1071</th>\n",
       "      <td>tt5360952</td>\n",
       "      <td>The Hurricane Heist</td>\n",
       "      <td>Action,Adventure,Crime</td>\n",
       "      <td>ENTMP</td>\n",
       "      <td>2018</td>\n",
       "      <td>40000000.0</td>\n",
       "      <td>3.096368e+07</td>\n",
       "    </tr>\n",
       "    <tr>\n",
       "      <th>1072</th>\n",
       "      <td>tt7137380</td>\n",
       "      <td>Destroyer</td>\n",
       "      <td>Action,Crime,Drama</td>\n",
       "      <td>Annapurna</td>\n",
       "      <td>2018</td>\n",
       "      <td>9000000.0</td>\n",
       "      <td>3.681096e+06</td>\n",
       "    </tr>\n",
       "    <tr>\n",
       "      <th>1073</th>\n",
       "      <td>tt1801552</td>\n",
       "      <td>Gotti</td>\n",
       "      <td>Biography,Crime,Drama</td>\n",
       "      <td>VE</td>\n",
       "      <td>2018</td>\n",
       "      <td>10000000.0</td>\n",
       "      <td>6.089100e+06</td>\n",
       "    </tr>\n",
       "    <tr>\n",
       "      <th>1074</th>\n",
       "      <td>tt6998518</td>\n",
       "      <td>Mandy</td>\n",
       "      <td>Action,Fantasy,Horror</td>\n",
       "      <td>RLJ</td>\n",
       "      <td>2018</td>\n",
       "      <td>6000000.0</td>\n",
       "      <td>1.427656e+06</td>\n",
       "    </tr>\n",
       "  </tbody>\n",
       "</table>\n",
       "<p>1075 rows × 7 columns</p>\n",
       "</div>"
      ],
      "text/plain": [
       "         tconst                       title                      genres  \\\n",
       "0     tt0435761                 Toy Story 3  Adventure,Animation,Comedy   \n",
       "1     tt1375666                   Inception     Action,Adventure,Sci-Fi   \n",
       "2     tt0892791         Shrek Forever After  Adventure,Animation,Comedy   \n",
       "3     tt1325004  The Twilight Saga: Eclipse     Adventure,Drama,Fantasy   \n",
       "4     tt1228705                  Iron Man 2     Action,Adventure,Sci-Fi   \n",
       "...         ...                         ...                         ...   \n",
       "1070  tt1034415                    Suspiria      Fantasy,Horror,Mystery   \n",
       "1071  tt5360952         The Hurricane Heist      Action,Adventure,Crime   \n",
       "1072  tt7137380                   Destroyer          Action,Crime,Drama   \n",
       "1073  tt1801552                       Gotti       Biography,Crime,Drama   \n",
       "1074  tt6998518                       Mandy       Action,Fantasy,Horror   \n",
       "\n",
       "         studio  year  production_budget  worldwide_gross  \n",
       "0            BV  2010        200000000.0     1.068880e+09  \n",
       "1            WB  2010        160000000.0     8.355246e+08  \n",
       "2          P/DW  2010        165000000.0     7.562447e+08  \n",
       "3          Sum.  2010         68000000.0     7.061028e+08  \n",
       "4          Par.  2010        170000000.0     6.211564e+08  \n",
       "...         ...   ...                ...              ...  \n",
       "1070     Amazon  2018         20000000.0     7.034615e+06  \n",
       "1071      ENTMP  2018         40000000.0     3.096368e+07  \n",
       "1072  Annapurna  2018          9000000.0     3.681096e+06  \n",
       "1073         VE  2018         10000000.0     6.089100e+06  \n",
       "1074        RLJ  2018          6000000.0     1.427656e+06  \n",
       "\n",
       "[1075 rows x 7 columns]"
      ]
     },
     "execution_count": 7,
     "metadata": {},
     "output_type": "execute_result"
    }
   ],
   "source": [
    "#Convert columns from strings to floats\n",
    "query.production_budget = query.production_budget.astype(float)\n",
    "query.worldwide_gross = query.worldwide_gross.astype(float)\n",
    "query"
   ]
  },
  {
   "cell_type": "markdown",
   "metadata": {},
   "source": [
    "Run the dtypes again and you'll see both columns are now floats - `float64`."
   ]
  },
  {
   "cell_type": "code",
   "execution_count": 8,
   "metadata": {
    "scrolled": true
   },
   "outputs": [
    {
     "data": {
      "text/plain": [
       "tconst                object\n",
       "title                 object\n",
       "genres                object\n",
       "studio                object\n",
       "year                   int64\n",
       "production_budget    float64\n",
       "worldwide_gross      float64\n",
       "dtype: object"
      ]
     },
     "execution_count": 8,
     "metadata": {},
     "output_type": "execute_result"
    }
   ],
   "source": [
    "#Verify change\n",
    "query.dtypes"
   ]
  },
  {
   "cell_type": "markdown",
   "metadata": {},
   "source": [
    "# 4. Add a new column called `profit` to the dataframe."
   ]
  },
  {
   "cell_type": "markdown",
   "metadata": {},
   "source": [
    "**We'll use the newly created `profit` column as our primary metric for our data!**"
   ]
  },
  {
   "cell_type": "code",
   "execution_count": 9,
   "metadata": {
    "scrolled": false
   },
   "outputs": [
    {
     "data": {
      "text/html": [
       "<div>\n",
       "<style scoped>\n",
       "    .dataframe tbody tr th:only-of-type {\n",
       "        vertical-align: middle;\n",
       "    }\n",
       "\n",
       "    .dataframe tbody tr th {\n",
       "        vertical-align: top;\n",
       "    }\n",
       "\n",
       "    .dataframe thead th {\n",
       "        text-align: right;\n",
       "    }\n",
       "</style>\n",
       "<table border=\"1\" class=\"dataframe\">\n",
       "  <thead>\n",
       "    <tr style=\"text-align: right;\">\n",
       "      <th></th>\n",
       "      <th>tconst</th>\n",
       "      <th>title</th>\n",
       "      <th>genres</th>\n",
       "      <th>studio</th>\n",
       "      <th>year</th>\n",
       "      <th>production_budget</th>\n",
       "      <th>worldwide_gross</th>\n",
       "      <th>profit</th>\n",
       "    </tr>\n",
       "  </thead>\n",
       "  <tbody>\n",
       "    <tr>\n",
       "      <th>0</th>\n",
       "      <td>tt0435761</td>\n",
       "      <td>Toy Story 3</td>\n",
       "      <td>Adventure,Animation,Comedy</td>\n",
       "      <td>BV</td>\n",
       "      <td>2010</td>\n",
       "      <td>200000000.0</td>\n",
       "      <td>1.068880e+09</td>\n",
       "      <td>868879522.0</td>\n",
       "    </tr>\n",
       "    <tr>\n",
       "      <th>1</th>\n",
       "      <td>tt1375666</td>\n",
       "      <td>Inception</td>\n",
       "      <td>Action,Adventure,Sci-Fi</td>\n",
       "      <td>WB</td>\n",
       "      <td>2010</td>\n",
       "      <td>160000000.0</td>\n",
       "      <td>8.355246e+08</td>\n",
       "      <td>675524642.0</td>\n",
       "    </tr>\n",
       "    <tr>\n",
       "      <th>2</th>\n",
       "      <td>tt0892791</td>\n",
       "      <td>Shrek Forever After</td>\n",
       "      <td>Adventure,Animation,Comedy</td>\n",
       "      <td>P/DW</td>\n",
       "      <td>2010</td>\n",
       "      <td>165000000.0</td>\n",
       "      <td>7.562447e+08</td>\n",
       "      <td>591244673.0</td>\n",
       "    </tr>\n",
       "    <tr>\n",
       "      <th>3</th>\n",
       "      <td>tt1325004</td>\n",
       "      <td>The Twilight Saga: Eclipse</td>\n",
       "      <td>Adventure,Drama,Fantasy</td>\n",
       "      <td>Sum.</td>\n",
       "      <td>2010</td>\n",
       "      <td>68000000.0</td>\n",
       "      <td>7.061028e+08</td>\n",
       "      <td>638102828.0</td>\n",
       "    </tr>\n",
       "    <tr>\n",
       "      <th>4</th>\n",
       "      <td>tt1228705</td>\n",
       "      <td>Iron Man 2</td>\n",
       "      <td>Action,Adventure,Sci-Fi</td>\n",
       "      <td>Par.</td>\n",
       "      <td>2010</td>\n",
       "      <td>170000000.0</td>\n",
       "      <td>6.211564e+08</td>\n",
       "      <td>451156389.0</td>\n",
       "    </tr>\n",
       "    <tr>\n",
       "      <th>...</th>\n",
       "      <td>...</td>\n",
       "      <td>...</td>\n",
       "      <td>...</td>\n",
       "      <td>...</td>\n",
       "      <td>...</td>\n",
       "      <td>...</td>\n",
       "      <td>...</td>\n",
       "      <td>...</td>\n",
       "    </tr>\n",
       "    <tr>\n",
       "      <th>1070</th>\n",
       "      <td>tt1034415</td>\n",
       "      <td>Suspiria</td>\n",
       "      <td>Fantasy,Horror,Mystery</td>\n",
       "      <td>Amazon</td>\n",
       "      <td>2018</td>\n",
       "      <td>20000000.0</td>\n",
       "      <td>7.034615e+06</td>\n",
       "      <td>-12965385.0</td>\n",
       "    </tr>\n",
       "    <tr>\n",
       "      <th>1071</th>\n",
       "      <td>tt5360952</td>\n",
       "      <td>The Hurricane Heist</td>\n",
       "      <td>Action,Adventure,Crime</td>\n",
       "      <td>ENTMP</td>\n",
       "      <td>2018</td>\n",
       "      <td>40000000.0</td>\n",
       "      <td>3.096368e+07</td>\n",
       "      <td>-9036316.0</td>\n",
       "    </tr>\n",
       "    <tr>\n",
       "      <th>1072</th>\n",
       "      <td>tt7137380</td>\n",
       "      <td>Destroyer</td>\n",
       "      <td>Action,Crime,Drama</td>\n",
       "      <td>Annapurna</td>\n",
       "      <td>2018</td>\n",
       "      <td>9000000.0</td>\n",
       "      <td>3.681096e+06</td>\n",
       "      <td>-5318904.0</td>\n",
       "    </tr>\n",
       "    <tr>\n",
       "      <th>1073</th>\n",
       "      <td>tt1801552</td>\n",
       "      <td>Gotti</td>\n",
       "      <td>Biography,Crime,Drama</td>\n",
       "      <td>VE</td>\n",
       "      <td>2018</td>\n",
       "      <td>10000000.0</td>\n",
       "      <td>6.089100e+06</td>\n",
       "      <td>-3910900.0</td>\n",
       "    </tr>\n",
       "    <tr>\n",
       "      <th>1074</th>\n",
       "      <td>tt6998518</td>\n",
       "      <td>Mandy</td>\n",
       "      <td>Action,Fantasy,Horror</td>\n",
       "      <td>RLJ</td>\n",
       "      <td>2018</td>\n",
       "      <td>6000000.0</td>\n",
       "      <td>1.427656e+06</td>\n",
       "      <td>-4572344.0</td>\n",
       "    </tr>\n",
       "  </tbody>\n",
       "</table>\n",
       "<p>1075 rows × 8 columns</p>\n",
       "</div>"
      ],
      "text/plain": [
       "         tconst                       title                      genres  \\\n",
       "0     tt0435761                 Toy Story 3  Adventure,Animation,Comedy   \n",
       "1     tt1375666                   Inception     Action,Adventure,Sci-Fi   \n",
       "2     tt0892791         Shrek Forever After  Adventure,Animation,Comedy   \n",
       "3     tt1325004  The Twilight Saga: Eclipse     Adventure,Drama,Fantasy   \n",
       "4     tt1228705                  Iron Man 2     Action,Adventure,Sci-Fi   \n",
       "...         ...                         ...                         ...   \n",
       "1070  tt1034415                    Suspiria      Fantasy,Horror,Mystery   \n",
       "1071  tt5360952         The Hurricane Heist      Action,Adventure,Crime   \n",
       "1072  tt7137380                   Destroyer          Action,Crime,Drama   \n",
       "1073  tt1801552                       Gotti       Biography,Crime,Drama   \n",
       "1074  tt6998518                       Mandy       Action,Fantasy,Horror   \n",
       "\n",
       "         studio  year  production_budget  worldwide_gross       profit  \n",
       "0            BV  2010        200000000.0     1.068880e+09  868879522.0  \n",
       "1            WB  2010        160000000.0     8.355246e+08  675524642.0  \n",
       "2          P/DW  2010        165000000.0     7.562447e+08  591244673.0  \n",
       "3          Sum.  2010         68000000.0     7.061028e+08  638102828.0  \n",
       "4          Par.  2010        170000000.0     6.211564e+08  451156389.0  \n",
       "...         ...   ...                ...              ...          ...  \n",
       "1070     Amazon  2018         20000000.0     7.034615e+06  -12965385.0  \n",
       "1071      ENTMP  2018         40000000.0     3.096368e+07   -9036316.0  \n",
       "1072  Annapurna  2018          9000000.0     3.681096e+06   -5318904.0  \n",
       "1073         VE  2018         10000000.0     6.089100e+06   -3910900.0  \n",
       "1074        RLJ  2018          6000000.0     1.427656e+06   -4572344.0  \n",
       "\n",
       "[1075 rows x 8 columns]"
      ]
     },
     "execution_count": 9,
     "metadata": {},
     "output_type": "execute_result"
    }
   ],
   "source": [
    "#Add 'profit' column to the dataframe\n",
    "query['profit'] = query['worldwide_gross'] - query['production_budget']\n",
    "query"
   ]
  },
  {
   "cell_type": "markdown",
   "metadata": {},
   "source": [
    "# 5. Find the Top 10 Most Profitable Films using the `profit` column."
   ]
  },
  {
   "cell_type": "markdown",
   "metadata": {},
   "source": [
    "Sort the dataframe in descending order and then reduce the list down to the top 10 profitable films."
   ]
  },
  {
   "cell_type": "code",
   "execution_count": 10,
   "metadata": {},
   "outputs": [],
   "source": [
    "#Top 10 Profitable Films\n",
    "query = query.sort_values('profit', ascending=False).iloc[:10]"
   ]
  },
  {
   "cell_type": "code",
   "execution_count": 11,
   "metadata": {
    "scrolled": false
   },
   "outputs": [
    {
     "data": {
      "text/html": [
       "<div>\n",
       "<style scoped>\n",
       "    .dataframe tbody tr th:only-of-type {\n",
       "        vertical-align: middle;\n",
       "    }\n",
       "\n",
       "    .dataframe tbody tr th {\n",
       "        vertical-align: top;\n",
       "    }\n",
       "\n",
       "    .dataframe thead th {\n",
       "        text-align: right;\n",
       "    }\n",
       "</style>\n",
       "<table border=\"1\" class=\"dataframe\">\n",
       "  <thead>\n",
       "    <tr style=\"text-align: right;\">\n",
       "      <th></th>\n",
       "      <th>tconst</th>\n",
       "      <th>title</th>\n",
       "      <th>genres</th>\n",
       "      <th>studio</th>\n",
       "      <th>year</th>\n",
       "      <th>production_budget</th>\n",
       "      <th>worldwide_gross</th>\n",
       "      <th>profit</th>\n",
       "    </tr>\n",
       "  </thead>\n",
       "  <tbody>\n",
       "    <tr>\n",
       "      <th>987</th>\n",
       "      <td>tt4154756</td>\n",
       "      <td>Avengers: Infinity War</td>\n",
       "      <td>Action,Adventure,Sci-Fi</td>\n",
       "      <td>BV</td>\n",
       "      <td>2018</td>\n",
       "      <td>300000000.0</td>\n",
       "      <td>2.048134e+09</td>\n",
       "      <td>1.748134e+09</td>\n",
       "    </tr>\n",
       "    <tr>\n",
       "      <th>643</th>\n",
       "      <td>tt0369610</td>\n",
       "      <td>Jurassic World</td>\n",
       "      <td>Action,Adventure,Sci-Fi</td>\n",
       "      <td>Uni.</td>\n",
       "      <td>2015</td>\n",
       "      <td>215000000.0</td>\n",
       "      <td>1.648855e+09</td>\n",
       "      <td>1.433855e+09</td>\n",
       "    </tr>\n",
       "    <tr>\n",
       "      <th>644</th>\n",
       "      <td>tt2820852</td>\n",
       "      <td>Furious 7</td>\n",
       "      <td>Action,Crime,Thriller</td>\n",
       "      <td>Uni.</td>\n",
       "      <td>2015</td>\n",
       "      <td>190000000.0</td>\n",
       "      <td>1.518723e+09</td>\n",
       "      <td>1.328723e+09</td>\n",
       "    </tr>\n",
       "    <tr>\n",
       "      <th>988</th>\n",
       "      <td>tt1825683</td>\n",
       "      <td>Black Panther</td>\n",
       "      <td>Action,Adventure,Sci-Fi</td>\n",
       "      <td>BV</td>\n",
       "      <td>2018</td>\n",
       "      <td>200000000.0</td>\n",
       "      <td>1.348258e+09</td>\n",
       "      <td>1.148258e+09</td>\n",
       "    </tr>\n",
       "    <tr>\n",
       "      <th>989</th>\n",
       "      <td>tt4881806</td>\n",
       "      <td>Jurassic World: Fallen Kingdom</td>\n",
       "      <td>Action,Adventure,Sci-Fi</td>\n",
       "      <td>Uni.</td>\n",
       "      <td>2018</td>\n",
       "      <td>170000000.0</td>\n",
       "      <td>1.305773e+09</td>\n",
       "      <td>1.135773e+09</td>\n",
       "    </tr>\n",
       "    <tr>\n",
       "      <th>407</th>\n",
       "      <td>tt2294629</td>\n",
       "      <td>Frozen</td>\n",
       "      <td>Adventure,Animation,Comedy</td>\n",
       "      <td>BV</td>\n",
       "      <td>2013</td>\n",
       "      <td>150000000.0</td>\n",
       "      <td>1.272470e+09</td>\n",
       "      <td>1.122470e+09</td>\n",
       "    </tr>\n",
       "    <tr>\n",
       "      <th>646</th>\n",
       "      <td>tt2293640</td>\n",
       "      <td>Minions</td>\n",
       "      <td>Adventure,Animation,Comedy</td>\n",
       "      <td>Uni.</td>\n",
       "      <td>2015</td>\n",
       "      <td>74000000.0</td>\n",
       "      <td>1.160336e+09</td>\n",
       "      <td>1.086336e+09</td>\n",
       "    </tr>\n",
       "    <tr>\n",
       "      <th>645</th>\n",
       "      <td>tt2395427</td>\n",
       "      <td>Avengers: Age of Ultron</td>\n",
       "      <td>Action,Adventure,Sci-Fi</td>\n",
       "      <td>BV</td>\n",
       "      <td>2015</td>\n",
       "      <td>330600000.0</td>\n",
       "      <td>1.403014e+09</td>\n",
       "      <td>1.072414e+09</td>\n",
       "    </tr>\n",
       "    <tr>\n",
       "      <th>990</th>\n",
       "      <td>tt3606756</td>\n",
       "      <td>Incredibles 2</td>\n",
       "      <td>Action,Adventure,Animation</td>\n",
       "      <td>BV</td>\n",
       "      <td>2018</td>\n",
       "      <td>200000000.0</td>\n",
       "      <td>1.242521e+09</td>\n",
       "      <td>1.042521e+09</td>\n",
       "    </tr>\n",
       "    <tr>\n",
       "      <th>408</th>\n",
       "      <td>tt1300854</td>\n",
       "      <td>Iron Man 3</td>\n",
       "      <td>Action,Adventure,Sci-Fi</td>\n",
       "      <td>BV</td>\n",
       "      <td>2013</td>\n",
       "      <td>200000000.0</td>\n",
       "      <td>1.215392e+09</td>\n",
       "      <td>1.015392e+09</td>\n",
       "    </tr>\n",
       "  </tbody>\n",
       "</table>\n",
       "</div>"
      ],
      "text/plain": [
       "        tconst                           title                      genres  \\\n",
       "987  tt4154756          Avengers: Infinity War     Action,Adventure,Sci-Fi   \n",
       "643  tt0369610                  Jurassic World     Action,Adventure,Sci-Fi   \n",
       "644  tt2820852                       Furious 7       Action,Crime,Thriller   \n",
       "988  tt1825683                   Black Panther     Action,Adventure,Sci-Fi   \n",
       "989  tt4881806  Jurassic World: Fallen Kingdom     Action,Adventure,Sci-Fi   \n",
       "407  tt2294629                          Frozen  Adventure,Animation,Comedy   \n",
       "646  tt2293640                         Minions  Adventure,Animation,Comedy   \n",
       "645  tt2395427         Avengers: Age of Ultron     Action,Adventure,Sci-Fi   \n",
       "990  tt3606756                   Incredibles 2  Action,Adventure,Animation   \n",
       "408  tt1300854                      Iron Man 3     Action,Adventure,Sci-Fi   \n",
       "\n",
       "    studio  year  production_budget  worldwide_gross        profit  \n",
       "987     BV  2018        300000000.0     2.048134e+09  1.748134e+09  \n",
       "643   Uni.  2015        215000000.0     1.648855e+09  1.433855e+09  \n",
       "644   Uni.  2015        190000000.0     1.518723e+09  1.328723e+09  \n",
       "988     BV  2018        200000000.0     1.348258e+09  1.148258e+09  \n",
       "989   Uni.  2018        170000000.0     1.305773e+09  1.135773e+09  \n",
       "407     BV  2013        150000000.0     1.272470e+09  1.122470e+09  \n",
       "646   Uni.  2015         74000000.0     1.160336e+09  1.086336e+09  \n",
       "645     BV  2015        330600000.0     1.403014e+09  1.072414e+09  \n",
       "990     BV  2018        200000000.0     1.242521e+09  1.042521e+09  \n",
       "408     BV  2013        200000000.0     1.215392e+09  1.015392e+09  "
      ]
     },
     "execution_count": 11,
     "metadata": {},
     "output_type": "execute_result"
    }
   ],
   "source": [
    "query"
   ]
  },
  {
   "cell_type": "markdown",
   "metadata": {},
   "source": [
    "# 6. Create a histogram chart showing the profits from the top 10 movies. Include the mean and median in the chart too."
   ]
  },
  {
   "cell_type": "markdown",
   "metadata": {},
   "source": [
    "I want to know the mean and median profit for the top 10 movies so we can decide which one is a better indicator on how much profit needs to be made in order for Microsoft's movie studio to be both profitable and a strong contender in the movie business against other movie studios."
   ]
  },
  {
   "cell_type": "code",
   "execution_count": 12,
   "metadata": {
    "scrolled": true
   },
   "outputs": [
    {
     "data": {
      "text/plain": [
       "count    1.000000e+01\n",
       "mean     1.213388e+09\n",
       "std      2.287180e+08\n",
       "min      1.015392e+09\n",
       "25%      1.075895e+09\n",
       "50%      1.129121e+09\n",
       "75%      1.283607e+09\n",
       "max      1.748134e+09\n",
       "Name: profit, dtype: float64"
      ]
     },
     "execution_count": 12,
     "metadata": {},
     "output_type": "execute_result"
    }
   ],
   "source": [
    "query['profit'].describe()"
   ]
  },
  {
   "cell_type": "code",
   "execution_count": 13,
   "metadata": {},
   "outputs": [
    {
     "data": {
      "text/plain": [
       "1213387591.0"
      ]
     },
     "execution_count": 13,
     "metadata": {},
     "output_type": "execute_result"
    }
   ],
   "source": [
    "profit_mean = np.mean(query.profit)\n",
    "profit_mean"
   ]
  },
  {
   "cell_type": "code",
   "execution_count": 14,
   "metadata": {},
   "outputs": [
    {
     "data": {
      "text/plain": [
       "1129121354.5"
      ]
     },
     "execution_count": 14,
     "metadata": {},
     "output_type": "execute_result"
    }
   ],
   "source": [
    "profit_median = np.median(query.profit)\n",
    "profit_median"
   ]
  },
  {
   "cell_type": "code",
   "execution_count": 15,
   "metadata": {
    "scrolled": true
   },
   "outputs": [
    {
     "data": {
      "image/png": "[encoded data removed]",
      "text/plain": [
       "<Figure size 432x288 with 1 Axes>"
      ]
     },
     "metadata": {
      "needs_background": "light"
     },
     "output_type": "display_data"
    }
   ],
   "source": [
    "plt.hist(query.profit, bins=3)\n",
    "plt.axvline(profit_mean, color='red')\n",
    "plt.axvline(profit_median, color='yellow')\n",
    "plt.title(\"Top 10 Movie Profits\")\n",
    "plt.show()"
   ]
  },
  {
   "cell_type": "markdown",
   "metadata": {},
   "source": [
    "### The data is skewed to the right so the mean is greater than the median. This tells me they're a couple of large values affecting the data and that the median is the better measure on telling us how much profit needs to be made for a successful movie. In this case, the median amount is around $1.12 billion!"
   ]
  },
  {
   "cell_type": "markdown",
   "metadata": {},
   "source": [
    "# 7. Sort the `query` database to display only the movie titles and their profits."
   ]
  },
  {
   "cell_type": "markdown",
   "metadata": {},
   "source": [
    "I want to use this information for a bar plot I'll create in the next step."
   ]
  },
  {
   "cell_type": "markdown",
   "metadata": {},
   "source": [
    "Sort the values to display only movie titles and their profits."
   ]
  },
  {
   "cell_type": "code",
   "execution_count": 16,
   "metadata": {},
   "outputs": [],
   "source": [
    "movie_profits = query.set_index('title')['profit'].sort_values(ascending=False)"
   ]
  },
  {
   "cell_type": "code",
   "execution_count": 17,
   "metadata": {
    "scrolled": true
   },
   "outputs": [
    {
     "data": {
      "text/plain": [
       "title\n",
       "Avengers: Infinity War            1.748134e+09\n",
       "Jurassic World                    1.433855e+09\n",
       "Furious 7                         1.328723e+09\n",
       "Black Panther                     1.148258e+09\n",
       "Jurassic World: Fallen Kingdom    1.135773e+09\n",
       "Frozen                            1.122470e+09\n",
       "Minions                           1.086336e+09\n",
       "Avengers: Age of Ultron           1.072414e+09\n",
       "Incredibles 2                     1.042521e+09\n",
       "Iron Man 3                        1.015392e+09\n",
       "Name: profit, dtype: float64"
      ]
     },
     "execution_count": 17,
     "metadata": {},
     "output_type": "execute_result"
    }
   ],
   "source": [
    "movie_profits"
   ]
  },
  {
   "cell_type": "markdown",
   "metadata": {},
   "source": [
    "# 8. Generate a bar plot"
   ]
  },
  {
   "cell_type": "markdown",
   "metadata": {},
   "source": [
    "In the cell below, create a sorted bar chart displaying the Top 10 Films with the highest `profit`.\n",
    "\n",
    "Use `fig` and `ax` as your variables.\n",
    "\n",
    "Your chart should have the following:\n",
    "1. A figsize set to `(15,8)`\n",
    "2. A title set to `Top 10 Worldwide Profitable Movies`\n",
    "3. A ylabel set to `Total Profit (in billions $)`\n",
    "4. An xlabel set to `Movies`"
   ]
  },
  {
   "cell_type": "code",
   "execution_count": 18,
   "metadata": {},
   "outputs": [
    {
     "data": {
      "text/plain": [
       "Index(['Avengers: Infinity War', 'Jurassic World', 'Furious 7',\n",
       "       'Black Panther', 'Jurassic World: Fallen Kingdom', 'Frozen', 'Minions',\n",
       "       'Avengers: Age of Ultron', 'Incredibles 2', 'Iron Man 3'],\n",
       "      dtype='object', name='title')"
      ]
     },
     "execution_count": 18,
     "metadata": {},
     "output_type": "execute_result"
    }
   ],
   "source": [
    "movie_profits.index"
   ]
  },
  {
   "cell_type": "code",
   "execution_count": 19,
   "metadata": {},
   "outputs": [
    {
     "data": {
      "text/plain": [
       "array([1.74813420e+09, 1.43385486e+09, 1.32872279e+09, 1.14825822e+09,\n",
       "       1.13577280e+09, 1.12246991e+09, 1.08633617e+09, 1.07241396e+09,\n",
       "       1.04252071e+09, 1.01539227e+09])"
      ]
     },
     "execution_count": 19,
     "metadata": {},
     "output_type": "execute_result"
    }
   ],
   "source": [
    "movie_profits.values"
   ]
  },
  {
   "cell_type": "code",
   "execution_count": 20,
   "metadata": {
    "scrolled": false
   },
   "outputs": [
    {
     "name": "stderr",
     "output_type": "stream",
     "text": [
      "<ipython-input-20-30e8a7f3da02>:13: UserWarning: FixedFormatter should only be used together with FixedLocator\n",
      "  ax.set_xticklabels(x.str.replace(' ', '\\n'))\n"
     ]
    },
    {
     "data": {
      "image/png": "[encoded data removed]",
      "text/plain": [
       "<Figure size 1080x576 with 1 Axes>"
      ]
     },
     "metadata": {
      "needs_background": "light"
     },
     "output_type": "display_data"
    }
   ],
   "source": [
    "#Create bar chart showing Top 10 Worldwide Profitable Movies\n",
    "x = movie_profits.index\n",
    "y = movie_profits.values\n",
    "\n",
    "fig, ax = plt.subplots(figsize=(15,8))\n",
    "\n",
    "ax.bar(x,y)\n",
    "\n",
    "ax.set_title('Top 10 Worldwide Profitable Movies', fontsize=30)\n",
    "ax.set_xlabel('Movies', fontsize=15)\n",
    "ax.set_ylabel('Total Profit (in billions $)', fontsize=15)\n",
    "\n",
    "ax.set_xticklabels(x.str.replace(' ', '\\n'))\n",
    "ax.tick_params(axis='x', labelsize=13)"
   ]
  },
  {
   "cell_type": "markdown",
   "metadata": {},
   "source": [
    "### The data above lets us know which movies brought in the highest profits around the globe."
   ]
  },
  {
   "cell_type": "markdown",
   "metadata": {},
   "source": [
    "# 9. Group and Count the number of studios within the Top 10 Most Profitable Movies data."
   ]
  },
  {
   "cell_type": "markdown",
   "metadata": {},
   "source": [
    "If we know which movie studios made the top 10 profitable movies, we can look further into how successful each movie studio is in terms of profits. The first thing I want to do is find out which studios released the top 10 profitable movies."
   ]
  },
  {
   "cell_type": "code",
   "execution_count": 21,
   "metadata": {
    "scrolled": true
   },
   "outputs": [
    {
     "data": {
      "text/html": [
       "<div>\n",
       "<style scoped>\n",
       "    .dataframe tbody tr th:only-of-type {\n",
       "        vertical-align: middle;\n",
       "    }\n",
       "\n",
       "    .dataframe tbody tr th {\n",
       "        vertical-align: top;\n",
       "    }\n",
       "\n",
       "    .dataframe thead th {\n",
       "        text-align: right;\n",
       "    }\n",
       "</style>\n",
       "<table border=\"1\" class=\"dataframe\">\n",
       "  <thead>\n",
       "    <tr style=\"text-align: right;\">\n",
       "      <th></th>\n",
       "      <th>tconst</th>\n",
       "      <th>title</th>\n",
       "      <th>genres</th>\n",
       "      <th>studio</th>\n",
       "      <th>year</th>\n",
       "      <th>production_budget</th>\n",
       "      <th>worldwide_gross</th>\n",
       "      <th>profit</th>\n",
       "    </tr>\n",
       "  </thead>\n",
       "  <tbody>\n",
       "    <tr>\n",
       "      <th>987</th>\n",
       "      <td>tt4154756</td>\n",
       "      <td>Avengers: Infinity War</td>\n",
       "      <td>Action,Adventure,Sci-Fi</td>\n",
       "      <td>BV</td>\n",
       "      <td>2018</td>\n",
       "      <td>300000000.0</td>\n",
       "      <td>2.048134e+09</td>\n",
       "      <td>1.748134e+09</td>\n",
       "    </tr>\n",
       "    <tr>\n",
       "      <th>643</th>\n",
       "      <td>tt0369610</td>\n",
       "      <td>Jurassic World</td>\n",
       "      <td>Action,Adventure,Sci-Fi</td>\n",
       "      <td>Uni.</td>\n",
       "      <td>2015</td>\n",
       "      <td>215000000.0</td>\n",
       "      <td>1.648855e+09</td>\n",
       "      <td>1.433855e+09</td>\n",
       "    </tr>\n",
       "    <tr>\n",
       "      <th>644</th>\n",
       "      <td>tt2820852</td>\n",
       "      <td>Furious 7</td>\n",
       "      <td>Action,Crime,Thriller</td>\n",
       "      <td>Uni.</td>\n",
       "      <td>2015</td>\n",
       "      <td>190000000.0</td>\n",
       "      <td>1.518723e+09</td>\n",
       "      <td>1.328723e+09</td>\n",
       "    </tr>\n",
       "    <tr>\n",
       "      <th>988</th>\n",
       "      <td>tt1825683</td>\n",
       "      <td>Black Panther</td>\n",
       "      <td>Action,Adventure,Sci-Fi</td>\n",
       "      <td>BV</td>\n",
       "      <td>2018</td>\n",
       "      <td>200000000.0</td>\n",
       "      <td>1.348258e+09</td>\n",
       "      <td>1.148258e+09</td>\n",
       "    </tr>\n",
       "    <tr>\n",
       "      <th>989</th>\n",
       "      <td>tt4881806</td>\n",
       "      <td>Jurassic World: Fallen Kingdom</td>\n",
       "      <td>Action,Adventure,Sci-Fi</td>\n",
       "      <td>Uni.</td>\n",
       "      <td>2018</td>\n",
       "      <td>170000000.0</td>\n",
       "      <td>1.305773e+09</td>\n",
       "      <td>1.135773e+09</td>\n",
       "    </tr>\n",
       "    <tr>\n",
       "      <th>407</th>\n",
       "      <td>tt2294629</td>\n",
       "      <td>Frozen</td>\n",
       "      <td>Adventure,Animation,Comedy</td>\n",
       "      <td>BV</td>\n",
       "      <td>2013</td>\n",
       "      <td>150000000.0</td>\n",
       "      <td>1.272470e+09</td>\n",
       "      <td>1.122470e+09</td>\n",
       "    </tr>\n",
       "    <tr>\n",
       "      <th>646</th>\n",
       "      <td>tt2293640</td>\n",
       "      <td>Minions</td>\n",
       "      <td>Adventure,Animation,Comedy</td>\n",
       "      <td>Uni.</td>\n",
       "      <td>2015</td>\n",
       "      <td>74000000.0</td>\n",
       "      <td>1.160336e+09</td>\n",
       "      <td>1.086336e+09</td>\n",
       "    </tr>\n",
       "    <tr>\n",
       "      <th>645</th>\n",
       "      <td>tt2395427</td>\n",
       "      <td>Avengers: Age of Ultron</td>\n",
       "      <td>Action,Adventure,Sci-Fi</td>\n",
       "      <td>BV</td>\n",
       "      <td>2015</td>\n",
       "      <td>330600000.0</td>\n",
       "      <td>1.403014e+09</td>\n",
       "      <td>1.072414e+09</td>\n",
       "    </tr>\n",
       "    <tr>\n",
       "      <th>990</th>\n",
       "      <td>tt3606756</td>\n",
       "      <td>Incredibles 2</td>\n",
       "      <td>Action,Adventure,Animation</td>\n",
       "      <td>BV</td>\n",
       "      <td>2018</td>\n",
       "      <td>200000000.0</td>\n",
       "      <td>1.242521e+09</td>\n",
       "      <td>1.042521e+09</td>\n",
       "    </tr>\n",
       "    <tr>\n",
       "      <th>408</th>\n",
       "      <td>tt1300854</td>\n",
       "      <td>Iron Man 3</td>\n",
       "      <td>Action,Adventure,Sci-Fi</td>\n",
       "      <td>BV</td>\n",
       "      <td>2013</td>\n",
       "      <td>200000000.0</td>\n",
       "      <td>1.215392e+09</td>\n",
       "      <td>1.015392e+09</td>\n",
       "    </tr>\n",
       "  </tbody>\n",
       "</table>\n",
       "</div>"
      ],
      "text/plain": [
       "        tconst                           title                      genres  \\\n",
       "987  tt4154756          Avengers: Infinity War     Action,Adventure,Sci-Fi   \n",
       "643  tt0369610                  Jurassic World     Action,Adventure,Sci-Fi   \n",
       "644  tt2820852                       Furious 7       Action,Crime,Thriller   \n",
       "988  tt1825683                   Black Panther     Action,Adventure,Sci-Fi   \n",
       "989  tt4881806  Jurassic World: Fallen Kingdom     Action,Adventure,Sci-Fi   \n",
       "407  tt2294629                          Frozen  Adventure,Animation,Comedy   \n",
       "646  tt2293640                         Minions  Adventure,Animation,Comedy   \n",
       "645  tt2395427         Avengers: Age of Ultron     Action,Adventure,Sci-Fi   \n",
       "990  tt3606756                   Incredibles 2  Action,Adventure,Animation   \n",
       "408  tt1300854                      Iron Man 3     Action,Adventure,Sci-Fi   \n",
       "\n",
       "    studio  year  production_budget  worldwide_gross        profit  \n",
       "987     BV  2018        300000000.0     2.048134e+09  1.748134e+09  \n",
       "643   Uni.  2015        215000000.0     1.648855e+09  1.433855e+09  \n",
       "644   Uni.  2015        190000000.0     1.518723e+09  1.328723e+09  \n",
       "988     BV  2018        200000000.0     1.348258e+09  1.148258e+09  \n",
       "989   Uni.  2018        170000000.0     1.305773e+09  1.135773e+09  \n",
       "407     BV  2013        150000000.0     1.272470e+09  1.122470e+09  \n",
       "646   Uni.  2015         74000000.0     1.160336e+09  1.086336e+09  \n",
       "645     BV  2015        330600000.0     1.403014e+09  1.072414e+09  \n",
       "990     BV  2018        200000000.0     1.242521e+09  1.042521e+09  \n",
       "408     BV  2013        200000000.0     1.215392e+09  1.015392e+09  "
      ]
     },
     "execution_count": 21,
     "metadata": {},
     "output_type": "execute_result"
    }
   ],
   "source": [
    "query"
   ]
  },
  {
   "cell_type": "code",
   "execution_count": 22,
   "metadata": {
    "scrolled": true
   },
   "outputs": [
    {
     "data": {
      "text/plain": [
       "studio\n",
       "BV      6\n",
       "Uni.    4\n",
       "Name: profit, dtype: int64"
      ]
     },
     "execution_count": 22,
     "metadata": {},
     "output_type": "execute_result"
    }
   ],
   "source": [
    "#Group and Count the movie studios in the dataframe above\n",
    "studio_count = query.groupby('studio')['profit'].count()\n",
    "studio_count"
   ]
  },
  {
   "cell_type": "markdown",
   "metadata": {},
   "source": [
    "# 10. Generate a bar plot."
   ]
  },
  {
   "cell_type": "markdown",
   "metadata": {},
   "source": [
    "In the cell below, create a bar chart displaying the number of movie studios that made the Top 10 Worldwide Profitable Movies.\n",
    "\n",
    "Use `fig` and `ax` as your variables.\n",
    "\n",
    "Your chart should have the following:\n",
    "1. A figsize set to `(15,8)`\n",
    "2. A title set to `Movie Studios with the Most Profitable Movies`\n",
    "3. A ylabel set to `Total Studio Count`\n",
    "4. An xlabel set to `Studios`"
   ]
  },
  {
   "cell_type": "code",
   "execution_count": 23,
   "metadata": {},
   "outputs": [
    {
     "data": {
      "text/plain": [
       "Index(['BV', 'Uni.'], dtype='object', name='studio')"
      ]
     },
     "execution_count": 23,
     "metadata": {},
     "output_type": "execute_result"
    }
   ],
   "source": [
    "studio_count.index"
   ]
  },
  {
   "cell_type": "code",
   "execution_count": 24,
   "metadata": {},
   "outputs": [
    {
     "data": {
      "text/plain": [
       "array([6, 4], dtype=int64)"
      ]
     },
     "execution_count": 24,
     "metadata": {},
     "output_type": "execute_result"
    }
   ],
   "source": [
    "studio_count.values"
   ]
  },
  {
   "cell_type": "code",
   "execution_count": 25,
   "metadata": {
    "scrolled": false
   },
   "outputs": [
    {
     "name": "stderr",
     "output_type": "stream",
     "text": [
      "<ipython-input-25-afcf23c521e4>:13: UserWarning: FixedFormatter should only be used together with FixedLocator\n",
      "  ax.set_xticklabels(x.str.replace(' ', '\\n'))\n"
     ]
    },
    {
     "data": {
      "image/png": "[encoded data removed]",
      "text/plain": [
       "<Figure size 1080x576 with 1 Axes>"
      ]
     },
     "metadata": {
      "needs_background": "light"
     },
     "output_type": "display_data"
    }
   ],
   "source": [
    "#Create bar chart showing the number of movie studios containing the top 10 most profitable movies\n",
    "x = studio_count.index\n",
    "y = studio_count.values\n",
    "\n",
    "fig, ax = plt.subplots(figsize=(15,8))\n",
    "\n",
    "ax.bar(x,y)\n",
    "\n",
    "ax.set_title('Movie Studios with the Most Profitable Movies', fontsize=30)\n",
    "ax.set_xlabel('Studios', fontsize=15)\n",
    "ax.set_ylabel('Total Studio Count', fontsize=15)\n",
    "\n",
    "ax.set_xticklabels(x.str.replace(' ', '\\n'))\n",
    "ax.tick_params(axis='x', labelsize=13)"
   ]
  },
  {
   "cell_type": "markdown",
   "metadata": {},
   "source": [
    "### The data above lets us know which movie studios created the top 10 profitable movies. 'BV' stands for Buena Vista - which is associated with Walt Disney Studios. 'Uni.' stands for Universal Studios."
   ]
  },
  {
   "cell_type": "markdown",
   "metadata": {},
   "source": [
    "# 11. Find out which movie studios are making the most profit from the Top 10 Most Profitable Movies."
   ]
  },
  {
   "cell_type": "markdown",
   "metadata": {},
   "source": [
    "Now I want to know which studio accumulated the most profit from the top 10 profitable movies."
   ]
  },
  {
   "cell_type": "code",
   "execution_count": 26,
   "metadata": {
    "scrolled": true
   },
   "outputs": [
    {
     "data": {
      "text/html": [
       "<div>\n",
       "<style scoped>\n",
       "    .dataframe tbody tr th:only-of-type {\n",
       "        vertical-align: middle;\n",
       "    }\n",
       "\n",
       "    .dataframe tbody tr th {\n",
       "        vertical-align: top;\n",
       "    }\n",
       "\n",
       "    .dataframe thead th {\n",
       "        text-align: right;\n",
       "    }\n",
       "</style>\n",
       "<table border=\"1\" class=\"dataframe\">\n",
       "  <thead>\n",
       "    <tr style=\"text-align: right;\">\n",
       "      <th></th>\n",
       "      <th>tconst</th>\n",
       "      <th>title</th>\n",
       "      <th>genres</th>\n",
       "      <th>studio</th>\n",
       "      <th>year</th>\n",
       "      <th>production_budget</th>\n",
       "      <th>worldwide_gross</th>\n",
       "      <th>profit</th>\n",
       "    </tr>\n",
       "  </thead>\n",
       "  <tbody>\n",
       "    <tr>\n",
       "      <th>987</th>\n",
       "      <td>tt4154756</td>\n",
       "      <td>Avengers: Infinity War</td>\n",
       "      <td>Action,Adventure,Sci-Fi</td>\n",
       "      <td>BV</td>\n",
       "      <td>2018</td>\n",
       "      <td>300000000.0</td>\n",
       "      <td>2.048134e+09</td>\n",
       "      <td>1.748134e+09</td>\n",
       "    </tr>\n",
       "    <tr>\n",
       "      <th>643</th>\n",
       "      <td>tt0369610</td>\n",
       "      <td>Jurassic World</td>\n",
       "      <td>Action,Adventure,Sci-Fi</td>\n",
       "      <td>Uni.</td>\n",
       "      <td>2015</td>\n",
       "      <td>215000000.0</td>\n",
       "      <td>1.648855e+09</td>\n",
       "      <td>1.433855e+09</td>\n",
       "    </tr>\n",
       "    <tr>\n",
       "      <th>644</th>\n",
       "      <td>tt2820852</td>\n",
       "      <td>Furious 7</td>\n",
       "      <td>Action,Crime,Thriller</td>\n",
       "      <td>Uni.</td>\n",
       "      <td>2015</td>\n",
       "      <td>190000000.0</td>\n",
       "      <td>1.518723e+09</td>\n",
       "      <td>1.328723e+09</td>\n",
       "    </tr>\n",
       "    <tr>\n",
       "      <th>988</th>\n",
       "      <td>tt1825683</td>\n",
       "      <td>Black Panther</td>\n",
       "      <td>Action,Adventure,Sci-Fi</td>\n",
       "      <td>BV</td>\n",
       "      <td>2018</td>\n",
       "      <td>200000000.0</td>\n",
       "      <td>1.348258e+09</td>\n",
       "      <td>1.148258e+09</td>\n",
       "    </tr>\n",
       "    <tr>\n",
       "      <th>989</th>\n",
       "      <td>tt4881806</td>\n",
       "      <td>Jurassic World: Fallen Kingdom</td>\n",
       "      <td>Action,Adventure,Sci-Fi</td>\n",
       "      <td>Uni.</td>\n",
       "      <td>2018</td>\n",
       "      <td>170000000.0</td>\n",
       "      <td>1.305773e+09</td>\n",
       "      <td>1.135773e+09</td>\n",
       "    </tr>\n",
       "    <tr>\n",
       "      <th>407</th>\n",
       "      <td>tt2294629</td>\n",
       "      <td>Frozen</td>\n",
       "      <td>Adventure,Animation,Comedy</td>\n",
       "      <td>BV</td>\n",
       "      <td>2013</td>\n",
       "      <td>150000000.0</td>\n",
       "      <td>1.272470e+09</td>\n",
       "      <td>1.122470e+09</td>\n",
       "    </tr>\n",
       "    <tr>\n",
       "      <th>646</th>\n",
       "      <td>tt2293640</td>\n",
       "      <td>Minions</td>\n",
       "      <td>Adventure,Animation,Comedy</td>\n",
       "      <td>Uni.</td>\n",
       "      <td>2015</td>\n",
       "      <td>74000000.0</td>\n",
       "      <td>1.160336e+09</td>\n",
       "      <td>1.086336e+09</td>\n",
       "    </tr>\n",
       "    <tr>\n",
       "      <th>645</th>\n",
       "      <td>tt2395427</td>\n",
       "      <td>Avengers: Age of Ultron</td>\n",
       "      <td>Action,Adventure,Sci-Fi</td>\n",
       "      <td>BV</td>\n",
       "      <td>2015</td>\n",
       "      <td>330600000.0</td>\n",
       "      <td>1.403014e+09</td>\n",
       "      <td>1.072414e+09</td>\n",
       "    </tr>\n",
       "    <tr>\n",
       "      <th>990</th>\n",
       "      <td>tt3606756</td>\n",
       "      <td>Incredibles 2</td>\n",
       "      <td>Action,Adventure,Animation</td>\n",
       "      <td>BV</td>\n",
       "      <td>2018</td>\n",
       "      <td>200000000.0</td>\n",
       "      <td>1.242521e+09</td>\n",
       "      <td>1.042521e+09</td>\n",
       "    </tr>\n",
       "    <tr>\n",
       "      <th>408</th>\n",
       "      <td>tt1300854</td>\n",
       "      <td>Iron Man 3</td>\n",
       "      <td>Action,Adventure,Sci-Fi</td>\n",
       "      <td>BV</td>\n",
       "      <td>2013</td>\n",
       "      <td>200000000.0</td>\n",
       "      <td>1.215392e+09</td>\n",
       "      <td>1.015392e+09</td>\n",
       "    </tr>\n",
       "  </tbody>\n",
       "</table>\n",
       "</div>"
      ],
      "text/plain": [
       "        tconst                           title                      genres  \\\n",
       "987  tt4154756          Avengers: Infinity War     Action,Adventure,Sci-Fi   \n",
       "643  tt0369610                  Jurassic World     Action,Adventure,Sci-Fi   \n",
       "644  tt2820852                       Furious 7       Action,Crime,Thriller   \n",
       "988  tt1825683                   Black Panther     Action,Adventure,Sci-Fi   \n",
       "989  tt4881806  Jurassic World: Fallen Kingdom     Action,Adventure,Sci-Fi   \n",
       "407  tt2294629                          Frozen  Adventure,Animation,Comedy   \n",
       "646  tt2293640                         Minions  Adventure,Animation,Comedy   \n",
       "645  tt2395427         Avengers: Age of Ultron     Action,Adventure,Sci-Fi   \n",
       "990  tt3606756                   Incredibles 2  Action,Adventure,Animation   \n",
       "408  tt1300854                      Iron Man 3     Action,Adventure,Sci-Fi   \n",
       "\n",
       "    studio  year  production_budget  worldwide_gross        profit  \n",
       "987     BV  2018        300000000.0     2.048134e+09  1.748134e+09  \n",
       "643   Uni.  2015        215000000.0     1.648855e+09  1.433855e+09  \n",
       "644   Uni.  2015        190000000.0     1.518723e+09  1.328723e+09  \n",
       "988     BV  2018        200000000.0     1.348258e+09  1.148258e+09  \n",
       "989   Uni.  2018        170000000.0     1.305773e+09  1.135773e+09  \n",
       "407     BV  2013        150000000.0     1.272470e+09  1.122470e+09  \n",
       "646   Uni.  2015         74000000.0     1.160336e+09  1.086336e+09  \n",
       "645     BV  2015        330600000.0     1.403014e+09  1.072414e+09  \n",
       "990     BV  2018        200000000.0     1.242521e+09  1.042521e+09  \n",
       "408     BV  2013        200000000.0     1.215392e+09  1.015392e+09  "
      ]
     },
     "execution_count": 26,
     "metadata": {},
     "output_type": "execute_result"
    }
   ],
   "source": [
    "query"
   ]
  },
  {
   "cell_type": "code",
   "execution_count": 27,
   "metadata": {
    "scrolled": true
   },
   "outputs": [
    {
     "data": {
      "text/plain": [
       "studio\n",
       "BV      7.149189e+09\n",
       "Uni.    4.984687e+09\n",
       "Name: profit, dtype: float64"
      ]
     },
     "execution_count": 27,
     "metadata": {},
     "output_type": "execute_result"
    }
   ],
   "source": [
    "#Group the studios and find their total profit from the dataframe above\n",
    "studio_profits = query.groupby('studio')['profit'].sum()\n",
    "studio_profits"
   ]
  },
  {
   "cell_type": "markdown",
   "metadata": {},
   "source": [
    "# 12. Generate a bar plot."
   ]
  },
  {
   "cell_type": "markdown",
   "metadata": {},
   "source": [
    "In the cell below, create a bar chart displaying the most profitable movie studios within the Top 10 Worldwide Profitable Movies.\n",
    "\n",
    "Use `fig` and `ax` as your variables.\n",
    "\n",
    "Your chart should have the following:\n",
    "1. A figsize set to `(15,8)`\n",
    "2. A title set to `Movie Studio Profits in the Top 10 Most Profitable Movies`\n",
    "3. A ylabel set to `Total Studio Profit (in billions $)`\n",
    "4. An xlabel set to `Studios`"
   ]
  },
  {
   "cell_type": "code",
   "execution_count": 28,
   "metadata": {},
   "outputs": [
    {
     "data": {
      "text/plain": [
       "Index(['BV', 'Uni.'], dtype='object', name='studio')"
      ]
     },
     "execution_count": 28,
     "metadata": {},
     "output_type": "execute_result"
    }
   ],
   "source": [
    "studio_profits.index"
   ]
  },
  {
   "cell_type": "code",
   "execution_count": 29,
   "metadata": {},
   "outputs": [
    {
     "data": {
      "text/plain": [
       "array([7.14918928e+09, 4.98468663e+09])"
      ]
     },
     "execution_count": 29,
     "metadata": {},
     "output_type": "execute_result"
    }
   ],
   "source": [
    "studio_profits.values"
   ]
  },
  {
   "cell_type": "code",
   "execution_count": 30,
   "metadata": {
    "scrolled": false
   },
   "outputs": [
    {
     "name": "stderr",
     "output_type": "stream",
     "text": [
      "<ipython-input-30-4a4be5cec19e>:13: UserWarning: FixedFormatter should only be used together with FixedLocator\n",
      "  ax.set_xticklabels(x.str.replace(' ', '\\n'))\n"
     ]
    },
    {
     "data": {
      "image/png": "[encoded data removed]",
      "text/plain": [
       "<Figure size 1080x576 with 1 Axes>"
      ]
     },
     "metadata": {
      "needs_background": "light"
     },
     "output_type": "display_data"
    }
   ],
   "source": [
    "#Create bar chart showing the profits of movie studios that made the top 10 most profitable movies\n",
    "x = studio_profits.index\n",
    "y = studio_profits.values\n",
    "\n",
    "fig, ax = plt.subplots(figsize=(15,8))\n",
    "\n",
    "ax.bar(x,y)\n",
    "\n",
    "ax.set_title('Movie Studio Profits in Top 10 Most Profitable Movies', fontsize=30)\n",
    "ax.set_xlabel('Studios', fontsize=15)\n",
    "ax.set_ylabel('Total Studio Profit (in billions $)', fontsize=15)\n",
    "\n",
    "ax.set_xticklabels(x.str.replace(' ', '\\n'))\n",
    "ax.tick_params(axis='x', labelsize=13)"
   ]
  },
  {
   "cell_type": "markdown",
   "metadata": {},
   "source": [
    "### The data above lets us know Buena Vista (Walt Disney Studios) is more profitable than Universal Studios. This tells us two things:\n",
    "### 1. Buena Vista makes more profitable movies than any other movie studio.\n",
    "### 2. Buena Vista makes a bigger profit than any other movie studio."
   ]
  },
  {
   "cell_type": "markdown",
   "metadata": {},
   "source": [
    "# 13. Create a new column called `new_genres` and then split each genre into its own row."
   ]
  },
  {
   "cell_type": "markdown",
   "metadata": {},
   "source": [
    "We're doing this because we want to count the number of times each genre appears for our top 10 profitable movies, and we want to know which genre is the most profitable in the top 10."
   ]
  },
  {
   "cell_type": "markdown",
   "metadata": {},
   "source": [
    "To do this, you will need to use the `genres` column and split each genre from each other."
   ]
  },
  {
   "cell_type": "code",
   "execution_count": 31,
   "metadata": {},
   "outputs": [
    {
     "data": {
      "text/html": [
       "<div>\n",
       "<style scoped>\n",
       "    .dataframe tbody tr th:only-of-type {\n",
       "        vertical-align: middle;\n",
       "    }\n",
       "\n",
       "    .dataframe tbody tr th {\n",
       "        vertical-align: top;\n",
       "    }\n",
       "\n",
       "    .dataframe thead th {\n",
       "        text-align: right;\n",
       "    }\n",
       "</style>\n",
       "<table border=\"1\" class=\"dataframe\">\n",
       "  <thead>\n",
       "    <tr style=\"text-align: right;\">\n",
       "      <th></th>\n",
       "      <th>tconst</th>\n",
       "      <th>title</th>\n",
       "      <th>genres</th>\n",
       "      <th>studio</th>\n",
       "      <th>year</th>\n",
       "      <th>production_budget</th>\n",
       "      <th>worldwide_gross</th>\n",
       "      <th>profit</th>\n",
       "    </tr>\n",
       "  </thead>\n",
       "  <tbody>\n",
       "    <tr>\n",
       "      <th>987</th>\n",
       "      <td>tt4154756</td>\n",
       "      <td>Avengers: Infinity War</td>\n",
       "      <td>Action,Adventure,Sci-Fi</td>\n",
       "      <td>BV</td>\n",
       "      <td>2018</td>\n",
       "      <td>300000000.0</td>\n",
       "      <td>2.048134e+09</td>\n",
       "      <td>1.748134e+09</td>\n",
       "    </tr>\n",
       "    <tr>\n",
       "      <th>643</th>\n",
       "      <td>tt0369610</td>\n",
       "      <td>Jurassic World</td>\n",
       "      <td>Action,Adventure,Sci-Fi</td>\n",
       "      <td>Uni.</td>\n",
       "      <td>2015</td>\n",
       "      <td>215000000.0</td>\n",
       "      <td>1.648855e+09</td>\n",
       "      <td>1.433855e+09</td>\n",
       "    </tr>\n",
       "    <tr>\n",
       "      <th>644</th>\n",
       "      <td>tt2820852</td>\n",
       "      <td>Furious 7</td>\n",
       "      <td>Action,Crime,Thriller</td>\n",
       "      <td>Uni.</td>\n",
       "      <td>2015</td>\n",
       "      <td>190000000.0</td>\n",
       "      <td>1.518723e+09</td>\n",
       "      <td>1.328723e+09</td>\n",
       "    </tr>\n",
       "    <tr>\n",
       "      <th>988</th>\n",
       "      <td>tt1825683</td>\n",
       "      <td>Black Panther</td>\n",
       "      <td>Action,Adventure,Sci-Fi</td>\n",
       "      <td>BV</td>\n",
       "      <td>2018</td>\n",
       "      <td>200000000.0</td>\n",
       "      <td>1.348258e+09</td>\n",
       "      <td>1.148258e+09</td>\n",
       "    </tr>\n",
       "    <tr>\n",
       "      <th>989</th>\n",
       "      <td>tt4881806</td>\n",
       "      <td>Jurassic World: Fallen Kingdom</td>\n",
       "      <td>Action,Adventure,Sci-Fi</td>\n",
       "      <td>Uni.</td>\n",
       "      <td>2018</td>\n",
       "      <td>170000000.0</td>\n",
       "      <td>1.305773e+09</td>\n",
       "      <td>1.135773e+09</td>\n",
       "    </tr>\n",
       "    <tr>\n",
       "      <th>407</th>\n",
       "      <td>tt2294629</td>\n",
       "      <td>Frozen</td>\n",
       "      <td>Adventure,Animation,Comedy</td>\n",
       "      <td>BV</td>\n",
       "      <td>2013</td>\n",
       "      <td>150000000.0</td>\n",
       "      <td>1.272470e+09</td>\n",
       "      <td>1.122470e+09</td>\n",
       "    </tr>\n",
       "    <tr>\n",
       "      <th>646</th>\n",
       "      <td>tt2293640</td>\n",
       "      <td>Minions</td>\n",
       "      <td>Adventure,Animation,Comedy</td>\n",
       "      <td>Uni.</td>\n",
       "      <td>2015</td>\n",
       "      <td>74000000.0</td>\n",
       "      <td>1.160336e+09</td>\n",
       "      <td>1.086336e+09</td>\n",
       "    </tr>\n",
       "    <tr>\n",
       "      <th>645</th>\n",
       "      <td>tt2395427</td>\n",
       "      <td>Avengers: Age of Ultron</td>\n",
       "      <td>Action,Adventure,Sci-Fi</td>\n",
       "      <td>BV</td>\n",
       "      <td>2015</td>\n",
       "      <td>330600000.0</td>\n",
       "      <td>1.403014e+09</td>\n",
       "      <td>1.072414e+09</td>\n",
       "    </tr>\n",
       "    <tr>\n",
       "      <th>990</th>\n",
       "      <td>tt3606756</td>\n",
       "      <td>Incredibles 2</td>\n",
       "      <td>Action,Adventure,Animation</td>\n",
       "      <td>BV</td>\n",
       "      <td>2018</td>\n",
       "      <td>200000000.0</td>\n",
       "      <td>1.242521e+09</td>\n",
       "      <td>1.042521e+09</td>\n",
       "    </tr>\n",
       "    <tr>\n",
       "      <th>408</th>\n",
       "      <td>tt1300854</td>\n",
       "      <td>Iron Man 3</td>\n",
       "      <td>Action,Adventure,Sci-Fi</td>\n",
       "      <td>BV</td>\n",
       "      <td>2013</td>\n",
       "      <td>200000000.0</td>\n",
       "      <td>1.215392e+09</td>\n",
       "      <td>1.015392e+09</td>\n",
       "    </tr>\n",
       "  </tbody>\n",
       "</table>\n",
       "</div>"
      ],
      "text/plain": [
       "        tconst                           title                      genres  \\\n",
       "987  tt4154756          Avengers: Infinity War     Action,Adventure,Sci-Fi   \n",
       "643  tt0369610                  Jurassic World     Action,Adventure,Sci-Fi   \n",
       "644  tt2820852                       Furious 7       Action,Crime,Thriller   \n",
       "988  tt1825683                   Black Panther     Action,Adventure,Sci-Fi   \n",
       "989  tt4881806  Jurassic World: Fallen Kingdom     Action,Adventure,Sci-Fi   \n",
       "407  tt2294629                          Frozen  Adventure,Animation,Comedy   \n",
       "646  tt2293640                         Minions  Adventure,Animation,Comedy   \n",
       "645  tt2395427         Avengers: Age of Ultron     Action,Adventure,Sci-Fi   \n",
       "990  tt3606756                   Incredibles 2  Action,Adventure,Animation   \n",
       "408  tt1300854                      Iron Man 3     Action,Adventure,Sci-Fi   \n",
       "\n",
       "    studio  year  production_budget  worldwide_gross        profit  \n",
       "987     BV  2018        300000000.0     2.048134e+09  1.748134e+09  \n",
       "643   Uni.  2015        215000000.0     1.648855e+09  1.433855e+09  \n",
       "644   Uni.  2015        190000000.0     1.518723e+09  1.328723e+09  \n",
       "988     BV  2018        200000000.0     1.348258e+09  1.148258e+09  \n",
       "989   Uni.  2018        170000000.0     1.305773e+09  1.135773e+09  \n",
       "407     BV  2013        150000000.0     1.272470e+09  1.122470e+09  \n",
       "646   Uni.  2015         74000000.0     1.160336e+09  1.086336e+09  \n",
       "645     BV  2015        330600000.0     1.403014e+09  1.072414e+09  \n",
       "990     BV  2018        200000000.0     1.242521e+09  1.042521e+09  \n",
       "408     BV  2013        200000000.0     1.215392e+09  1.015392e+09  "
      ]
     },
     "execution_count": 31,
     "metadata": {},
     "output_type": "execute_result"
    }
   ],
   "source": [
    "query"
   ]
  },
  {
   "cell_type": "code",
   "execution_count": 32,
   "metadata": {},
   "outputs": [],
   "source": [
    "query['new_genres'] = query['genres'].str.split(',',3)"
   ]
  },
  {
   "cell_type": "code",
   "execution_count": 33,
   "metadata": {
    "scrolled": false
   },
   "outputs": [
    {
     "data": {
      "text/html": [
       "<div>\n",
       "<style scoped>\n",
       "    .dataframe tbody tr th:only-of-type {\n",
       "        vertical-align: middle;\n",
       "    }\n",
       "\n",
       "    .dataframe tbody tr th {\n",
       "        vertical-align: top;\n",
       "    }\n",
       "\n",
       "    .dataframe thead th {\n",
       "        text-align: right;\n",
       "    }\n",
       "</style>\n",
       "<table border=\"1\" class=\"dataframe\">\n",
       "  <thead>\n",
       "    <tr style=\"text-align: right;\">\n",
       "      <th></th>\n",
       "      <th>tconst</th>\n",
       "      <th>title</th>\n",
       "      <th>genres</th>\n",
       "      <th>studio</th>\n",
       "      <th>year</th>\n",
       "      <th>production_budget</th>\n",
       "      <th>worldwide_gross</th>\n",
       "      <th>profit</th>\n",
       "      <th>new_genres</th>\n",
       "    </tr>\n",
       "  </thead>\n",
       "  <tbody>\n",
       "    <tr>\n",
       "      <th>987</th>\n",
       "      <td>tt4154756</td>\n",
       "      <td>Avengers: Infinity War</td>\n",
       "      <td>Action,Adventure,Sci-Fi</td>\n",
       "      <td>BV</td>\n",
       "      <td>2018</td>\n",
       "      <td>300000000.0</td>\n",
       "      <td>2.048134e+09</td>\n",
       "      <td>1.748134e+09</td>\n",
       "      <td>[Action, Adventure, Sci-Fi]</td>\n",
       "    </tr>\n",
       "    <tr>\n",
       "      <th>643</th>\n",
       "      <td>tt0369610</td>\n",
       "      <td>Jurassic World</td>\n",
       "      <td>Action,Adventure,Sci-Fi</td>\n",
       "      <td>Uni.</td>\n",
       "      <td>2015</td>\n",
       "      <td>215000000.0</td>\n",
       "      <td>1.648855e+09</td>\n",
       "      <td>1.433855e+09</td>\n",
       "      <td>[Action, Adventure, Sci-Fi]</td>\n",
       "    </tr>\n",
       "    <tr>\n",
       "      <th>644</th>\n",
       "      <td>tt2820852</td>\n",
       "      <td>Furious 7</td>\n",
       "      <td>Action,Crime,Thriller</td>\n",
       "      <td>Uni.</td>\n",
       "      <td>2015</td>\n",
       "      <td>190000000.0</td>\n",
       "      <td>1.518723e+09</td>\n",
       "      <td>1.328723e+09</td>\n",
       "      <td>[Action, Crime, Thriller]</td>\n",
       "    </tr>\n",
       "    <tr>\n",
       "      <th>988</th>\n",
       "      <td>tt1825683</td>\n",
       "      <td>Black Panther</td>\n",
       "      <td>Action,Adventure,Sci-Fi</td>\n",
       "      <td>BV</td>\n",
       "      <td>2018</td>\n",
       "      <td>200000000.0</td>\n",
       "      <td>1.348258e+09</td>\n",
       "      <td>1.148258e+09</td>\n",
       "      <td>[Action, Adventure, Sci-Fi]</td>\n",
       "    </tr>\n",
       "    <tr>\n",
       "      <th>989</th>\n",
       "      <td>tt4881806</td>\n",
       "      <td>Jurassic World: Fallen Kingdom</td>\n",
       "      <td>Action,Adventure,Sci-Fi</td>\n",
       "      <td>Uni.</td>\n",
       "      <td>2018</td>\n",
       "      <td>170000000.0</td>\n",
       "      <td>1.305773e+09</td>\n",
       "      <td>1.135773e+09</td>\n",
       "      <td>[Action, Adventure, Sci-Fi]</td>\n",
       "    </tr>\n",
       "    <tr>\n",
       "      <th>407</th>\n",
       "      <td>tt2294629</td>\n",
       "      <td>Frozen</td>\n",
       "      <td>Adventure,Animation,Comedy</td>\n",
       "      <td>BV</td>\n",
       "      <td>2013</td>\n",
       "      <td>150000000.0</td>\n",
       "      <td>1.272470e+09</td>\n",
       "      <td>1.122470e+09</td>\n",
       "      <td>[Adventure, Animation, Comedy]</td>\n",
       "    </tr>\n",
       "    <tr>\n",
       "      <th>646</th>\n",
       "      <td>tt2293640</td>\n",
       "      <td>Minions</td>\n",
       "      <td>Adventure,Animation,Comedy</td>\n",
       "      <td>Uni.</td>\n",
       "      <td>2015</td>\n",
       "      <td>74000000.0</td>\n",
       "      <td>1.160336e+09</td>\n",
       "      <td>1.086336e+09</td>\n",
       "      <td>[Adventure, Animation, Comedy]</td>\n",
       "    </tr>\n",
       "    <tr>\n",
       "      <th>645</th>\n",
       "      <td>tt2395427</td>\n",
       "      <td>Avengers: Age of Ultron</td>\n",
       "      <td>Action,Adventure,Sci-Fi</td>\n",
       "      <td>BV</td>\n",
       "      <td>2015</td>\n",
       "      <td>330600000.0</td>\n",
       "      <td>1.403014e+09</td>\n",
       "      <td>1.072414e+09</td>\n",
       "      <td>[Action, Adventure, Sci-Fi]</td>\n",
       "    </tr>\n",
       "    <tr>\n",
       "      <th>990</th>\n",
       "      <td>tt3606756</td>\n",
       "      <td>Incredibles 2</td>\n",
       "      <td>Action,Adventure,Animation</td>\n",
       "      <td>BV</td>\n",
       "      <td>2018</td>\n",
       "      <td>200000000.0</td>\n",
       "      <td>1.242521e+09</td>\n",
       "      <td>1.042521e+09</td>\n",
       "      <td>[Action, Adventure, Animation]</td>\n",
       "    </tr>\n",
       "    <tr>\n",
       "      <th>408</th>\n",
       "      <td>tt1300854</td>\n",
       "      <td>Iron Man 3</td>\n",
       "      <td>Action,Adventure,Sci-Fi</td>\n",
       "      <td>BV</td>\n",
       "      <td>2013</td>\n",
       "      <td>200000000.0</td>\n",
       "      <td>1.215392e+09</td>\n",
       "      <td>1.015392e+09</td>\n",
       "      <td>[Action, Adventure, Sci-Fi]</td>\n",
       "    </tr>\n",
       "  </tbody>\n",
       "</table>\n",
       "</div>"
      ],
      "text/plain": [
       "        tconst                           title                      genres  \\\n",
       "987  tt4154756          Avengers: Infinity War     Action,Adventure,Sci-Fi   \n",
       "643  tt0369610                  Jurassic World     Action,Adventure,Sci-Fi   \n",
       "644  tt2820852                       Furious 7       Action,Crime,Thriller   \n",
       "988  tt1825683                   Black Panther     Action,Adventure,Sci-Fi   \n",
       "989  tt4881806  Jurassic World: Fallen Kingdom     Action,Adventure,Sci-Fi   \n",
       "407  tt2294629                          Frozen  Adventure,Animation,Comedy   \n",
       "646  tt2293640                         Minions  Adventure,Animation,Comedy   \n",
       "645  tt2395427         Avengers: Age of Ultron     Action,Adventure,Sci-Fi   \n",
       "990  tt3606756                   Incredibles 2  Action,Adventure,Animation   \n",
       "408  tt1300854                      Iron Man 3     Action,Adventure,Sci-Fi   \n",
       "\n",
       "    studio  year  production_budget  worldwide_gross        profit  \\\n",
       "987     BV  2018        300000000.0     2.048134e+09  1.748134e+09   \n",
       "643   Uni.  2015        215000000.0     1.648855e+09  1.433855e+09   \n",
       "644   Uni.  2015        190000000.0     1.518723e+09  1.328723e+09   \n",
       "988     BV  2018        200000000.0     1.348258e+09  1.148258e+09   \n",
       "989   Uni.  2018        170000000.0     1.305773e+09  1.135773e+09   \n",
       "407     BV  2013        150000000.0     1.272470e+09  1.122470e+09   \n",
       "646   Uni.  2015         74000000.0     1.160336e+09  1.086336e+09   \n",
       "645     BV  2015        330600000.0     1.403014e+09  1.072414e+09   \n",
       "990     BV  2018        200000000.0     1.242521e+09  1.042521e+09   \n",
       "408     BV  2013        200000000.0     1.215392e+09  1.015392e+09   \n",
       "\n",
       "                         new_genres  \n",
       "987     [Action, Adventure, Sci-Fi]  \n",
       "643     [Action, Adventure, Sci-Fi]  \n",
       "644       [Action, Crime, Thriller]  \n",
       "988     [Action, Adventure, Sci-Fi]  \n",
       "989     [Action, Adventure, Sci-Fi]  \n",
       "407  [Adventure, Animation, Comedy]  \n",
       "646  [Adventure, Animation, Comedy]  \n",
       "645     [Action, Adventure, Sci-Fi]  \n",
       "990  [Action, Adventure, Animation]  \n",
       "408     [Action, Adventure, Sci-Fi]  "
      ]
     },
     "execution_count": 33,
     "metadata": {},
     "output_type": "execute_result"
    }
   ],
   "source": [
    "query"
   ]
  },
  {
   "cell_type": "markdown",
   "metadata": {},
   "source": [
    "Next, update the dataframe using the `explode` function so that each genre under `new_genres` is listed in its own row."
   ]
  },
  {
   "cell_type": "code",
   "execution_count": 34,
   "metadata": {},
   "outputs": [],
   "source": [
    "query = query.explode('new_genres')"
   ]
  },
  {
   "cell_type": "code",
   "execution_count": 35,
   "metadata": {
    "scrolled": false
   },
   "outputs": [
    {
     "data": {
      "text/html": [
       "<div>\n",
       "<style scoped>\n",
       "    .dataframe tbody tr th:only-of-type {\n",
       "        vertical-align: middle;\n",
       "    }\n",
       "\n",
       "    .dataframe tbody tr th {\n",
       "        vertical-align: top;\n",
       "    }\n",
       "\n",
       "    .dataframe thead th {\n",
       "        text-align: right;\n",
       "    }\n",
       "</style>\n",
       "<table border=\"1\" class=\"dataframe\">\n",
       "  <thead>\n",
       "    <tr style=\"text-align: right;\">\n",
       "      <th></th>\n",
       "      <th>tconst</th>\n",
       "      <th>title</th>\n",
       "      <th>genres</th>\n",
       "      <th>studio</th>\n",
       "      <th>year</th>\n",
       "      <th>production_budget</th>\n",
       "      <th>worldwide_gross</th>\n",
       "      <th>profit</th>\n",
       "      <th>new_genres</th>\n",
       "    </tr>\n",
       "  </thead>\n",
       "  <tbody>\n",
       "    <tr>\n",
       "      <th>987</th>\n",
       "      <td>tt4154756</td>\n",
       "      <td>Avengers: Infinity War</td>\n",
       "      <td>Action,Adventure,Sci-Fi</td>\n",
       "      <td>BV</td>\n",
       "      <td>2018</td>\n",
       "      <td>300000000.0</td>\n",
       "      <td>2.048134e+09</td>\n",
       "      <td>1.748134e+09</td>\n",
       "      <td>Action</td>\n",
       "    </tr>\n",
       "    <tr>\n",
       "      <th>987</th>\n",
       "      <td>tt4154756</td>\n",
       "      <td>Avengers: Infinity War</td>\n",
       "      <td>Action,Adventure,Sci-Fi</td>\n",
       "      <td>BV</td>\n",
       "      <td>2018</td>\n",
       "      <td>300000000.0</td>\n",
       "      <td>2.048134e+09</td>\n",
       "      <td>1.748134e+09</td>\n",
       "      <td>Adventure</td>\n",
       "    </tr>\n",
       "    <tr>\n",
       "      <th>987</th>\n",
       "      <td>tt4154756</td>\n",
       "      <td>Avengers: Infinity War</td>\n",
       "      <td>Action,Adventure,Sci-Fi</td>\n",
       "      <td>BV</td>\n",
       "      <td>2018</td>\n",
       "      <td>300000000.0</td>\n",
       "      <td>2.048134e+09</td>\n",
       "      <td>1.748134e+09</td>\n",
       "      <td>Sci-Fi</td>\n",
       "    </tr>\n",
       "    <tr>\n",
       "      <th>643</th>\n",
       "      <td>tt0369610</td>\n",
       "      <td>Jurassic World</td>\n",
       "      <td>Action,Adventure,Sci-Fi</td>\n",
       "      <td>Uni.</td>\n",
       "      <td>2015</td>\n",
       "      <td>215000000.0</td>\n",
       "      <td>1.648855e+09</td>\n",
       "      <td>1.433855e+09</td>\n",
       "      <td>Action</td>\n",
       "    </tr>\n",
       "    <tr>\n",
       "      <th>643</th>\n",
       "      <td>tt0369610</td>\n",
       "      <td>Jurassic World</td>\n",
       "      <td>Action,Adventure,Sci-Fi</td>\n",
       "      <td>Uni.</td>\n",
       "      <td>2015</td>\n",
       "      <td>215000000.0</td>\n",
       "      <td>1.648855e+09</td>\n",
       "      <td>1.433855e+09</td>\n",
       "      <td>Adventure</td>\n",
       "    </tr>\n",
       "    <tr>\n",
       "      <th>643</th>\n",
       "      <td>tt0369610</td>\n",
       "      <td>Jurassic World</td>\n",
       "      <td>Action,Adventure,Sci-Fi</td>\n",
       "      <td>Uni.</td>\n",
       "      <td>2015</td>\n",
       "      <td>215000000.0</td>\n",
       "      <td>1.648855e+09</td>\n",
       "      <td>1.433855e+09</td>\n",
       "      <td>Sci-Fi</td>\n",
       "    </tr>\n",
       "    <tr>\n",
       "      <th>644</th>\n",
       "      <td>tt2820852</td>\n",
       "      <td>Furious 7</td>\n",
       "      <td>Action,Crime,Thriller</td>\n",
       "      <td>Uni.</td>\n",
       "      <td>2015</td>\n",
       "      <td>190000000.0</td>\n",
       "      <td>1.518723e+09</td>\n",
       "      <td>1.328723e+09</td>\n",
       "      <td>Action</td>\n",
       "    </tr>\n",
       "    <tr>\n",
       "      <th>644</th>\n",
       "      <td>tt2820852</td>\n",
       "      <td>Furious 7</td>\n",
       "      <td>Action,Crime,Thriller</td>\n",
       "      <td>Uni.</td>\n",
       "      <td>2015</td>\n",
       "      <td>190000000.0</td>\n",
       "      <td>1.518723e+09</td>\n",
       "      <td>1.328723e+09</td>\n",
       "      <td>Crime</td>\n",
       "    </tr>\n",
       "    <tr>\n",
       "      <th>644</th>\n",
       "      <td>tt2820852</td>\n",
       "      <td>Furious 7</td>\n",
       "      <td>Action,Crime,Thriller</td>\n",
       "      <td>Uni.</td>\n",
       "      <td>2015</td>\n",
       "      <td>190000000.0</td>\n",
       "      <td>1.518723e+09</td>\n",
       "      <td>1.328723e+09</td>\n",
       "      <td>Thriller</td>\n",
       "    </tr>\n",
       "    <tr>\n",
       "      <th>988</th>\n",
       "      <td>tt1825683</td>\n",
       "      <td>Black Panther</td>\n",
       "      <td>Action,Adventure,Sci-Fi</td>\n",
       "      <td>BV</td>\n",
       "      <td>2018</td>\n",
       "      <td>200000000.0</td>\n",
       "      <td>1.348258e+09</td>\n",
       "      <td>1.148258e+09</td>\n",
       "      <td>Action</td>\n",
       "    </tr>\n",
       "    <tr>\n",
       "      <th>988</th>\n",
       "      <td>tt1825683</td>\n",
       "      <td>Black Panther</td>\n",
       "      <td>Action,Adventure,Sci-Fi</td>\n",
       "      <td>BV</td>\n",
       "      <td>2018</td>\n",
       "      <td>200000000.0</td>\n",
       "      <td>1.348258e+09</td>\n",
       "      <td>1.148258e+09</td>\n",
       "      <td>Adventure</td>\n",
       "    </tr>\n",
       "    <tr>\n",
       "      <th>988</th>\n",
       "      <td>tt1825683</td>\n",
       "      <td>Black Panther</td>\n",
       "      <td>Action,Adventure,Sci-Fi</td>\n",
       "      <td>BV</td>\n",
       "      <td>2018</td>\n",
       "      <td>200000000.0</td>\n",
       "      <td>1.348258e+09</td>\n",
       "      <td>1.148258e+09</td>\n",
       "      <td>Sci-Fi</td>\n",
       "    </tr>\n",
       "    <tr>\n",
       "      <th>989</th>\n",
       "      <td>tt4881806</td>\n",
       "      <td>Jurassic World: Fallen Kingdom</td>\n",
       "      <td>Action,Adventure,Sci-Fi</td>\n",
       "      <td>Uni.</td>\n",
       "      <td>2018</td>\n",
       "      <td>170000000.0</td>\n",
       "      <td>1.305773e+09</td>\n",
       "      <td>1.135773e+09</td>\n",
       "      <td>Action</td>\n",
       "    </tr>\n",
       "    <tr>\n",
       "      <th>989</th>\n",
       "      <td>tt4881806</td>\n",
       "      <td>Jurassic World: Fallen Kingdom</td>\n",
       "      <td>Action,Adventure,Sci-Fi</td>\n",
       "      <td>Uni.</td>\n",
       "      <td>2018</td>\n",
       "      <td>170000000.0</td>\n",
       "      <td>1.305773e+09</td>\n",
       "      <td>1.135773e+09</td>\n",
       "      <td>Adventure</td>\n",
       "    </tr>\n",
       "    <tr>\n",
       "      <th>989</th>\n",
       "      <td>tt4881806</td>\n",
       "      <td>Jurassic World: Fallen Kingdom</td>\n",
       "      <td>Action,Adventure,Sci-Fi</td>\n",
       "      <td>Uni.</td>\n",
       "      <td>2018</td>\n",
       "      <td>170000000.0</td>\n",
       "      <td>1.305773e+09</td>\n",
       "      <td>1.135773e+09</td>\n",
       "      <td>Sci-Fi</td>\n",
       "    </tr>\n",
       "    <tr>\n",
       "      <th>407</th>\n",
       "      <td>tt2294629</td>\n",
       "      <td>Frozen</td>\n",
       "      <td>Adventure,Animation,Comedy</td>\n",
       "      <td>BV</td>\n",
       "      <td>2013</td>\n",
       "      <td>150000000.0</td>\n",
       "      <td>1.272470e+09</td>\n",
       "      <td>1.122470e+09</td>\n",
       "      <td>Adventure</td>\n",
       "    </tr>\n",
       "    <tr>\n",
       "      <th>407</th>\n",
       "      <td>tt2294629</td>\n",
       "      <td>Frozen</td>\n",
       "      <td>Adventure,Animation,Comedy</td>\n",
       "      <td>BV</td>\n",
       "      <td>2013</td>\n",
       "      <td>150000000.0</td>\n",
       "      <td>1.272470e+09</td>\n",
       "      <td>1.122470e+09</td>\n",
       "      <td>Animation</td>\n",
       "    </tr>\n",
       "    <tr>\n",
       "      <th>407</th>\n",
       "      <td>tt2294629</td>\n",
       "      <td>Frozen</td>\n",
       "      <td>Adventure,Animation,Comedy</td>\n",
       "      <td>BV</td>\n",
       "      <td>2013</td>\n",
       "      <td>150000000.0</td>\n",
       "      <td>1.272470e+09</td>\n",
       "      <td>1.122470e+09</td>\n",
       "      <td>Comedy</td>\n",
       "    </tr>\n",
       "    <tr>\n",
       "      <th>646</th>\n",
       "      <td>tt2293640</td>\n",
       "      <td>Minions</td>\n",
       "      <td>Adventure,Animation,Comedy</td>\n",
       "      <td>Uni.</td>\n",
       "      <td>2015</td>\n",
       "      <td>74000000.0</td>\n",
       "      <td>1.160336e+09</td>\n",
       "      <td>1.086336e+09</td>\n",
       "      <td>Adventure</td>\n",
       "    </tr>\n",
       "    <tr>\n",
       "      <th>646</th>\n",
       "      <td>tt2293640</td>\n",
       "      <td>Minions</td>\n",
       "      <td>Adventure,Animation,Comedy</td>\n",
       "      <td>Uni.</td>\n",
       "      <td>2015</td>\n",
       "      <td>74000000.0</td>\n",
       "      <td>1.160336e+09</td>\n",
       "      <td>1.086336e+09</td>\n",
       "      <td>Animation</td>\n",
       "    </tr>\n",
       "    <tr>\n",
       "      <th>646</th>\n",
       "      <td>tt2293640</td>\n",
       "      <td>Minions</td>\n",
       "      <td>Adventure,Animation,Comedy</td>\n",
       "      <td>Uni.</td>\n",
       "      <td>2015</td>\n",
       "      <td>74000000.0</td>\n",
       "      <td>1.160336e+09</td>\n",
       "      <td>1.086336e+09</td>\n",
       "      <td>Comedy</td>\n",
       "    </tr>\n",
       "    <tr>\n",
       "      <th>645</th>\n",
       "      <td>tt2395427</td>\n",
       "      <td>Avengers: Age of Ultron</td>\n",
       "      <td>Action,Adventure,Sci-Fi</td>\n",
       "      <td>BV</td>\n",
       "      <td>2015</td>\n",
       "      <td>330600000.0</td>\n",
       "      <td>1.403014e+09</td>\n",
       "      <td>1.072414e+09</td>\n",
       "      <td>Action</td>\n",
       "    </tr>\n",
       "    <tr>\n",
       "      <th>645</th>\n",
       "      <td>tt2395427</td>\n",
       "      <td>Avengers: Age of Ultron</td>\n",
       "      <td>Action,Adventure,Sci-Fi</td>\n",
       "      <td>BV</td>\n",
       "      <td>2015</td>\n",
       "      <td>330600000.0</td>\n",
       "      <td>1.403014e+09</td>\n",
       "      <td>1.072414e+09</td>\n",
       "      <td>Adventure</td>\n",
       "    </tr>\n",
       "    <tr>\n",
       "      <th>645</th>\n",
       "      <td>tt2395427</td>\n",
       "      <td>Avengers: Age of Ultron</td>\n",
       "      <td>Action,Adventure,Sci-Fi</td>\n",
       "      <td>BV</td>\n",
       "      <td>2015</td>\n",
       "      <td>330600000.0</td>\n",
       "      <td>1.403014e+09</td>\n",
       "      <td>1.072414e+09</td>\n",
       "      <td>Sci-Fi</td>\n",
       "    </tr>\n",
       "    <tr>\n",
       "      <th>990</th>\n",
       "      <td>tt3606756</td>\n",
       "      <td>Incredibles 2</td>\n",
       "      <td>Action,Adventure,Animation</td>\n",
       "      <td>BV</td>\n",
       "      <td>2018</td>\n",
       "      <td>200000000.0</td>\n",
       "      <td>1.242521e+09</td>\n",
       "      <td>1.042521e+09</td>\n",
       "      <td>Action</td>\n",
       "    </tr>\n",
       "    <tr>\n",
       "      <th>990</th>\n",
       "      <td>tt3606756</td>\n",
       "      <td>Incredibles 2</td>\n",
       "      <td>Action,Adventure,Animation</td>\n",
       "      <td>BV</td>\n",
       "      <td>2018</td>\n",
       "      <td>200000000.0</td>\n",
       "      <td>1.242521e+09</td>\n",
       "      <td>1.042521e+09</td>\n",
       "      <td>Adventure</td>\n",
       "    </tr>\n",
       "    <tr>\n",
       "      <th>990</th>\n",
       "      <td>tt3606756</td>\n",
       "      <td>Incredibles 2</td>\n",
       "      <td>Action,Adventure,Animation</td>\n",
       "      <td>BV</td>\n",
       "      <td>2018</td>\n",
       "      <td>200000000.0</td>\n",
       "      <td>1.242521e+09</td>\n",
       "      <td>1.042521e+09</td>\n",
       "      <td>Animation</td>\n",
       "    </tr>\n",
       "    <tr>\n",
       "      <th>408</th>\n",
       "      <td>tt1300854</td>\n",
       "      <td>Iron Man 3</td>\n",
       "      <td>Action,Adventure,Sci-Fi</td>\n",
       "      <td>BV</td>\n",
       "      <td>2013</td>\n",
       "      <td>200000000.0</td>\n",
       "      <td>1.215392e+09</td>\n",
       "      <td>1.015392e+09</td>\n",
       "      <td>Action</td>\n",
       "    </tr>\n",
       "    <tr>\n",
       "      <th>408</th>\n",
       "      <td>tt1300854</td>\n",
       "      <td>Iron Man 3</td>\n",
       "      <td>Action,Adventure,Sci-Fi</td>\n",
       "      <td>BV</td>\n",
       "      <td>2013</td>\n",
       "      <td>200000000.0</td>\n",
       "      <td>1.215392e+09</td>\n",
       "      <td>1.015392e+09</td>\n",
       "      <td>Adventure</td>\n",
       "    </tr>\n",
       "    <tr>\n",
       "      <th>408</th>\n",
       "      <td>tt1300854</td>\n",
       "      <td>Iron Man 3</td>\n",
       "      <td>Action,Adventure,Sci-Fi</td>\n",
       "      <td>BV</td>\n",
       "      <td>2013</td>\n",
       "      <td>200000000.0</td>\n",
       "      <td>1.215392e+09</td>\n",
       "      <td>1.015392e+09</td>\n",
       "      <td>Sci-Fi</td>\n",
       "    </tr>\n",
       "  </tbody>\n",
       "</table>\n",
       "</div>"
      ],
      "text/plain": [
       "        tconst                           title                      genres  \\\n",
       "987  tt4154756          Avengers: Infinity War     Action,Adventure,Sci-Fi   \n",
       "987  tt4154756          Avengers: Infinity War     Action,Adventure,Sci-Fi   \n",
       "987  tt4154756          Avengers: Infinity War     Action,Adventure,Sci-Fi   \n",
       "643  tt0369610                  Jurassic World     Action,Adventure,Sci-Fi   \n",
       "643  tt0369610                  Jurassic World     Action,Adventure,Sci-Fi   \n",
       "643  tt0369610                  Jurassic World     Action,Adventure,Sci-Fi   \n",
       "644  tt2820852                       Furious 7       Action,Crime,Thriller   \n",
       "644  tt2820852                       Furious 7       Action,Crime,Thriller   \n",
       "644  tt2820852                       Furious 7       Action,Crime,Thriller   \n",
       "988  tt1825683                   Black Panther     Action,Adventure,Sci-Fi   \n",
       "988  tt1825683                   Black Panther     Action,Adventure,Sci-Fi   \n",
       "988  tt1825683                   Black Panther     Action,Adventure,Sci-Fi   \n",
       "989  tt4881806  Jurassic World: Fallen Kingdom     Action,Adventure,Sci-Fi   \n",
       "989  tt4881806  Jurassic World: Fallen Kingdom     Action,Adventure,Sci-Fi   \n",
       "989  tt4881806  Jurassic World: Fallen Kingdom     Action,Adventure,Sci-Fi   \n",
       "407  tt2294629                          Frozen  Adventure,Animation,Comedy   \n",
       "407  tt2294629                          Frozen  Adventure,Animation,Comedy   \n",
       "407  tt2294629                          Frozen  Adventure,Animation,Comedy   \n",
       "646  tt2293640                         Minions  Adventure,Animation,Comedy   \n",
       "646  tt2293640                         Minions  Adventure,Animation,Comedy   \n",
       "646  tt2293640                         Minions  Adventure,Animation,Comedy   \n",
       "645  tt2395427         Avengers: Age of Ultron     Action,Adventure,Sci-Fi   \n",
       "645  tt2395427         Avengers: Age of Ultron     Action,Adventure,Sci-Fi   \n",
       "645  tt2395427         Avengers: Age of Ultron     Action,Adventure,Sci-Fi   \n",
       "990  tt3606756                   Incredibles 2  Action,Adventure,Animation   \n",
       "990  tt3606756                   Incredibles 2  Action,Adventure,Animation   \n",
       "990  tt3606756                   Incredibles 2  Action,Adventure,Animation   \n",
       "408  tt1300854                      Iron Man 3     Action,Adventure,Sci-Fi   \n",
       "408  tt1300854                      Iron Man 3     Action,Adventure,Sci-Fi   \n",
       "408  tt1300854                      Iron Man 3     Action,Adventure,Sci-Fi   \n",
       "\n",
       "    studio  year  production_budget  worldwide_gross        profit new_genres  \n",
       "987     BV  2018        300000000.0     2.048134e+09  1.748134e+09     Action  \n",
       "987     BV  2018        300000000.0     2.048134e+09  1.748134e+09  Adventure  \n",
       "987     BV  2018        300000000.0     2.048134e+09  1.748134e+09     Sci-Fi  \n",
       "643   Uni.  2015        215000000.0     1.648855e+09  1.433855e+09     Action  \n",
       "643   Uni.  2015        215000000.0     1.648855e+09  1.433855e+09  Adventure  \n",
       "643   Uni.  2015        215000000.0     1.648855e+09  1.433855e+09     Sci-Fi  \n",
       "644   Uni.  2015        190000000.0     1.518723e+09  1.328723e+09     Action  \n",
       "644   Uni.  2015        190000000.0     1.518723e+09  1.328723e+09      Crime  \n",
       "644   Uni.  2015        190000000.0     1.518723e+09  1.328723e+09   Thriller  \n",
       "988     BV  2018        200000000.0     1.348258e+09  1.148258e+09     Action  \n",
       "988     BV  2018        200000000.0     1.348258e+09  1.148258e+09  Adventure  \n",
       "988     BV  2018        200000000.0     1.348258e+09  1.148258e+09     Sci-Fi  \n",
       "989   Uni.  2018        170000000.0     1.305773e+09  1.135773e+09     Action  \n",
       "989   Uni.  2018        170000000.0     1.305773e+09  1.135773e+09  Adventure  \n",
       "989   Uni.  2018        170000000.0     1.305773e+09  1.135773e+09     Sci-Fi  \n",
       "407     BV  2013        150000000.0     1.272470e+09  1.122470e+09  Adventure  \n",
       "407     BV  2013        150000000.0     1.272470e+09  1.122470e+09  Animation  \n",
       "407     BV  2013        150000000.0     1.272470e+09  1.122470e+09     Comedy  \n",
       "646   Uni.  2015         74000000.0     1.160336e+09  1.086336e+09  Adventure  \n",
       "646   Uni.  2015         74000000.0     1.160336e+09  1.086336e+09  Animation  \n",
       "646   Uni.  2015         74000000.0     1.160336e+09  1.086336e+09     Comedy  \n",
       "645     BV  2015        330600000.0     1.403014e+09  1.072414e+09     Action  \n",
       "645     BV  2015        330600000.0     1.403014e+09  1.072414e+09  Adventure  \n",
       "645     BV  2015        330600000.0     1.403014e+09  1.072414e+09     Sci-Fi  \n",
       "990     BV  2018        200000000.0     1.242521e+09  1.042521e+09     Action  \n",
       "990     BV  2018        200000000.0     1.242521e+09  1.042521e+09  Adventure  \n",
       "990     BV  2018        200000000.0     1.242521e+09  1.042521e+09  Animation  \n",
       "408     BV  2013        200000000.0     1.215392e+09  1.015392e+09     Action  \n",
       "408     BV  2013        200000000.0     1.215392e+09  1.015392e+09  Adventure  \n",
       "408     BV  2013        200000000.0     1.215392e+09  1.015392e+09     Sci-Fi  "
      ]
     },
     "execution_count": 35,
     "metadata": {},
     "output_type": "execute_result"
    }
   ],
   "source": [
    "query"
   ]
  },
  {
   "cell_type": "markdown",
   "metadata": {},
   "source": [
    "# 14. Group and sort in descending order all the genres associated with the Top 10 Worldwide Profitable Movies."
   ]
  },
  {
   "cell_type": "markdown",
   "metadata": {},
   "source": [
    "You will use `new_genres` column to find this."
   ]
  },
  {
   "cell_type": "code",
   "execution_count": 36,
   "metadata": {},
   "outputs": [
    {
     "data": {
      "text/plain": [
       "new_genres\n",
       "Action       8\n",
       "Adventure    9\n",
       "Animation    3\n",
       "Comedy       2\n",
       "Crime        1\n",
       "Sci-Fi       6\n",
       "Thriller     1\n",
       "Name: profit, dtype: int64"
      ]
     },
     "execution_count": 36,
     "metadata": {},
     "output_type": "execute_result"
    }
   ],
   "source": [
    "query_genres = query.groupby('new_genres')['profit'].count()\n",
    "query_genres"
   ]
  },
  {
   "cell_type": "code",
   "execution_count": 37,
   "metadata": {
    "scrolled": true
   },
   "outputs": [
    {
     "data": {
      "text/plain": [
       "new_genres\n",
       "Adventure    9\n",
       "Action       8\n",
       "Sci-Fi       6\n",
       "Animation    3\n",
       "Comedy       2\n",
       "Thriller     1\n",
       "Crime        1\n",
       "Name: profit, dtype: int64"
      ]
     },
     "execution_count": 37,
     "metadata": {},
     "output_type": "execute_result"
    }
   ],
   "source": [
    "genres_sorted = query_genres.sort_values(ascending=False)\n",
    "genres_sorted"
   ]
  },
  {
   "cell_type": "markdown",
   "metadata": {},
   "source": [
    "# 15. Generate a bar plot"
   ]
  },
  {
   "cell_type": "markdown",
   "metadata": {},
   "source": [
    "In the cell below, create a sorted bar chart displaying the most popular genres within the Top 10 Worldwide Profitable Movies.\n",
    "\n",
    "Use `fig` and `ax` as your variables.\n",
    "\n",
    "Your chart should have the following:\n",
    "1. A figsize set to `(15,8)`\n",
    "2. A title set to `Most Popular Genres From Most Profitable Movies`\n",
    "3. A ylabel set to `Total Genre Count`\n",
    "4. An xlabel set to `Genres`"
   ]
  },
  {
   "cell_type": "code",
   "execution_count": 38,
   "metadata": {
    "scrolled": true
   },
   "outputs": [
    {
     "data": {
      "text/plain": [
       "Index(['Adventure', 'Action', 'Sci-Fi', 'Animation', 'Comedy', 'Thriller',\n",
       "       'Crime'],\n",
       "      dtype='object', name='new_genres')"
      ]
     },
     "execution_count": 38,
     "metadata": {},
     "output_type": "execute_result"
    }
   ],
   "source": [
    "genres_sorted.index"
   ]
  },
  {
   "cell_type": "code",
   "execution_count": 39,
   "metadata": {},
   "outputs": [
    {
     "data": {
      "text/plain": [
       "array([9, 8, 6, 3, 2, 1, 1], dtype=int64)"
      ]
     },
     "execution_count": 39,
     "metadata": {},
     "output_type": "execute_result"
    }
   ],
   "source": [
    "genres_sorted.values"
   ]
  },
  {
   "cell_type": "code",
   "execution_count": 40,
   "metadata": {
    "scrolled": false
   },
   "outputs": [
    {
     "name": "stderr",
     "output_type": "stream",
     "text": [
      "<ipython-input-40-5a3094562b83>:13: UserWarning: FixedFormatter should only be used together with FixedLocator\n",
      "  ax.set_xticklabels(x.str.replace(',', '\\n'))\n"
     ]
    },
    {
     "data": {
      "image/png": "[encoded data removed]",
      "text/plain": [
       "<Figure size 1080x576 with 1 Axes>"
      ]
     },
     "metadata": {
      "needs_background": "light"
     },
     "output_type": "display_data"
    }
   ],
   "source": [
    "#Create bar chart showing the most popular genres from the top 10 most profitable movies\n",
    "x = genres_sorted.index\n",
    "y = genres_sorted.values\n",
    "\n",
    "fig, ax = plt.subplots(figsize=(15,8))\n",
    "\n",
    "ax.bar(x,y)\n",
    "\n",
    "ax.set_title('Most Popular Genres From Most Profitable Movies', fontsize=30)\n",
    "ax.set_xlabel('Genres', fontsize=15)\n",
    "ax.set_ylabel('Total Genre Count', fontsize=15)\n",
    "\n",
    "ax.set_xticklabels(x.str.replace(',', '\\n'))\n",
    "ax.tick_params(axis='x', labelsize=13)"
   ]
  },
  {
   "cell_type": "markdown",
   "metadata": {},
   "source": [
    "### The data above lets us know how frequent each genre appears in our Top 10 Worldwide Profitable Movies bar chart. This is important because it lets us know which genre is most popular with audiences."
   ]
  },
  {
   "cell_type": "markdown",
   "metadata": {},
   "source": [
    "# 16. Find out which genre is making the most profit from the Top 10 Most Profitable Movies."
   ]
  },
  {
   "cell_type": "markdown",
   "metadata": {},
   "source": [
    "Once again, you will use the `new_genres` column to do this."
   ]
  },
  {
   "cell_type": "code",
   "execution_count": 41,
   "metadata": {},
   "outputs": [
    {
     "data": {
      "text/html": [
       "<div>\n",
       "<style scoped>\n",
       "    .dataframe tbody tr th:only-of-type {\n",
       "        vertical-align: middle;\n",
       "    }\n",
       "\n",
       "    .dataframe tbody tr th {\n",
       "        vertical-align: top;\n",
       "    }\n",
       "\n",
       "    .dataframe thead th {\n",
       "        text-align: right;\n",
       "    }\n",
       "</style>\n",
       "<table border=\"1\" class=\"dataframe\">\n",
       "  <thead>\n",
       "    <tr style=\"text-align: right;\">\n",
       "      <th></th>\n",
       "      <th>tconst</th>\n",
       "      <th>title</th>\n",
       "      <th>genres</th>\n",
       "      <th>studio</th>\n",
       "      <th>year</th>\n",
       "      <th>production_budget</th>\n",
       "      <th>worldwide_gross</th>\n",
       "      <th>profit</th>\n",
       "      <th>new_genres</th>\n",
       "    </tr>\n",
       "  </thead>\n",
       "  <tbody>\n",
       "    <tr>\n",
       "      <th>987</th>\n",
       "      <td>tt4154756</td>\n",
       "      <td>Avengers: Infinity War</td>\n",
       "      <td>Action,Adventure,Sci-Fi</td>\n",
       "      <td>BV</td>\n",
       "      <td>2018</td>\n",
       "      <td>300000000.0</td>\n",
       "      <td>2.048134e+09</td>\n",
       "      <td>1.748134e+09</td>\n",
       "      <td>Action</td>\n",
       "    </tr>\n",
       "    <tr>\n",
       "      <th>987</th>\n",
       "      <td>tt4154756</td>\n",
       "      <td>Avengers: Infinity War</td>\n",
       "      <td>Action,Adventure,Sci-Fi</td>\n",
       "      <td>BV</td>\n",
       "      <td>2018</td>\n",
       "      <td>300000000.0</td>\n",
       "      <td>2.048134e+09</td>\n",
       "      <td>1.748134e+09</td>\n",
       "      <td>Adventure</td>\n",
       "    </tr>\n",
       "    <tr>\n",
       "      <th>987</th>\n",
       "      <td>tt4154756</td>\n",
       "      <td>Avengers: Infinity War</td>\n",
       "      <td>Action,Adventure,Sci-Fi</td>\n",
       "      <td>BV</td>\n",
       "      <td>2018</td>\n",
       "      <td>300000000.0</td>\n",
       "      <td>2.048134e+09</td>\n",
       "      <td>1.748134e+09</td>\n",
       "      <td>Sci-Fi</td>\n",
       "    </tr>\n",
       "    <tr>\n",
       "      <th>643</th>\n",
       "      <td>tt0369610</td>\n",
       "      <td>Jurassic World</td>\n",
       "      <td>Action,Adventure,Sci-Fi</td>\n",
       "      <td>Uni.</td>\n",
       "      <td>2015</td>\n",
       "      <td>215000000.0</td>\n",
       "      <td>1.648855e+09</td>\n",
       "      <td>1.433855e+09</td>\n",
       "      <td>Action</td>\n",
       "    </tr>\n",
       "    <tr>\n",
       "      <th>643</th>\n",
       "      <td>tt0369610</td>\n",
       "      <td>Jurassic World</td>\n",
       "      <td>Action,Adventure,Sci-Fi</td>\n",
       "      <td>Uni.</td>\n",
       "      <td>2015</td>\n",
       "      <td>215000000.0</td>\n",
       "      <td>1.648855e+09</td>\n",
       "      <td>1.433855e+09</td>\n",
       "      <td>Adventure</td>\n",
       "    </tr>\n",
       "    <tr>\n",
       "      <th>643</th>\n",
       "      <td>tt0369610</td>\n",
       "      <td>Jurassic World</td>\n",
       "      <td>Action,Adventure,Sci-Fi</td>\n",
       "      <td>Uni.</td>\n",
       "      <td>2015</td>\n",
       "      <td>215000000.0</td>\n",
       "      <td>1.648855e+09</td>\n",
       "      <td>1.433855e+09</td>\n",
       "      <td>Sci-Fi</td>\n",
       "    </tr>\n",
       "    <tr>\n",
       "      <th>644</th>\n",
       "      <td>tt2820852</td>\n",
       "      <td>Furious 7</td>\n",
       "      <td>Action,Crime,Thriller</td>\n",
       "      <td>Uni.</td>\n",
       "      <td>2015</td>\n",
       "      <td>190000000.0</td>\n",
       "      <td>1.518723e+09</td>\n",
       "      <td>1.328723e+09</td>\n",
       "      <td>Action</td>\n",
       "    </tr>\n",
       "    <tr>\n",
       "      <th>644</th>\n",
       "      <td>tt2820852</td>\n",
       "      <td>Furious 7</td>\n",
       "      <td>Action,Crime,Thriller</td>\n",
       "      <td>Uni.</td>\n",
       "      <td>2015</td>\n",
       "      <td>190000000.0</td>\n",
       "      <td>1.518723e+09</td>\n",
       "      <td>1.328723e+09</td>\n",
       "      <td>Crime</td>\n",
       "    </tr>\n",
       "    <tr>\n",
       "      <th>644</th>\n",
       "      <td>tt2820852</td>\n",
       "      <td>Furious 7</td>\n",
       "      <td>Action,Crime,Thriller</td>\n",
       "      <td>Uni.</td>\n",
       "      <td>2015</td>\n",
       "      <td>190000000.0</td>\n",
       "      <td>1.518723e+09</td>\n",
       "      <td>1.328723e+09</td>\n",
       "      <td>Thriller</td>\n",
       "    </tr>\n",
       "    <tr>\n",
       "      <th>988</th>\n",
       "      <td>tt1825683</td>\n",
       "      <td>Black Panther</td>\n",
       "      <td>Action,Adventure,Sci-Fi</td>\n",
       "      <td>BV</td>\n",
       "      <td>2018</td>\n",
       "      <td>200000000.0</td>\n",
       "      <td>1.348258e+09</td>\n",
       "      <td>1.148258e+09</td>\n",
       "      <td>Action</td>\n",
       "    </tr>\n",
       "    <tr>\n",
       "      <th>988</th>\n",
       "      <td>tt1825683</td>\n",
       "      <td>Black Panther</td>\n",
       "      <td>Action,Adventure,Sci-Fi</td>\n",
       "      <td>BV</td>\n",
       "      <td>2018</td>\n",
       "      <td>200000000.0</td>\n",
       "      <td>1.348258e+09</td>\n",
       "      <td>1.148258e+09</td>\n",
       "      <td>Adventure</td>\n",
       "    </tr>\n",
       "    <tr>\n",
       "      <th>988</th>\n",
       "      <td>tt1825683</td>\n",
       "      <td>Black Panther</td>\n",
       "      <td>Action,Adventure,Sci-Fi</td>\n",
       "      <td>BV</td>\n",
       "      <td>2018</td>\n",
       "      <td>200000000.0</td>\n",
       "      <td>1.348258e+09</td>\n",
       "      <td>1.148258e+09</td>\n",
       "      <td>Sci-Fi</td>\n",
       "    </tr>\n",
       "    <tr>\n",
       "      <th>989</th>\n",
       "      <td>tt4881806</td>\n",
       "      <td>Jurassic World: Fallen Kingdom</td>\n",
       "      <td>Action,Adventure,Sci-Fi</td>\n",
       "      <td>Uni.</td>\n",
       "      <td>2018</td>\n",
       "      <td>170000000.0</td>\n",
       "      <td>1.305773e+09</td>\n",
       "      <td>1.135773e+09</td>\n",
       "      <td>Action</td>\n",
       "    </tr>\n",
       "    <tr>\n",
       "      <th>989</th>\n",
       "      <td>tt4881806</td>\n",
       "      <td>Jurassic World: Fallen Kingdom</td>\n",
       "      <td>Action,Adventure,Sci-Fi</td>\n",
       "      <td>Uni.</td>\n",
       "      <td>2018</td>\n",
       "      <td>170000000.0</td>\n",
       "      <td>1.305773e+09</td>\n",
       "      <td>1.135773e+09</td>\n",
       "      <td>Adventure</td>\n",
       "    </tr>\n",
       "    <tr>\n",
       "      <th>989</th>\n",
       "      <td>tt4881806</td>\n",
       "      <td>Jurassic World: Fallen Kingdom</td>\n",
       "      <td>Action,Adventure,Sci-Fi</td>\n",
       "      <td>Uni.</td>\n",
       "      <td>2018</td>\n",
       "      <td>170000000.0</td>\n",
       "      <td>1.305773e+09</td>\n",
       "      <td>1.135773e+09</td>\n",
       "      <td>Sci-Fi</td>\n",
       "    </tr>\n",
       "    <tr>\n",
       "      <th>407</th>\n",
       "      <td>tt2294629</td>\n",
       "      <td>Frozen</td>\n",
       "      <td>Adventure,Animation,Comedy</td>\n",
       "      <td>BV</td>\n",
       "      <td>2013</td>\n",
       "      <td>150000000.0</td>\n",
       "      <td>1.272470e+09</td>\n",
       "      <td>1.122470e+09</td>\n",
       "      <td>Adventure</td>\n",
       "    </tr>\n",
       "    <tr>\n",
       "      <th>407</th>\n",
       "      <td>tt2294629</td>\n",
       "      <td>Frozen</td>\n",
       "      <td>Adventure,Animation,Comedy</td>\n",
       "      <td>BV</td>\n",
       "      <td>2013</td>\n",
       "      <td>150000000.0</td>\n",
       "      <td>1.272470e+09</td>\n",
       "      <td>1.122470e+09</td>\n",
       "      <td>Animation</td>\n",
       "    </tr>\n",
       "    <tr>\n",
       "      <th>407</th>\n",
       "      <td>tt2294629</td>\n",
       "      <td>Frozen</td>\n",
       "      <td>Adventure,Animation,Comedy</td>\n",
       "      <td>BV</td>\n",
       "      <td>2013</td>\n",
       "      <td>150000000.0</td>\n",
       "      <td>1.272470e+09</td>\n",
       "      <td>1.122470e+09</td>\n",
       "      <td>Comedy</td>\n",
       "    </tr>\n",
       "    <tr>\n",
       "      <th>646</th>\n",
       "      <td>tt2293640</td>\n",
       "      <td>Minions</td>\n",
       "      <td>Adventure,Animation,Comedy</td>\n",
       "      <td>Uni.</td>\n",
       "      <td>2015</td>\n",
       "      <td>74000000.0</td>\n",
       "      <td>1.160336e+09</td>\n",
       "      <td>1.086336e+09</td>\n",
       "      <td>Adventure</td>\n",
       "    </tr>\n",
       "    <tr>\n",
       "      <th>646</th>\n",
       "      <td>tt2293640</td>\n",
       "      <td>Minions</td>\n",
       "      <td>Adventure,Animation,Comedy</td>\n",
       "      <td>Uni.</td>\n",
       "      <td>2015</td>\n",
       "      <td>74000000.0</td>\n",
       "      <td>1.160336e+09</td>\n",
       "      <td>1.086336e+09</td>\n",
       "      <td>Animation</td>\n",
       "    </tr>\n",
       "    <tr>\n",
       "      <th>646</th>\n",
       "      <td>tt2293640</td>\n",
       "      <td>Minions</td>\n",
       "      <td>Adventure,Animation,Comedy</td>\n",
       "      <td>Uni.</td>\n",
       "      <td>2015</td>\n",
       "      <td>74000000.0</td>\n",
       "      <td>1.160336e+09</td>\n",
       "      <td>1.086336e+09</td>\n",
       "      <td>Comedy</td>\n",
       "    </tr>\n",
       "    <tr>\n",
       "      <th>645</th>\n",
       "      <td>tt2395427</td>\n",
       "      <td>Avengers: Age of Ultron</td>\n",
       "      <td>Action,Adventure,Sci-Fi</td>\n",
       "      <td>BV</td>\n",
       "      <td>2015</td>\n",
       "      <td>330600000.0</td>\n",
       "      <td>1.403014e+09</td>\n",
       "      <td>1.072414e+09</td>\n",
       "      <td>Action</td>\n",
       "    </tr>\n",
       "    <tr>\n",
       "      <th>645</th>\n",
       "      <td>tt2395427</td>\n",
       "      <td>Avengers: Age of Ultron</td>\n",
       "      <td>Action,Adventure,Sci-Fi</td>\n",
       "      <td>BV</td>\n",
       "      <td>2015</td>\n",
       "      <td>330600000.0</td>\n",
       "      <td>1.403014e+09</td>\n",
       "      <td>1.072414e+09</td>\n",
       "      <td>Adventure</td>\n",
       "    </tr>\n",
       "    <tr>\n",
       "      <th>645</th>\n",
       "      <td>tt2395427</td>\n",
       "      <td>Avengers: Age of Ultron</td>\n",
       "      <td>Action,Adventure,Sci-Fi</td>\n",
       "      <td>BV</td>\n",
       "      <td>2015</td>\n",
       "      <td>330600000.0</td>\n",
       "      <td>1.403014e+09</td>\n",
       "      <td>1.072414e+09</td>\n",
       "      <td>Sci-Fi</td>\n",
       "    </tr>\n",
       "    <tr>\n",
       "      <th>990</th>\n",
       "      <td>tt3606756</td>\n",
       "      <td>Incredibles 2</td>\n",
       "      <td>Action,Adventure,Animation</td>\n",
       "      <td>BV</td>\n",
       "      <td>2018</td>\n",
       "      <td>200000000.0</td>\n",
       "      <td>1.242521e+09</td>\n",
       "      <td>1.042521e+09</td>\n",
       "      <td>Action</td>\n",
       "    </tr>\n",
       "    <tr>\n",
       "      <th>990</th>\n",
       "      <td>tt3606756</td>\n",
       "      <td>Incredibles 2</td>\n",
       "      <td>Action,Adventure,Animation</td>\n",
       "      <td>BV</td>\n",
       "      <td>2018</td>\n",
       "      <td>200000000.0</td>\n",
       "      <td>1.242521e+09</td>\n",
       "      <td>1.042521e+09</td>\n",
       "      <td>Adventure</td>\n",
       "    </tr>\n",
       "    <tr>\n",
       "      <th>990</th>\n",
       "      <td>tt3606756</td>\n",
       "      <td>Incredibles 2</td>\n",
       "      <td>Action,Adventure,Animation</td>\n",
       "      <td>BV</td>\n",
       "      <td>2018</td>\n",
       "      <td>200000000.0</td>\n",
       "      <td>1.242521e+09</td>\n",
       "      <td>1.042521e+09</td>\n",
       "      <td>Animation</td>\n",
       "    </tr>\n",
       "    <tr>\n",
       "      <th>408</th>\n",
       "      <td>tt1300854</td>\n",
       "      <td>Iron Man 3</td>\n",
       "      <td>Action,Adventure,Sci-Fi</td>\n",
       "      <td>BV</td>\n",
       "      <td>2013</td>\n",
       "      <td>200000000.0</td>\n",
       "      <td>1.215392e+09</td>\n",
       "      <td>1.015392e+09</td>\n",
       "      <td>Action</td>\n",
       "    </tr>\n",
       "    <tr>\n",
       "      <th>408</th>\n",
       "      <td>tt1300854</td>\n",
       "      <td>Iron Man 3</td>\n",
       "      <td>Action,Adventure,Sci-Fi</td>\n",
       "      <td>BV</td>\n",
       "      <td>2013</td>\n",
       "      <td>200000000.0</td>\n",
       "      <td>1.215392e+09</td>\n",
       "      <td>1.015392e+09</td>\n",
       "      <td>Adventure</td>\n",
       "    </tr>\n",
       "    <tr>\n",
       "      <th>408</th>\n",
       "      <td>tt1300854</td>\n",
       "      <td>Iron Man 3</td>\n",
       "      <td>Action,Adventure,Sci-Fi</td>\n",
       "      <td>BV</td>\n",
       "      <td>2013</td>\n",
       "      <td>200000000.0</td>\n",
       "      <td>1.215392e+09</td>\n",
       "      <td>1.015392e+09</td>\n",
       "      <td>Sci-Fi</td>\n",
       "    </tr>\n",
       "  </tbody>\n",
       "</table>\n",
       "</div>"
      ],
      "text/plain": [
       "        tconst                           title                      genres  \\\n",
       "987  tt4154756          Avengers: Infinity War     Action,Adventure,Sci-Fi   \n",
       "987  tt4154756          Avengers: Infinity War     Action,Adventure,Sci-Fi   \n",
       "987  tt4154756          Avengers: Infinity War     Action,Adventure,Sci-Fi   \n",
       "643  tt0369610                  Jurassic World     Action,Adventure,Sci-Fi   \n",
       "643  tt0369610                  Jurassic World     Action,Adventure,Sci-Fi   \n",
       "643  tt0369610                  Jurassic World     Action,Adventure,Sci-Fi   \n",
       "644  tt2820852                       Furious 7       Action,Crime,Thriller   \n",
       "644  tt2820852                       Furious 7       Action,Crime,Thriller   \n",
       "644  tt2820852                       Furious 7       Action,Crime,Thriller   \n",
       "988  tt1825683                   Black Panther     Action,Adventure,Sci-Fi   \n",
       "988  tt1825683                   Black Panther     Action,Adventure,Sci-Fi   \n",
       "988  tt1825683                   Black Panther     Action,Adventure,Sci-Fi   \n",
       "989  tt4881806  Jurassic World: Fallen Kingdom     Action,Adventure,Sci-Fi   \n",
       "989  tt4881806  Jurassic World: Fallen Kingdom     Action,Adventure,Sci-Fi   \n",
       "989  tt4881806  Jurassic World: Fallen Kingdom     Action,Adventure,Sci-Fi   \n",
       "407  tt2294629                          Frozen  Adventure,Animation,Comedy   \n",
       "407  tt2294629                          Frozen  Adventure,Animation,Comedy   \n",
       "407  tt2294629                          Frozen  Adventure,Animation,Comedy   \n",
       "646  tt2293640                         Minions  Adventure,Animation,Comedy   \n",
       "646  tt2293640                         Minions  Adventure,Animation,Comedy   \n",
       "646  tt2293640                         Minions  Adventure,Animation,Comedy   \n",
       "645  tt2395427         Avengers: Age of Ultron     Action,Adventure,Sci-Fi   \n",
       "645  tt2395427         Avengers: Age of Ultron     Action,Adventure,Sci-Fi   \n",
       "645  tt2395427         Avengers: Age of Ultron     Action,Adventure,Sci-Fi   \n",
       "990  tt3606756                   Incredibles 2  Action,Adventure,Animation   \n",
       "990  tt3606756                   Incredibles 2  Action,Adventure,Animation   \n",
       "990  tt3606756                   Incredibles 2  Action,Adventure,Animation   \n",
       "408  tt1300854                      Iron Man 3     Action,Adventure,Sci-Fi   \n",
       "408  tt1300854                      Iron Man 3     Action,Adventure,Sci-Fi   \n",
       "408  tt1300854                      Iron Man 3     Action,Adventure,Sci-Fi   \n",
       "\n",
       "    studio  year  production_budget  worldwide_gross        profit new_genres  \n",
       "987     BV  2018        300000000.0     2.048134e+09  1.748134e+09     Action  \n",
       "987     BV  2018        300000000.0     2.048134e+09  1.748134e+09  Adventure  \n",
       "987     BV  2018        300000000.0     2.048134e+09  1.748134e+09     Sci-Fi  \n",
       "643   Uni.  2015        215000000.0     1.648855e+09  1.433855e+09     Action  \n",
       "643   Uni.  2015        215000000.0     1.648855e+09  1.433855e+09  Adventure  \n",
       "643   Uni.  2015        215000000.0     1.648855e+09  1.433855e+09     Sci-Fi  \n",
       "644   Uni.  2015        190000000.0     1.518723e+09  1.328723e+09     Action  \n",
       "644   Uni.  2015        190000000.0     1.518723e+09  1.328723e+09      Crime  \n",
       "644   Uni.  2015        190000000.0     1.518723e+09  1.328723e+09   Thriller  \n",
       "988     BV  2018        200000000.0     1.348258e+09  1.148258e+09     Action  \n",
       "988     BV  2018        200000000.0     1.348258e+09  1.148258e+09  Adventure  \n",
       "988     BV  2018        200000000.0     1.348258e+09  1.148258e+09     Sci-Fi  \n",
       "989   Uni.  2018        170000000.0     1.305773e+09  1.135773e+09     Action  \n",
       "989   Uni.  2018        170000000.0     1.305773e+09  1.135773e+09  Adventure  \n",
       "989   Uni.  2018        170000000.0     1.305773e+09  1.135773e+09     Sci-Fi  \n",
       "407     BV  2013        150000000.0     1.272470e+09  1.122470e+09  Adventure  \n",
       "407     BV  2013        150000000.0     1.272470e+09  1.122470e+09  Animation  \n",
       "407     BV  2013        150000000.0     1.272470e+09  1.122470e+09     Comedy  \n",
       "646   Uni.  2015         74000000.0     1.160336e+09  1.086336e+09  Adventure  \n",
       "646   Uni.  2015         74000000.0     1.160336e+09  1.086336e+09  Animation  \n",
       "646   Uni.  2015         74000000.0     1.160336e+09  1.086336e+09     Comedy  \n",
       "645     BV  2015        330600000.0     1.403014e+09  1.072414e+09     Action  \n",
       "645     BV  2015        330600000.0     1.403014e+09  1.072414e+09  Adventure  \n",
       "645     BV  2015        330600000.0     1.403014e+09  1.072414e+09     Sci-Fi  \n",
       "990     BV  2018        200000000.0     1.242521e+09  1.042521e+09     Action  \n",
       "990     BV  2018        200000000.0     1.242521e+09  1.042521e+09  Adventure  \n",
       "990     BV  2018        200000000.0     1.242521e+09  1.042521e+09  Animation  \n",
       "408     BV  2013        200000000.0     1.215392e+09  1.015392e+09     Action  \n",
       "408     BV  2013        200000000.0     1.215392e+09  1.015392e+09  Adventure  \n",
       "408     BV  2013        200000000.0     1.215392e+09  1.015392e+09     Sci-Fi  "
      ]
     },
     "execution_count": 41,
     "metadata": {},
     "output_type": "execute_result"
    }
   ],
   "source": [
    "query"
   ]
  },
  {
   "cell_type": "code",
   "execution_count": 42,
   "metadata": {},
   "outputs": [
    {
     "data": {
      "text/plain": [
       "new_genres\n",
       "Action       9.925070e+09\n",
       "Adventure    1.080515e+10\n",
       "Animation    3.251327e+09\n",
       "Comedy       2.208806e+09\n",
       "Crime        1.328723e+09\n",
       "Sci-Fi       7.553826e+09\n",
       "Thriller     1.328723e+09\n",
       "Name: profit, dtype: float64"
      ]
     },
     "execution_count": 42,
     "metadata": {},
     "output_type": "execute_result"
    }
   ],
   "source": [
    "genre_profits =query.groupby('new_genres')['profit'].sum()\n",
    "genre_profits"
   ]
  },
  {
   "cell_type": "code",
   "execution_count": 43,
   "metadata": {
    "scrolled": true
   },
   "outputs": [
    {
     "data": {
      "text/plain": [
       "new_genres\n",
       "Adventure    1.080515e+10\n",
       "Action       9.925070e+09\n",
       "Sci-Fi       7.553826e+09\n",
       "Animation    3.251327e+09\n",
       "Comedy       2.208806e+09\n",
       "Thriller     1.328723e+09\n",
       "Crime        1.328723e+09\n",
       "Name: profit, dtype: float64"
      ]
     },
     "execution_count": 43,
     "metadata": {},
     "output_type": "execute_result"
    }
   ],
   "source": [
    "genre_profits_sorted = genre_profits.sort_values(ascending=False)\n",
    "genre_profits_sorted"
   ]
  },
  {
   "cell_type": "markdown",
   "metadata": {},
   "source": [
    "# 17. Generate a bar plot"
   ]
  },
  {
   "cell_type": "markdown",
   "metadata": {},
   "source": [
    "In the cell below, create a sorted bar chart displaying the most profitable genres within the Top 10 Worldwide Profitable Movies.\n",
    "\n",
    "Use `fig` and `ax` as your variables.\n",
    "\n",
    "Your chart should have the following:\n",
    "1. A figsize set to `(15,8)`\n",
    "2. A title set to `Most Profitable Genres`\n",
    "3. A ylabel set to `Profit(in billions $)`\n",
    "4. An xlabel set to `Genres`"
   ]
  },
  {
   "cell_type": "code",
   "execution_count": 44,
   "metadata": {},
   "outputs": [
    {
     "data": {
      "text/plain": [
       "Index(['Adventure', 'Action', 'Sci-Fi', 'Animation', 'Comedy', 'Thriller',\n",
       "       'Crime'],\n",
       "      dtype='object', name='new_genres')"
      ]
     },
     "execution_count": 44,
     "metadata": {},
     "output_type": "execute_result"
    }
   ],
   "source": [
    "genre_profits_sorted.index"
   ]
  },
  {
   "cell_type": "code",
   "execution_count": 45,
   "metadata": {},
   "outputs": [
    {
     "data": {
      "text/plain": [
       "array([1.08051531e+10, 9.92506983e+09, 7.55382632e+09, 3.25132679e+09,\n",
       "       2.20880608e+09, 1.32872279e+09, 1.32872279e+09])"
      ]
     },
     "execution_count": 45,
     "metadata": {},
     "output_type": "execute_result"
    }
   ],
   "source": [
    "genre_profits_sorted.values"
   ]
  },
  {
   "cell_type": "code",
   "execution_count": 46,
   "metadata": {},
   "outputs": [
    {
     "name": "stderr",
     "output_type": "stream",
     "text": [
      "<ipython-input-46-1368149a0d9d>:13: UserWarning: FixedFormatter should only be used together with FixedLocator\n",
      "  ax.set_xticklabels(x.str.replace(',', '\\n'))\n"
     ]
    },
    {
     "data": {
      "image/png": "[encoded data removed]",
      "text/plain": [
       "<Figure size 1080x576 with 1 Axes>"
      ]
     },
     "metadata": {
      "needs_background": "light"
     },
     "output_type": "display_data"
    }
   ],
   "source": [
    "#Create bar chart showing the most profitable genres from the top 10 most profitable movies\n",
    "x = genre_profits_sorted.index\n",
    "y = genre_profits_sorted.values\n",
    "\n",
    "fig, ax = plt.subplots(figsize=(15,8))\n",
    "\n",
    "ax.bar(x,y)\n",
    "\n",
    "ax.set_title('Most Profitable Genres', fontsize=30)\n",
    "ax.set_xlabel('Genres', fontsize=15)\n",
    "ax.set_ylabel('Profit (in 10 billions $)', fontsize=15)\n",
    "\n",
    "ax.set_xticklabels(x.str.replace(',', '\\n'))\n",
    "ax.tick_params(axis='x', labelsize=13)"
   ]
  },
  {
   "cell_type": "markdown",
   "metadata": {},
   "source": [
    "### The data above tells us how profitable each genre is under the Top 10 Worldwide Profitable Movies bar chart. This is important because it tells us which genres have the best chance at making a profit for movie studios."
   ]
  },
  {
   "cell_type": "code",
   "execution_count": null,
   "metadata": {},
   "outputs": [],
   "source": []
  }
 ],
 "metadata": {
  "kernelspec": {
   "display_name": "learn-env",
   "language": "python",
   "name": "learn-env"
  },
  "language_info": {
   "codemirror_mode": {
    "name": "ipython",
    "version": 3
   },
   "file_extension": ".py",
   "mimetype": "text/x-python",
   "name": "python",
   "nbconvert_exporter": "python",
   "pygments_lexer": "ipython3",
   "version": "3.8.5"
  }
 },
 "nbformat": 4,
 "nbformat_minor": 4
}
